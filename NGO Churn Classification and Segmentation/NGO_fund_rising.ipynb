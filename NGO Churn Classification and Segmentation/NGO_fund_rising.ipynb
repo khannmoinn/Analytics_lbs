{
 "cells": [
  {
   "cell_type": "code",
   "execution_count": 3,
   "metadata": {},
   "outputs": [
    {
     "data": {
      "text/plain": [
       "<matplotlib.figure.Figure at 0x20163585400>"
      ]
     },
     "metadata": {},
     "output_type": "display_data"
    }
   ],
   "source": [
    "import pandas as pd\n",
    "import numpy as np\n",
    "from matplotlib import pyplot as plt\n",
    "import seaborn as se \n",
    "import sklearn as sk \n",
    "import pandas_profiling as pf\n",
    "import os \n",
    "import statsmodels.formula.api as smf\n",
    "% matplotlib inline \n",
    "plt.rcParams[\"figure.figsize\"]=10,7.5\n",
    "plt.rcParams[\"axes.grid\"]=True\n",
    "plt.gray()\n",
    "\n",
    "from sklearn.cross_validation import train_test_split\n",
    "import scipy.stats as stat\n",
    "from statsmodels.stats.outliers_influence import variance_inflation_factor\n",
    "from patsy import dmatrices\n",
    "from sklearn.linear_model import LogisticRegression"
   ]
  },
  {
   "cell_type": "code",
   "execution_count": 4,
   "metadata": {},
   "outputs": [],
   "source": [
    "os.chdir('G:\\\\EIP Classes\\\\analytics\\\\AnalytixLabs-Bangalore_Moin\\\\NGO Churn Classification and Segmentation\\\\1 - Data for Churn Modeling')"
   ]
  },
  {
   "cell_type": "markdown",
   "metadata": {},
   "source": [
    "## Data Exploratory Analysis and Data Preprocessing:-"
   ]
  },
  {
   "cell_type": "code",
   "execution_count": 5,
   "metadata": {},
   "outputs": [
    {
     "data": {
      "text/html": [
       "<div>\n",
       "<style scoped>\n",
       "    .dataframe tbody tr th:only-of-type {\n",
       "        vertical-align: middle;\n",
       "    }\n",
       "\n",
       "    .dataframe tbody tr th {\n",
       "        vertical-align: top;\n",
       "    }\n",
       "\n",
       "    .dataframe thead th {\n",
       "        text-align: right;\n",
       "    }\n",
       "</style>\n",
       "<table border=\"1\" class=\"dataframe\">\n",
       "  <thead>\n",
       "    <tr style=\"text-align: right;\">\n",
       "      <th></th>\n",
       "      <th>CLASCODE</th>\n",
       "      <th>CLASDESC</th>\n",
       "    </tr>\n",
       "  </thead>\n",
       "  <tbody>\n",
       "    <tr>\n",
       "      <th>0</th>\n",
       "      <td>b'CT'</td>\n",
       "      <td>b'CTS-item'</td>\n",
       "    </tr>\n",
       "    <tr>\n",
       "      <th>1</th>\n",
       "      <td>b'RI'</td>\n",
       "      <td>b'Request for information'</td>\n",
       "    </tr>\n",
       "    <tr>\n",
       "      <th>2</th>\n",
       "      <td>b'CM'</td>\n",
       "      <td>b'Complaint'</td>\n",
       "    </tr>\n",
       "    <tr>\n",
       "      <th>3</th>\n",
       "      <td>b'TA'</td>\n",
       "      <td>b'Threath / Accusation'</td>\n",
       "    </tr>\n",
       "    <tr>\n",
       "      <th>4</th>\n",
       "      <td>b'AK'</td>\n",
       "      <td>b'Acknowledgement'</td>\n",
       "    </tr>\n",
       "    <tr>\n",
       "      <th>5</th>\n",
       "      <td>b'RM'</td>\n",
       "      <td>b'Reminder'</td>\n",
       "    </tr>\n",
       "    <tr>\n",
       "      <th>6</th>\n",
       "      <td>b'ID'</td>\n",
       "      <td>b'Information delivery'</td>\n",
       "    </tr>\n",
       "    <tr>\n",
       "      <th>7</th>\n",
       "      <td>b'AN'</td>\n",
       "      <td>b'Answer'</td>\n",
       "    </tr>\n",
       "  </tbody>\n",
       "</table>\n",
       "</div>"
      ],
      "text/plain": [
       "  CLASCODE                    CLASDESC\n",
       "0    b'CT'                 b'CTS-item'\n",
       "1    b'RI'  b'Request for information'\n",
       "2    b'CM'                b'Complaint'\n",
       "3    b'TA'     b'Threath / Accusation'\n",
       "4    b'AK'          b'Acknowledgement'\n",
       "5    b'RM'                 b'Reminder'\n",
       "6    b'ID'     b'Information delivery'\n",
       "7    b'AN'                   b'Answer'"
      ]
     },
     "execution_count": 5,
     "metadata": {},
     "output_type": "execute_result"
    }
   ],
   "source": [
    "comclas=pd.read_sas(\"comclas.sas7bdat\")\n",
    "comclas"
   ]
  },
  {
   "cell_type": "code",
   "execution_count": 5,
   "metadata": {},
   "outputs": [
    {
     "data": {
      "text/html": [
       "<div>\n",
       "<style scoped>\n",
       "    .dataframe tbody tr th:only-of-type {\n",
       "        vertical-align: middle;\n",
       "    }\n",
       "\n",
       "    .dataframe tbody tr th {\n",
       "        vertical-align: top;\n",
       "    }\n",
       "\n",
       "    .dataframe thead th {\n",
       "        text-align: right;\n",
       "    }\n",
       "</style>\n",
       "<table border=\"1\" class=\"dataframe\">\n",
       "  <thead>\n",
       "    <tr style=\"text-align: right;\">\n",
       "      <th></th>\n",
       "      <th>MNTOPCODE</th>\n",
       "      <th>MNTOPDESC</th>\n",
       "    </tr>\n",
       "  </thead>\n",
       "  <tbody>\n",
       "    <tr>\n",
       "      <th>0</th>\n",
       "      <td>b'CAN'</td>\n",
       "      <td>b'Cancellations/replacements'</td>\n",
       "    </tr>\n",
       "    <tr>\n",
       "      <th>1</th>\n",
       "      <td>b'DIS'</td>\n",
       "      <td>b'Discontinuations'</td>\n",
       "    </tr>\n",
       "    <tr>\n",
       "      <th>2</th>\n",
       "      <td>b'MKT'</td>\n",
       "      <td>b'Marketing - Enquiries'</td>\n",
       "    </tr>\n",
       "    <tr>\n",
       "      <th>3</th>\n",
       "      <td>b'GEN'</td>\n",
       "      <td>b'General'</td>\n",
       "    </tr>\n",
       "    <tr>\n",
       "      <th>4</th>\n",
       "      <td>b'NEW'</td>\n",
       "      <td>b'New relations'</td>\n",
       "    </tr>\n",
       "  </tbody>\n",
       "</table>\n",
       "</div>"
      ],
      "text/plain": [
       "  MNTOPCODE                      MNTOPDESC\n",
       "0    b'CAN'  b'Cancellations/replacements'\n",
       "1    b'DIS'            b'Discontinuations'\n",
       "2    b'MKT'       b'Marketing - Enquiries'\n",
       "3    b'GEN'                     b'General'\n",
       "4    b'NEW'               b'New relations'"
      ]
     },
     "execution_count": 5,
     "metadata": {},
     "output_type": "execute_result"
    }
   ],
   "source": [
    "commaint=pd.read_sas(\"commaint.sas7bdat\")\n",
    "commaint.head()"
   ]
  },
  {
   "cell_type": "code",
   "execution_count": 6,
   "metadata": {},
   "outputs": [
    {
     "data": {
      "text/html": [
       "<div>\n",
       "<style scoped>\n",
       "    .dataframe tbody tr th:only-of-type {\n",
       "        vertical-align: middle;\n",
       "    }\n",
       "\n",
       "    .dataframe tbody tr th {\n",
       "        vertical-align: top;\n",
       "    }\n",
       "\n",
       "    .dataframe thead th {\n",
       "        text-align: right;\n",
       "    }\n",
       "</style>\n",
       "<table border=\"1\" class=\"dataframe\">\n",
       "  <thead>\n",
       "    <tr style=\"text-align: right;\">\n",
       "      <th></th>\n",
       "      <th>MEDIUMCODE</th>\n",
       "      <th>MEDIUMDESC</th>\n",
       "    </tr>\n",
       "  </thead>\n",
       "  <tbody>\n",
       "    <tr>\n",
       "      <th>0</th>\n",
       "      <td>b'FF'</td>\n",
       "      <td>b'Face to Face contact'</td>\n",
       "    </tr>\n",
       "    <tr>\n",
       "      <th>1</th>\n",
       "      <td>b'FX'</td>\n",
       "      <td>b'Fax'</td>\n",
       "    </tr>\n",
       "    <tr>\n",
       "      <th>2</th>\n",
       "      <td>b'TX'</td>\n",
       "      <td>b'Telex'</td>\n",
       "    </tr>\n",
       "    <tr>\n",
       "      <th>3</th>\n",
       "      <td>b'EM'</td>\n",
       "      <td>b'Electronic Mail'</td>\n",
       "    </tr>\n",
       "    <tr>\n",
       "      <th>4</th>\n",
       "      <td>b'TE'</td>\n",
       "      <td>b'Telephone call'</td>\n",
       "    </tr>\n",
       "    <tr>\n",
       "      <th>5</th>\n",
       "      <td>b'ES'</td>\n",
       "      <td>b'Express mail'</td>\n",
       "    </tr>\n",
       "    <tr>\n",
       "      <th>6</th>\n",
       "      <td>b'AM'</td>\n",
       "      <td>b'Answering machine'</td>\n",
       "    </tr>\n",
       "    <tr>\n",
       "      <th>7</th>\n",
       "      <td>b'RM'</td>\n",
       "      <td>b'Regular mail (CTS-items only)'</td>\n",
       "    </tr>\n",
       "    <tr>\n",
       "      <th>8</th>\n",
       "      <td>b'AF'</td>\n",
       "      <td>b'Application form'</td>\n",
       "    </tr>\n",
       "    <tr>\n",
       "      <th>9</th>\n",
       "      <td>b'LE'</td>\n",
       "      <td>b'Letters'</td>\n",
       "    </tr>\n",
       "    <tr>\n",
       "      <th>10</th>\n",
       "      <td>b'ME'</td>\n",
       "      <td>b'Memo'</td>\n",
       "    </tr>\n",
       "    <tr>\n",
       "      <th>11</th>\n",
       "      <td>b'CA'</td>\n",
       "      <td>b'Change of address card'</td>\n",
       "    </tr>\n",
       "    <tr>\n",
       "      <th>12</th>\n",
       "      <td>b'AC'</td>\n",
       "      <td>b'Advertisement coupon'</td>\n",
       "    </tr>\n",
       "    <tr>\n",
       "      <th>13</th>\n",
       "      <td>b'MR'</td>\n",
       "      <td>b'Mail returned'</td>\n",
       "    </tr>\n",
       "    <tr>\n",
       "      <th>14</th>\n",
       "      <td>b'NA'</td>\n",
       "      <td>b'Newspaper article'</td>\n",
       "    </tr>\n",
       "    <tr>\n",
       "      <th>15</th>\n",
       "      <td>b'TM'</td>\n",
       "      <td>b'Translator'</td>\n",
       "    </tr>\n",
       "  </tbody>\n",
       "</table>\n",
       "</div>"
      ],
      "text/plain": [
       "   MEDIUMCODE                        MEDIUMDESC\n",
       "0       b'FF'           b'Face to Face contact'\n",
       "1       b'FX'                            b'Fax'\n",
       "2       b'TX'                          b'Telex'\n",
       "3       b'EM'                b'Electronic Mail'\n",
       "4       b'TE'                 b'Telephone call'\n",
       "5       b'ES'                   b'Express mail'\n",
       "6       b'AM'              b'Answering machine'\n",
       "7       b'RM'  b'Regular mail (CTS-items only)'\n",
       "8       b'AF'               b'Application form'\n",
       "9       b'LE'                        b'Letters'\n",
       "10      b'ME'                           b'Memo'\n",
       "11      b'CA'         b'Change of address card'\n",
       "12      b'AC'           b'Advertisement coupon'\n",
       "13      b'MR'                  b'Mail returned'\n",
       "14      b'NA'              b'Newspaper article'\n",
       "15      b'TM'                     b'Translator'"
      ]
     },
     "execution_count": 6,
     "metadata": {},
     "output_type": "execute_result"
    }
   ],
   "source": [
    "commediu=pd.read_sas(\"commediu.sas7bdat\")\n",
    "commediu"
   ]
  },
  {
   "cell_type": "code",
   "execution_count": 7,
   "metadata": {},
   "outputs": [
    {
     "data": {
      "text/html": [
       "<div>\n",
       "<style scoped>\n",
       "    .dataframe tbody tr th:only-of-type {\n",
       "        vertical-align: middle;\n",
       "    }\n",
       "\n",
       "    .dataframe tbody tr th {\n",
       "        vertical-align: top;\n",
       "    }\n",
       "\n",
       "    .dataframe thead th {\n",
       "        text-align: right;\n",
       "    }\n",
       "</style>\n",
       "<table border=\"1\" class=\"dataframe\">\n",
       "  <thead>\n",
       "    <tr style=\"text-align: right;\">\n",
       "      <th></th>\n",
       "      <th>CONTID</th>\n",
       "      <th>MEDIUMCODE</th>\n",
       "      <th>MNTOPCODE</th>\n",
       "      <th>CLASCODE</th>\n",
       "      <th>EXTRELNO</th>\n",
       "      <th>CONTDIREC</th>\n",
       "      <th>CONTDATE</th>\n",
       "    </tr>\n",
       "  </thead>\n",
       "  <tbody>\n",
       "    <tr>\n",
       "      <th>0</th>\n",
       "      <td>b'000405402'</td>\n",
       "      <td>b'CI'</td>\n",
       "      <td>b'CTS'</td>\n",
       "      <td>b'CT'</td>\n",
       "      <td>b'0000020'</td>\n",
       "      <td>b'O'</td>\n",
       "      <td>1994-05-09</td>\n",
       "    </tr>\n",
       "    <tr>\n",
       "      <th>1</th>\n",
       "      <td>b'000430904'</td>\n",
       "      <td>b'CI'</td>\n",
       "      <td>b'CTS'</td>\n",
       "      <td>b'CT'</td>\n",
       "      <td>b'0000020'</td>\n",
       "      <td>b'O'</td>\n",
       "      <td>1994-06-14</td>\n",
       "    </tr>\n",
       "    <tr>\n",
       "      <th>2</th>\n",
       "      <td>b'000592732'</td>\n",
       "      <td>b'CI'</td>\n",
       "      <td>b'CTS'</td>\n",
       "      <td>b'CT'</td>\n",
       "      <td>b'0000020'</td>\n",
       "      <td>b'O'</td>\n",
       "      <td>1994-10-21</td>\n",
       "    </tr>\n",
       "    <tr>\n",
       "      <th>3</th>\n",
       "      <td>b'000593375'</td>\n",
       "      <td>b'CI'</td>\n",
       "      <td>b'CTS'</td>\n",
       "      <td>b'CT'</td>\n",
       "      <td>b'0000020'</td>\n",
       "      <td>b'O'</td>\n",
       "      <td>1994-10-21</td>\n",
       "    </tr>\n",
       "    <tr>\n",
       "      <th>4</th>\n",
       "      <td>b'000618514'</td>\n",
       "      <td>b'CI'</td>\n",
       "      <td>b'CTS'</td>\n",
       "      <td>b'CT'</td>\n",
       "      <td>b'0000020'</td>\n",
       "      <td>b'O'</td>\n",
       "      <td>1994-11-28</td>\n",
       "    </tr>\n",
       "  </tbody>\n",
       "</table>\n",
       "</div>"
      ],
      "text/plain": [
       "         CONTID MEDIUMCODE MNTOPCODE CLASCODE    EXTRELNO CONTDIREC   CONTDATE\n",
       "0  b'000405402'      b'CI'    b'CTS'    b'CT'  b'0000020'      b'O' 1994-05-09\n",
       "1  b'000430904'      b'CI'    b'CTS'    b'CT'  b'0000020'      b'O' 1994-06-14\n",
       "2  b'000592732'      b'CI'    b'CTS'    b'CT'  b'0000020'      b'O' 1994-10-21\n",
       "3  b'000593375'      b'CI'    b'CTS'    b'CT'  b'0000020'      b'O' 1994-10-21\n",
       "4  b'000618514'      b'CI'    b'CTS'    b'CT'  b'0000020'      b'O' 1994-11-28"
      ]
     },
     "execution_count": 7,
     "metadata": {},
     "output_type": "execute_result"
    }
   ],
   "source": [
    "communication=pd.read_sas(\"communication.sas7bdat\")\n",
    "communication.head()"
   ]
  },
  {
   "cell_type": "code",
   "execution_count": 8,
   "metadata": {},
   "outputs": [
    {
     "data": {
      "text/html": [
       "<div>\n",
       "<style scoped>\n",
       "    .dataframe tbody tr th:only-of-type {\n",
       "        vertical-align: middle;\n",
       "    }\n",
       "\n",
       "    .dataframe tbody tr th {\n",
       "        vertical-align: top;\n",
       "    }\n",
       "\n",
       "    .dataframe thead th {\n",
       "        text-align: right;\n",
       "    }\n",
       "</style>\n",
       "<table border=\"1\" class=\"dataframe\">\n",
       "  <thead>\n",
       "    <tr style=\"text-align: right;\">\n",
       "      <th></th>\n",
       "      <th>EXRELACTCD</th>\n",
       "      <th>EXRELACTDE</th>\n",
       "    </tr>\n",
       "  </thead>\n",
       "  <tbody>\n",
       "    <tr>\n",
       "      <th>0</th>\n",
       "      <td>b'FP'</td>\n",
       "      <td>b'CommitmentDo'</td>\n",
       "    </tr>\n",
       "    <tr>\n",
       "      <th>1</th>\n",
       "      <td>b'PS'</td>\n",
       "      <td>b'Prospect'</td>\n",
       "    </tr>\n",
       "    <tr>\n",
       "      <th>2</th>\n",
       "      <td>b'PF'</td>\n",
       "      <td>b'Prosp Fundra'</td>\n",
       "    </tr>\n",
       "    <tr>\n",
       "      <th>3</th>\n",
       "      <td>b'PP'</td>\n",
       "      <td>b'Prosp Promot'</td>\n",
       "    </tr>\n",
       "    <tr>\n",
       "      <th>4</th>\n",
       "      <td>b'GR'</td>\n",
       "      <td>b'Grantor'</td>\n",
       "    </tr>\n",
       "  </tbody>\n",
       "</table>\n",
       "</div>"
      ],
      "text/plain": [
       "  EXRELACTCD       EXRELACTDE\n",
       "0      b'FP'  b'CommitmentDo'\n",
       "1      b'PS'      b'Prospect'\n",
       "2      b'PF'  b'Prosp Fundra'\n",
       "3      b'PP'  b'Prosp Promot'\n",
       "4      b'GR'       b'Grantor'"
      ]
     },
     "execution_count": 8,
     "metadata": {},
     "output_type": "execute_result"
    }
   ],
   "source": [
    "extrelty=pd.read_sas(\"extrelty.sas7bdat\")\n",
    "extrelty.head()"
   ]
  },
  {
   "cell_type": "code",
   "execution_count": 9,
   "metadata": {},
   "outputs": [
    {
     "data": {
      "text/html": [
       "<div>\n",
       "<style scoped>\n",
       "    .dataframe tbody tr th:only-of-type {\n",
       "        vertical-align: middle;\n",
       "    }\n",
       "\n",
       "    .dataframe tbody tr th {\n",
       "        vertical-align: top;\n",
       "    }\n",
       "\n",
       "    .dataframe thead th {\n",
       "        text-align: right;\n",
       "    }\n",
       "</style>\n",
       "<table border=\"1\" class=\"dataframe\">\n",
       "  <thead>\n",
       "    <tr style=\"text-align: right;\">\n",
       "      <th></th>\n",
       "      <th>EXTRELNO</th>\n",
       "      <th>EXRELACTCD</th>\n",
       "      <th>EXTRELSTDT</th>\n",
       "      <th>EXRELDATEN</th>\n",
       "    </tr>\n",
       "  </thead>\n",
       "  <tbody>\n",
       "    <tr>\n",
       "      <th>0</th>\n",
       "      <td>b'0026414'</td>\n",
       "      <td>b'CT'</td>\n",
       "      <td>1995-02-02</td>\n",
       "      <td>NaT</td>\n",
       "    </tr>\n",
       "    <tr>\n",
       "      <th>1</th>\n",
       "      <td>b'0026419'</td>\n",
       "      <td>b'FP'</td>\n",
       "      <td>1992-03-01</td>\n",
       "      <td>NaT</td>\n",
       "    </tr>\n",
       "    <tr>\n",
       "      <th>2</th>\n",
       "      <td>b'0026424'</td>\n",
       "      <td>b'FP'</td>\n",
       "      <td>1992-03-01</td>\n",
       "      <td>1996-12-24</td>\n",
       "    </tr>\n",
       "    <tr>\n",
       "      <th>3</th>\n",
       "      <td>b'0026430'</td>\n",
       "      <td>b'FP'</td>\n",
       "      <td>1992-03-01</td>\n",
       "      <td>2006-01-31</td>\n",
       "    </tr>\n",
       "    <tr>\n",
       "      <th>4</th>\n",
       "      <td>b'0026430'</td>\n",
       "      <td>b'CT'</td>\n",
       "      <td>1997-03-07</td>\n",
       "      <td>NaT</td>\n",
       "    </tr>\n",
       "  </tbody>\n",
       "</table>\n",
       "</div>"
      ],
      "text/plain": [
       "     EXTRELNO EXRELACTCD EXTRELSTDT EXRELDATEN\n",
       "0  b'0026414'      b'CT' 1995-02-02        NaT\n",
       "1  b'0026419'      b'FP' 1992-03-01        NaT\n",
       "2  b'0026424'      b'FP' 1992-03-01 1996-12-24\n",
       "3  b'0026430'      b'FP' 1992-03-01 2006-01-31\n",
       "4  b'0026430'      b'CT' 1997-03-07        NaT"
      ]
     },
     "execution_count": 9,
     "metadata": {},
     "output_type": "execute_result"
    }
   ],
   "source": [
    "extrel=pd.read_sas(\"extrel.sas7bdat\")\n",
    "extrel.head()"
   ]
  },
  {
   "cell_type": "code",
   "execution_count": 10,
   "metadata": {},
   "outputs": [
    {
     "name": "stdout",
     "output_type": "stream",
     "text": [
      "<class 'pandas.core.frame.DataFrame'>\n",
      "RangeIndex: 26689 entries, 0 to 26688\n",
      "Data columns (total 4 columns):\n",
      "EXTRELNO      26689 non-null object\n",
      "EXRELACTCD    26689 non-null object\n",
      "EXTRELSTDT    26689 non-null datetime64[ns]\n",
      "EXRELDATEN    10168 non-null datetime64[ns]\n",
      "dtypes: datetime64[ns](2), object(2)\n",
      "memory usage: 834.1+ KB\n"
     ]
    }
   ],
   "source": [
    "extrel.info()"
   ]
  },
  {
   "cell_type": "code",
   "execution_count": 11,
   "metadata": {},
   "outputs": [
    {
     "data": {
      "text/html": [
       "<div>\n",
       "<style scoped>\n",
       "    .dataframe tbody tr th:only-of-type {\n",
       "        vertical-align: middle;\n",
       "    }\n",
       "\n",
       "    .dataframe tbody tr th {\n",
       "        vertical-align: top;\n",
       "    }\n",
       "\n",
       "    .dataframe thead th {\n",
       "        text-align: right;\n",
       "    }\n",
       "</style>\n",
       "<table border=\"1\" class=\"dataframe\">\n",
       "  <thead>\n",
       "    <tr style=\"text-align: right;\">\n",
       "      <th></th>\n",
       "      <th>EXRELACTCD</th>\n",
       "      <th>EXRELACTDE</th>\n",
       "    </tr>\n",
       "  </thead>\n",
       "  <tbody>\n",
       "    <tr>\n",
       "      <th>0</th>\n",
       "      <td>b'FP'</td>\n",
       "      <td>b'CommitmentDo'</td>\n",
       "    </tr>\n",
       "    <tr>\n",
       "      <th>1</th>\n",
       "      <td>b'PS'</td>\n",
       "      <td>b'Prospect'</td>\n",
       "    </tr>\n",
       "    <tr>\n",
       "      <th>2</th>\n",
       "      <td>b'PF'</td>\n",
       "      <td>b'Prosp Fundra'</td>\n",
       "    </tr>\n",
       "    <tr>\n",
       "      <th>3</th>\n",
       "      <td>b'PP'</td>\n",
       "      <td>b'Prosp Promot'</td>\n",
       "    </tr>\n",
       "    <tr>\n",
       "      <th>4</th>\n",
       "      <td>b'GR'</td>\n",
       "      <td>b'Grantor'</td>\n",
       "    </tr>\n",
       "  </tbody>\n",
       "</table>\n",
       "</div>"
      ],
      "text/plain": [
       "  EXRELACTCD       EXRELACTDE\n",
       "0      b'FP'  b'CommitmentDo'\n",
       "1      b'PS'      b'Prospect'\n",
       "2      b'PF'  b'Prosp Fundra'\n",
       "3      b'PP'  b'Prosp Promot'\n",
       "4      b'GR'       b'Grantor'"
      ]
     },
     "execution_count": 11,
     "metadata": {},
     "output_type": "execute_result"
    }
   ],
   "source": [
    "extrelty=pd.read_sas(\"extrelty.sas7bdat\")\n",
    "extrelty.head()"
   ]
  },
  {
   "cell_type": "code",
   "execution_count": 12,
   "metadata": {},
   "outputs": [
    {
     "data": {
      "text/html": [
       "<div>\n",
       "<style scoped>\n",
       "    .dataframe tbody tr th:only-of-type {\n",
       "        vertical-align: middle;\n",
       "    }\n",
       "\n",
       "    .dataframe tbody tr th {\n",
       "        vertical-align: top;\n",
       "    }\n",
       "\n",
       "    .dataframe thead th {\n",
       "        text-align: right;\n",
       "    }\n",
       "</style>\n",
       "<table border=\"1\" class=\"dataframe\">\n",
       "  <thead>\n",
       "    <tr style=\"text-align: right;\">\n",
       "      <th></th>\n",
       "      <th>EXTRELNO</th>\n",
       "      <th>NAME1TITLE</th>\n",
       "      <th>POSTCODE</th>\n",
       "      <th>LANGUACODE</th>\n",
       "    </tr>\n",
       "  </thead>\n",
       "  <tbody>\n",
       "    <tr>\n",
       "      <th>0</th>\n",
       "      <td>b'0000019'</td>\n",
       "      <td>b'HR'</td>\n",
       "      <td>b'2500'</td>\n",
       "      <td>b'NL'</td>\n",
       "    </tr>\n",
       "    <tr>\n",
       "      <th>1</th>\n",
       "      <td>b'0000020'</td>\n",
       "      <td>b'HR'</td>\n",
       "      <td>b'9550'</td>\n",
       "      <td>b'NL'</td>\n",
       "    </tr>\n",
       "    <tr>\n",
       "      <th>2</th>\n",
       "      <td>b'0000035'</td>\n",
       "      <td>b'HM'</td>\n",
       "      <td>b'2150'</td>\n",
       "      <td>b'NL'</td>\n",
       "    </tr>\n",
       "    <tr>\n",
       "      <th>3</th>\n",
       "      <td>b'0000042'</td>\n",
       "      <td>b'FA'</td>\n",
       "      <td>b'3012'</td>\n",
       "      <td>b'NL'</td>\n",
       "    </tr>\n",
       "    <tr>\n",
       "      <th>4</th>\n",
       "      <td>b'0000043'</td>\n",
       "      <td>b'MW'</td>\n",
       "      <td>b'3000'</td>\n",
       "      <td>b'NL'</td>\n",
       "    </tr>\n",
       "  </tbody>\n",
       "</table>\n",
       "</div>"
      ],
      "text/plain": [
       "     EXTRELNO NAME1TITLE POSTCODE LANGUACODE\n",
       "0  b'0000019'      b'HR'  b'2500'      b'NL'\n",
       "1  b'0000020'      b'HR'  b'9550'      b'NL'\n",
       "2  b'0000035'      b'HM'  b'2150'      b'NL'\n",
       "3  b'0000042'      b'FA'  b'3012'      b'NL'\n",
       "4  b'0000043'      b'MW'  b'3000'      b'NL'"
      ]
     },
     "execution_count": 12,
     "metadata": {},
     "output_type": "execute_result"
    }
   ],
   "source": [
    "nameaddr=pd.read_sas(\"nameaddr.sas7bdat\")\n",
    "nameaddr.head()\n"
   ]
  },
  {
   "cell_type": "code",
   "execution_count": 5,
   "metadata": {},
   "outputs": [
    {
     "ename": "NameError",
     "evalue": "name 'pd' is not defined",
     "output_type": "error",
     "traceback": [
      "\u001b[1;31m---------------------------------------------------------------------------\u001b[0m",
      "\u001b[1;31mNameError\u001b[0m                                 Traceback (most recent call last)",
      "\u001b[1;32m<ipython-input-5-df851013caf7>\u001b[0m in \u001b[0;36m<module>\u001b[1;34m()\u001b[0m\n\u001b[1;32m----> 1\u001b[1;33m \u001b[0mpayhistory\u001b[0m\u001b[1;33m=\u001b[0m\u001b[0mpd\u001b[0m\u001b[1;33m.\u001b[0m\u001b[0mread_sas\u001b[0m\u001b[1;33m(\u001b[0m\u001b[1;34m\"payhistory.sas7bdat\"\u001b[0m\u001b[1;33m)\u001b[0m\u001b[1;33m\u001b[0m\u001b[0m\n\u001b[0m\u001b[0;32m      2\u001b[0m \u001b[0mpayhistory\u001b[0m\u001b[1;33m.\u001b[0m\u001b[0mcolumns\u001b[0m\u001b[1;33m=\u001b[0m\u001b[1;33m[\u001b[0m\u001b[1;34m\"Payment_id\"\u001b[0m\u001b[1;33m,\u001b[0m\u001b[1;34m\"Date_of_payment\"\u001b[0m\u001b[1;33m,\u001b[0m\u001b[1;34m\"Payment_amt\"\u001b[0m\u001b[1;33m,\u001b[0m\u001b[1;34m\"cust_id\"\u001b[0m\u001b[1;33m,\u001b[0m\u001b[1;34m\"Pay_type\"\u001b[0m\u001b[1;33m,\u001b[0m\u001b[1;34m\"Status_of_payment\"\u001b[0m\u001b[1;33m]\u001b[0m\u001b[1;33m\u001b[0m\u001b[0m\n",
      "\u001b[1;31mNameError\u001b[0m: name 'pd' is not defined"
     ]
    }
   ],
   "source": [
    "payhistory=pd.read_sas(\"payhistory.sas7bdat\")\n",
    "payhistory.columns=[\"Payment_id\",\"Date_of_payment\",\"Payment_amt\",\"cust_id\",\"Pay_type\",\"Status_of_payment\"]"
   ]
  },
  {
   "cell_type": "code",
   "execution_count": 14,
   "metadata": {},
   "outputs": [
    {
     "data": {
      "text/html": [
       "<div>\n",
       "<style scoped>\n",
       "    .dataframe tbody tr th:only-of-type {\n",
       "        vertical-align: middle;\n",
       "    }\n",
       "\n",
       "    .dataframe tbody tr th {\n",
       "        vertical-align: top;\n",
       "    }\n",
       "\n",
       "    .dataframe thead th {\n",
       "        text-align: right;\n",
       "    }\n",
       "</style>\n",
       "<table border=\"1\" class=\"dataframe\">\n",
       "  <thead>\n",
       "    <tr style=\"text-align: right;\">\n",
       "      <th></th>\n",
       "      <th>Payment_id</th>\n",
       "      <th>Date_of_payment</th>\n",
       "      <th>Payment_amt</th>\n",
       "      <th>cust_id</th>\n",
       "      <th>Pay_type</th>\n",
       "      <th>Status_of_payment</th>\n",
       "    </tr>\n",
       "  </thead>\n",
       "  <tbody>\n",
       "    <tr>\n",
       "      <th>0</th>\n",
       "      <td>38.0</td>\n",
       "      <td>1993-12-31</td>\n",
       "      <td>9.57</td>\n",
       "      <td>b'0000019'</td>\n",
       "      <td>b'X'</td>\n",
       "      <td>b'CO'</td>\n",
       "    </tr>\n",
       "    <tr>\n",
       "      <th>1</th>\n",
       "      <td>39.0</td>\n",
       "      <td>1993-12-31</td>\n",
       "      <td>41.32</td>\n",
       "      <td>b'0000020'</td>\n",
       "      <td>b'X'</td>\n",
       "      <td>b'CO'</td>\n",
       "    </tr>\n",
       "    <tr>\n",
       "      <th>2</th>\n",
       "      <td>40.0</td>\n",
       "      <td>1993-12-31</td>\n",
       "      <td>13.10</td>\n",
       "      <td>b'0000020'</td>\n",
       "      <td>b'X'</td>\n",
       "      <td>b'CO'</td>\n",
       "    </tr>\n",
       "    <tr>\n",
       "      <th>3</th>\n",
       "      <td>54091.0</td>\n",
       "      <td>1994-01-01</td>\n",
       "      <td>2.02</td>\n",
       "      <td>b'0000020'</td>\n",
       "      <td>b'X'</td>\n",
       "      <td>b'CO'</td>\n",
       "    </tr>\n",
       "    <tr>\n",
       "      <th>4</th>\n",
       "      <td>104480.0</td>\n",
       "      <td>1994-05-19</td>\n",
       "      <td>0.50</td>\n",
       "      <td>b'0000020'</td>\n",
       "      <td>b'D'</td>\n",
       "      <td>b'OK'</td>\n",
       "    </tr>\n",
       "  </tbody>\n",
       "</table>\n",
       "</div>"
      ],
      "text/plain": [
       "   Payment_id Date_of_payment  Payment_amt     cust_id Pay_type  \\\n",
       "0        38.0      1993-12-31         9.57  b'0000019'     b'X'   \n",
       "1        39.0      1993-12-31        41.32  b'0000020'     b'X'   \n",
       "2        40.0      1993-12-31        13.10  b'0000020'     b'X'   \n",
       "3     54091.0      1994-01-01         2.02  b'0000020'     b'X'   \n",
       "4    104480.0      1994-05-19         0.50  b'0000020'     b'D'   \n",
       "\n",
       "  Status_of_payment  \n",
       "0             b'CO'  \n",
       "1             b'CO'  \n",
       "2             b'CO'  \n",
       "3             b'CO'  \n",
       "4             b'OK'  "
      ]
     },
     "execution_count": 14,
     "metadata": {},
     "output_type": "execute_result"
    }
   ],
   "source": [
    "payhistory.head()"
   ]
  },
  {
   "cell_type": "code",
   "execution_count": 4,
   "metadata": {},
   "outputs": [
    {
     "ename": "NameError",
     "evalue": "name 'extrel' is not defined",
     "output_type": "error",
     "traceback": [
      "\u001b[1;31m---------------------------------------------------------------------------\u001b[0m",
      "\u001b[1;31mNameError\u001b[0m                                 Traceback (most recent call last)",
      "\u001b[1;32m<ipython-input-4-316b9defba72>\u001b[0m in \u001b[0;36m<module>\u001b[1;34m()\u001b[0m\n\u001b[1;32m----> 1\u001b[1;33m \u001b[0mextrel\u001b[0m\u001b[1;33m.\u001b[0m\u001b[0mcolumns\u001b[0m\u001b[1;33m=\u001b[0m\u001b[1;33m[\u001b[0m\u001b[1;34m\"cust_id\"\u001b[0m\u001b[1;33m,\u001b[0m\u001b[1;34m\"Activity_code\"\u001b[0m\u001b[1;33m,\u001b[0m\u001b[1;34m\"Rel_start_date\"\u001b[0m\u001b[1;33m,\u001b[0m\u001b[1;34m\"Rel_end_date\"\u001b[0m\u001b[1;33m]\u001b[0m\u001b[1;33m\u001b[0m\u001b[0m\n\u001b[0m",
      "\u001b[1;31mNameError\u001b[0m: name 'extrel' is not defined"
     ]
    }
   ],
   "source": [
    "extrel.columns=[\"cust_id\",\"Activity_code\",\"Rel_start_date\",\"Rel_end_date\"]"
   ]
  },
  {
   "cell_type": "code",
   "execution_count": 16,
   "metadata": {},
   "outputs": [
    {
     "data": {
      "text/html": [
       "<div>\n",
       "<style scoped>\n",
       "    .dataframe tbody tr th:only-of-type {\n",
       "        vertical-align: middle;\n",
       "    }\n",
       "\n",
       "    .dataframe tbody tr th {\n",
       "        vertical-align: top;\n",
       "    }\n",
       "\n",
       "    .dataframe thead th {\n",
       "        text-align: right;\n",
       "    }\n",
       "</style>\n",
       "<table border=\"1\" class=\"dataframe\">\n",
       "  <thead>\n",
       "    <tr style=\"text-align: right;\">\n",
       "      <th></th>\n",
       "      <th>cust_id</th>\n",
       "      <th>Activity_code</th>\n",
       "      <th>Rel_start_date</th>\n",
       "      <th>Rel_end_date</th>\n",
       "    </tr>\n",
       "  </thead>\n",
       "  <tbody>\n",
       "    <tr>\n",
       "      <th>0</th>\n",
       "      <td>b'0026414'</td>\n",
       "      <td>b'CT'</td>\n",
       "      <td>1995-02-02</td>\n",
       "      <td>NaT</td>\n",
       "    </tr>\n",
       "    <tr>\n",
       "      <th>1</th>\n",
       "      <td>b'0026419'</td>\n",
       "      <td>b'FP'</td>\n",
       "      <td>1992-03-01</td>\n",
       "      <td>NaT</td>\n",
       "    </tr>\n",
       "    <tr>\n",
       "      <th>2</th>\n",
       "      <td>b'0026424'</td>\n",
       "      <td>b'FP'</td>\n",
       "      <td>1992-03-01</td>\n",
       "      <td>1996-12-24</td>\n",
       "    </tr>\n",
       "    <tr>\n",
       "      <th>3</th>\n",
       "      <td>b'0026430'</td>\n",
       "      <td>b'FP'</td>\n",
       "      <td>1992-03-01</td>\n",
       "      <td>2006-01-31</td>\n",
       "    </tr>\n",
       "    <tr>\n",
       "      <th>4</th>\n",
       "      <td>b'0026430'</td>\n",
       "      <td>b'CT'</td>\n",
       "      <td>1997-03-07</td>\n",
       "      <td>NaT</td>\n",
       "    </tr>\n",
       "  </tbody>\n",
       "</table>\n",
       "</div>"
      ],
      "text/plain": [
       "      cust_id Activity_code Rel_start_date Rel_end_date\n",
       "0  b'0026414'         b'CT'     1995-02-02          NaT\n",
       "1  b'0026419'         b'FP'     1992-03-01          NaT\n",
       "2  b'0026424'         b'FP'     1992-03-01   1996-12-24\n",
       "3  b'0026430'         b'FP'     1992-03-01   2006-01-31\n",
       "4  b'0026430'         b'CT'     1997-03-07          NaT"
      ]
     },
     "execution_count": 16,
     "metadata": {},
     "output_type": "execute_result"
    }
   ],
   "source": [
    "extrel.head()"
   ]
  },
  {
   "cell_type": "code",
   "execution_count": 17,
   "metadata": {},
   "outputs": [
    {
     "data": {
      "text/html": [
       "<div>\n",
       "<style scoped>\n",
       "    .dataframe tbody tr th:only-of-type {\n",
       "        vertical-align: middle;\n",
       "    }\n",
       "\n",
       "    .dataframe tbody tr th {\n",
       "        vertical-align: top;\n",
       "    }\n",
       "\n",
       "    .dataframe thead th {\n",
       "        text-align: right;\n",
       "    }\n",
       "</style>\n",
       "<table border=\"1\" class=\"dataframe\">\n",
       "  <thead>\n",
       "    <tr style=\"text-align: right;\">\n",
       "      <th></th>\n",
       "      <th>index</th>\n",
       "      <th>Activity_code</th>\n",
       "    </tr>\n",
       "  </thead>\n",
       "  <tbody>\n",
       "    <tr>\n",
       "      <th>0</th>\n",
       "      <td>b'FP'</td>\n",
       "      <td>11442</td>\n",
       "    </tr>\n",
       "    <tr>\n",
       "      <th>1</th>\n",
       "      <td>b'PS'</td>\n",
       "      <td>10677</td>\n",
       "    </tr>\n",
       "    <tr>\n",
       "      <th>2</th>\n",
       "      <td>b'CT'</td>\n",
       "      <td>3325</td>\n",
       "    </tr>\n",
       "    <tr>\n",
       "      <th>3</th>\n",
       "      <td>b'MR'</td>\n",
       "      <td>1110</td>\n",
       "    </tr>\n",
       "    <tr>\n",
       "      <th>4</th>\n",
       "      <td>b'TR'</td>\n",
       "      <td>45</td>\n",
       "    </tr>\n",
       "    <tr>\n",
       "      <th>5</th>\n",
       "      <td>b'AP'</td>\n",
       "      <td>37</td>\n",
       "    </tr>\n",
       "    <tr>\n",
       "      <th>6</th>\n",
       "      <td>b'SP'</td>\n",
       "      <td>13</td>\n",
       "    </tr>\n",
       "    <tr>\n",
       "      <th>7</th>\n",
       "      <td>b'PF'</td>\n",
       "      <td>9</td>\n",
       "    </tr>\n",
       "    <tr>\n",
       "      <th>8</th>\n",
       "      <td>b'OR'</td>\n",
       "      <td>7</td>\n",
       "    </tr>\n",
       "    <tr>\n",
       "      <th>9</th>\n",
       "      <td>b'PO'</td>\n",
       "      <td>5</td>\n",
       "    </tr>\n",
       "    <tr>\n",
       "      <th>10</th>\n",
       "      <td>b'PV'</td>\n",
       "      <td>5</td>\n",
       "    </tr>\n",
       "    <tr>\n",
       "      <th>11</th>\n",
       "      <td>b'OI'</td>\n",
       "      <td>4</td>\n",
       "    </tr>\n",
       "    <tr>\n",
       "      <th>12</th>\n",
       "      <td>b'GR'</td>\n",
       "      <td>4</td>\n",
       "    </tr>\n",
       "    <tr>\n",
       "      <th>13</th>\n",
       "      <td>b'PP'</td>\n",
       "      <td>2</td>\n",
       "    </tr>\n",
       "    <tr>\n",
       "      <th>14</th>\n",
       "      <td>b'RV'</td>\n",
       "      <td>2</td>\n",
       "    </tr>\n",
       "    <tr>\n",
       "      <th>15</th>\n",
       "      <td>b'BM'</td>\n",
       "      <td>1</td>\n",
       "    </tr>\n",
       "    <tr>\n",
       "      <th>16</th>\n",
       "      <td>b'PT'</td>\n",
       "      <td>1</td>\n",
       "    </tr>\n",
       "  </tbody>\n",
       "</table>\n",
       "</div>"
      ],
      "text/plain": [
       "    index  Activity_code\n",
       "0   b'FP'          11442\n",
       "1   b'PS'          10677\n",
       "2   b'CT'           3325\n",
       "3   b'MR'           1110\n",
       "4   b'TR'             45\n",
       "5   b'AP'             37\n",
       "6   b'SP'             13\n",
       "7   b'PF'              9\n",
       "8   b'OR'              7\n",
       "9   b'PO'              5\n",
       "10  b'PV'              5\n",
       "11  b'OI'              4\n",
       "12  b'GR'              4\n",
       "13  b'PP'              2\n",
       "14  b'RV'              2\n",
       "15  b'BM'              1\n",
       "16  b'PT'              1"
      ]
     },
     "execution_count": 17,
     "metadata": {},
     "output_type": "execute_result"
    }
   ],
   "source": [
    "pd.DataFrame(extrel.Activity_code.value_counts()).reset_index()"
   ]
  },
  {
   "cell_type": "code",
   "execution_count": 18,
   "metadata": {},
   "outputs": [],
   "source": [
    "# Mapping:-\n",
    "mapping={b'FP':b'CommitmentDo',b'PS':b'Prospect',b'PF':b'Prosp Fundra',\n",
    "        b'PP':b'Prosp Promot',b'GR':b'Grantor',b'CT':b'Contributor',b'FR':b'Friend',\n",
    "        b'AP':b'Active Press',b'SP':b'Supplier',b'TR':b'Translator',b'FN':b'Fan',b'**':b'*No Relation',\n",
    "        b'MG':b'Mbr FP group',b'IV':b'Volun Intern',b'RV':b'VoluntRegion',b'PV':b'Volunt Prosp',\n",
    "        b'BM':b'Board Member',b'CP':b'ConfirmProsp',b'PM':b'Promotor',b'PT':b'Prosp Transl',b'OR':b'Organization',\n",
    "        b'PO':b'Plan Office',b'OI':b'Offic Inst',b'JS':b'Job sollicit',b'MR':b'Mag Reader',b'PC':b'Prosp Contr'}"
   ]
  },
  {
   "cell_type": "code",
   "execution_count": 19,
   "metadata": {},
   "outputs": [
    {
     "data": {
      "text/plain": [
       "{b'**': b'*No Relation',\n",
       " b'AP': b'Active Press',\n",
       " b'BM': b'Board Member',\n",
       " b'CP': b'ConfirmProsp',\n",
       " b'CT': b'Contributor',\n",
       " b'FN': b'Fan',\n",
       " b'FP': b'CommitmentDo',\n",
       " b'FR': b'Friend',\n",
       " b'GR': b'Grantor',\n",
       " b'IV': b'Volun Intern',\n",
       " b'JS': b'Job sollicit',\n",
       " b'MG': b'Mbr FP group',\n",
       " b'MR': b'Mag Reader',\n",
       " b'OI': b'Offic Inst',\n",
       " b'OR': b'Organization',\n",
       " b'PC': b'Prosp Contr',\n",
       " b'PF': b'Prosp Fundra',\n",
       " b'PM': b'Promotor',\n",
       " b'PO': b'Plan Office',\n",
       " b'PP': b'Prosp Promot',\n",
       " b'PS': b'Prospect',\n",
       " b'PT': b'Prosp Transl',\n",
       " b'PV': b'Volunt Prosp',\n",
       " b'RV': b'VoluntRegion',\n",
       " b'SP': b'Supplier',\n",
       " b'TR': b'Translator'}"
      ]
     },
     "execution_count": 19,
     "metadata": {},
     "output_type": "execute_result"
    }
   ],
   "source": [
    "mapping"
   ]
  },
  {
   "cell_type": "code",
   "execution_count": 20,
   "metadata": {},
   "outputs": [],
   "source": [
    "extrel[\"Activity_desc\"]=extrel[\"Activity_code\"].apply(lambda x: mapping[x])"
   ]
  },
  {
   "cell_type": "code",
   "execution_count": 21,
   "metadata": {},
   "outputs": [
    {
     "data": {
      "text/html": [
       "<div>\n",
       "<style scoped>\n",
       "    .dataframe tbody tr th:only-of-type {\n",
       "        vertical-align: middle;\n",
       "    }\n",
       "\n",
       "    .dataframe tbody tr th {\n",
       "        vertical-align: top;\n",
       "    }\n",
       "\n",
       "    .dataframe thead th {\n",
       "        text-align: right;\n",
       "    }\n",
       "</style>\n",
       "<table border=\"1\" class=\"dataframe\">\n",
       "  <thead>\n",
       "    <tr style=\"text-align: right;\">\n",
       "      <th></th>\n",
       "      <th>cust_id</th>\n",
       "      <th>Activity_code</th>\n",
       "      <th>Rel_start_date</th>\n",
       "      <th>Rel_end_date</th>\n",
       "      <th>Activity_desc</th>\n",
       "    </tr>\n",
       "  </thead>\n",
       "  <tbody>\n",
       "    <tr>\n",
       "      <th>0</th>\n",
       "      <td>b'0026414'</td>\n",
       "      <td>b'CT'</td>\n",
       "      <td>1995-02-02</td>\n",
       "      <td>NaT</td>\n",
       "      <td>b'Contributor'</td>\n",
       "    </tr>\n",
       "    <tr>\n",
       "      <th>1</th>\n",
       "      <td>b'0026419'</td>\n",
       "      <td>b'FP'</td>\n",
       "      <td>1992-03-01</td>\n",
       "      <td>NaT</td>\n",
       "      <td>b'CommitmentDo'</td>\n",
       "    </tr>\n",
       "    <tr>\n",
       "      <th>2</th>\n",
       "      <td>b'0026424'</td>\n",
       "      <td>b'FP'</td>\n",
       "      <td>1992-03-01</td>\n",
       "      <td>1996-12-24</td>\n",
       "      <td>b'CommitmentDo'</td>\n",
       "    </tr>\n",
       "    <tr>\n",
       "      <th>3</th>\n",
       "      <td>b'0026430'</td>\n",
       "      <td>b'FP'</td>\n",
       "      <td>1992-03-01</td>\n",
       "      <td>2006-01-31</td>\n",
       "      <td>b'CommitmentDo'</td>\n",
       "    </tr>\n",
       "    <tr>\n",
       "      <th>4</th>\n",
       "      <td>b'0026430'</td>\n",
       "      <td>b'CT'</td>\n",
       "      <td>1997-03-07</td>\n",
       "      <td>NaT</td>\n",
       "      <td>b'Contributor'</td>\n",
       "    </tr>\n",
       "  </tbody>\n",
       "</table>\n",
       "</div>"
      ],
      "text/plain": [
       "      cust_id Activity_code Rel_start_date Rel_end_date    Activity_desc\n",
       "0  b'0026414'         b'CT'     1995-02-02          NaT   b'Contributor'\n",
       "1  b'0026419'         b'FP'     1992-03-01          NaT  b'CommitmentDo'\n",
       "2  b'0026424'         b'FP'     1992-03-01   1996-12-24  b'CommitmentDo'\n",
       "3  b'0026430'         b'FP'     1992-03-01   2006-01-31  b'CommitmentDo'\n",
       "4  b'0026430'         b'CT'     1997-03-07          NaT   b'Contributor'"
      ]
     },
     "execution_count": 21,
     "metadata": {},
     "output_type": "execute_result"
    }
   ],
   "source": [
    "extrel.head()"
   ]
  },
  {
   "cell_type": "code",
   "execution_count": 1,
   "metadata": {},
   "outputs": [],
   "source": [
    "final_data=extrel"
   ]
  },
  {
   "cell_type": "code",
   "execution_count": 23,
   "metadata": {},
   "outputs": [
    {
     "data": {
      "text/html": [
       "<div>\n",
       "<style scoped>\n",
       "    .dataframe tbody tr th:only-of-type {\n",
       "        vertical-align: middle;\n",
       "    }\n",
       "\n",
       "    .dataframe tbody tr th {\n",
       "        vertical-align: top;\n",
       "    }\n",
       "\n",
       "    .dataframe thead th {\n",
       "        text-align: right;\n",
       "    }\n",
       "</style>\n",
       "<table border=\"1\" class=\"dataframe\">\n",
       "  <thead>\n",
       "    <tr style=\"text-align: right;\">\n",
       "      <th></th>\n",
       "      <th>cust_id</th>\n",
       "      <th>Activity_code</th>\n",
       "      <th>Rel_start_date</th>\n",
       "      <th>Rel_end_date</th>\n",
       "      <th>Activity_desc</th>\n",
       "    </tr>\n",
       "  </thead>\n",
       "  <tbody>\n",
       "    <tr>\n",
       "      <th>0</th>\n",
       "      <td>b'0026414'</td>\n",
       "      <td>b'CT'</td>\n",
       "      <td>1995-02-02</td>\n",
       "      <td>NaT</td>\n",
       "      <td>b'Contributor'</td>\n",
       "    </tr>\n",
       "    <tr>\n",
       "      <th>1</th>\n",
       "      <td>b'0026419'</td>\n",
       "      <td>b'FP'</td>\n",
       "      <td>1992-03-01</td>\n",
       "      <td>NaT</td>\n",
       "      <td>b'CommitmentDo'</td>\n",
       "    </tr>\n",
       "    <tr>\n",
       "      <th>2</th>\n",
       "      <td>b'0026424'</td>\n",
       "      <td>b'FP'</td>\n",
       "      <td>1992-03-01</td>\n",
       "      <td>1996-12-24</td>\n",
       "      <td>b'CommitmentDo'</td>\n",
       "    </tr>\n",
       "    <tr>\n",
       "      <th>3</th>\n",
       "      <td>b'0026430'</td>\n",
       "      <td>b'FP'</td>\n",
       "      <td>1992-03-01</td>\n",
       "      <td>2006-01-31</td>\n",
       "      <td>b'CommitmentDo'</td>\n",
       "    </tr>\n",
       "    <tr>\n",
       "      <th>4</th>\n",
       "      <td>b'0026430'</td>\n",
       "      <td>b'CT'</td>\n",
       "      <td>1997-03-07</td>\n",
       "      <td>NaT</td>\n",
       "      <td>b'Contributor'</td>\n",
       "    </tr>\n",
       "  </tbody>\n",
       "</table>\n",
       "</div>"
      ],
      "text/plain": [
       "      cust_id Activity_code Rel_start_date Rel_end_date    Activity_desc\n",
       "0  b'0026414'         b'CT'     1995-02-02          NaT   b'Contributor'\n",
       "1  b'0026419'         b'FP'     1992-03-01          NaT  b'CommitmentDo'\n",
       "2  b'0026424'         b'FP'     1992-03-01   1996-12-24  b'CommitmentDo'\n",
       "3  b'0026430'         b'FP'     1992-03-01   2006-01-31  b'CommitmentDo'\n",
       "4  b'0026430'         b'CT'     1997-03-07          NaT   b'Contributor'"
      ]
     },
     "execution_count": 23,
     "metadata": {},
     "output_type": "execute_result"
    }
   ],
   "source": [
    "final_data.head()"
   ]
  },
  {
   "cell_type": "code",
   "execution_count": 24,
   "metadata": {},
   "outputs": [],
   "source": [
    "final_data=pd.merge(left=extrel,right=payhistory,on=\"cust_id\",how=\"inner\")"
   ]
  },
  {
   "cell_type": "code",
   "execution_count": 2,
   "metadata": {},
   "outputs": [],
   "source": [
    "final_data.head()"
   ]
  },
  {
   "cell_type": "code",
   "execution_count": 3,
   "metadata": {},
   "outputs": [],
   "source": [
    "print(pay.shape)\n"
   ]
  },
  {
   "cell_type": "code",
   "execution_count": 27,
   "metadata": {},
   "outputs": [
    {
     "data": {
      "text/plain": [
       "Index(['EXTRELNO', 'NAME1TITLE', 'POSTCODE', 'LANGUACODE'], dtype='object')"
      ]
     },
     "execution_count": 27,
     "metadata": {},
     "output_type": "execute_result"
    }
   ],
   "source": [
    "nameaddr.columns"
   ]
  },
  {
   "cell_type": "code",
   "execution_count": 28,
   "metadata": {},
   "outputs": [],
   "source": [
    "nameaddr.columns=[\"cust_id\",\"Cust_name\",\"Post_code\",\"Mailing_lang\"]"
   ]
  },
  {
   "cell_type": "code",
   "execution_count": 29,
   "metadata": {},
   "outputs": [],
   "source": [
    "final_data=pd.merge(left=final_data,right=nameaddr,on=\"cust_id\",how=\"inner\")"
   ]
  },
  {
   "cell_type": "code",
   "execution_count": 30,
   "metadata": {
    "scrolled": true
   },
   "outputs": [
    {
     "data": {
      "text/html": [
       "<div>\n",
       "<style scoped>\n",
       "    .dataframe tbody tr th:only-of-type {\n",
       "        vertical-align: middle;\n",
       "    }\n",
       "\n",
       "    .dataframe tbody tr th {\n",
       "        vertical-align: top;\n",
       "    }\n",
       "\n",
       "    .dataframe thead th {\n",
       "        text-align: right;\n",
       "    }\n",
       "</style>\n",
       "<table border=\"1\" class=\"dataframe\">\n",
       "  <thead>\n",
       "    <tr style=\"text-align: right;\">\n",
       "      <th></th>\n",
       "      <th>cust_id</th>\n",
       "      <th>Activity_code</th>\n",
       "      <th>Rel_start_date</th>\n",
       "      <th>Rel_end_date</th>\n",
       "      <th>Activity_desc</th>\n",
       "      <th>Payment_id</th>\n",
       "      <th>Date_of_payment</th>\n",
       "      <th>Payment_amt</th>\n",
       "      <th>Pay_type</th>\n",
       "      <th>Status_of_payment</th>\n",
       "      <th>Cust_name</th>\n",
       "      <th>Post_code</th>\n",
       "      <th>Mailing_lang</th>\n",
       "    </tr>\n",
       "  </thead>\n",
       "  <tbody>\n",
       "    <tr>\n",
       "      <th>0</th>\n",
       "      <td>b'0026414'</td>\n",
       "      <td>b'CT'</td>\n",
       "      <td>1995-02-02</td>\n",
       "      <td>NaT</td>\n",
       "      <td>b'Contributor'</td>\n",
       "      <td>40099.0</td>\n",
       "      <td>1993-12-31</td>\n",
       "      <td>10.58</td>\n",
       "      <td>b'X'</td>\n",
       "      <td>b'CO'</td>\n",
       "      <td>b'MW'</td>\n",
       "      <td>b'8300'</td>\n",
       "      <td>b'NL'</td>\n",
       "    </tr>\n",
       "    <tr>\n",
       "      <th>1</th>\n",
       "      <td>b'0026414'</td>\n",
       "      <td>b'CT'</td>\n",
       "      <td>1995-02-02</td>\n",
       "      <td>NaT</td>\n",
       "      <td>b'Contributor'</td>\n",
       "      <td>77670.0</td>\n",
       "      <td>1994-01-01</td>\n",
       "      <td>2.02</td>\n",
       "      <td>b'X'</td>\n",
       "      <td>b'CO'</td>\n",
       "      <td>b'MW'</td>\n",
       "      <td>b'8300'</td>\n",
       "      <td>b'NL'</td>\n",
       "    </tr>\n",
       "    <tr>\n",
       "      <th>2</th>\n",
       "      <td>b'0026414'</td>\n",
       "      <td>b'CT'</td>\n",
       "      <td>1995-02-02</td>\n",
       "      <td>NaT</td>\n",
       "      <td>b'Contributor'</td>\n",
       "      <td>115809.0</td>\n",
       "      <td>1994-05-19</td>\n",
       "      <td>0.50</td>\n",
       "      <td>b'D'</td>\n",
       "      <td>b'OK'</td>\n",
       "      <td>b'MW'</td>\n",
       "      <td>b'8300'</td>\n",
       "      <td>b'NL'</td>\n",
       "    </tr>\n",
       "    <tr>\n",
       "      <th>3</th>\n",
       "      <td>b'0026414'</td>\n",
       "      <td>b'CT'</td>\n",
       "      <td>1995-02-02</td>\n",
       "      <td>NaT</td>\n",
       "      <td>b'Contributor'</td>\n",
       "      <td>139954.0</td>\n",
       "      <td>1994-06-14</td>\n",
       "      <td>0.50</td>\n",
       "      <td>b'D'</td>\n",
       "      <td>b'OK'</td>\n",
       "      <td>b'MW'</td>\n",
       "      <td>b'8300'</td>\n",
       "      <td>b'NL'</td>\n",
       "    </tr>\n",
       "    <tr>\n",
       "      <th>4</th>\n",
       "      <td>b'0026414'</td>\n",
       "      <td>b'CT'</td>\n",
       "      <td>1995-02-02</td>\n",
       "      <td>NaT</td>\n",
       "      <td>b'Contributor'</td>\n",
       "      <td>162748.0</td>\n",
       "      <td>1994-07-05</td>\n",
       "      <td>0.50</td>\n",
       "      <td>b'D'</td>\n",
       "      <td>b'OK'</td>\n",
       "      <td>b'MW'</td>\n",
       "      <td>b'8300'</td>\n",
       "      <td>b'NL'</td>\n",
       "    </tr>\n",
       "  </tbody>\n",
       "</table>\n",
       "</div>"
      ],
      "text/plain": [
       "      cust_id Activity_code Rel_start_date Rel_end_date   Activity_desc  \\\n",
       "0  b'0026414'         b'CT'     1995-02-02          NaT  b'Contributor'   \n",
       "1  b'0026414'         b'CT'     1995-02-02          NaT  b'Contributor'   \n",
       "2  b'0026414'         b'CT'     1995-02-02          NaT  b'Contributor'   \n",
       "3  b'0026414'         b'CT'     1995-02-02          NaT  b'Contributor'   \n",
       "4  b'0026414'         b'CT'     1995-02-02          NaT  b'Contributor'   \n",
       "\n",
       "   Payment_id Date_of_payment  Payment_amt Pay_type Status_of_payment  \\\n",
       "0     40099.0      1993-12-31        10.58     b'X'             b'CO'   \n",
       "1     77670.0      1994-01-01         2.02     b'X'             b'CO'   \n",
       "2    115809.0      1994-05-19         0.50     b'D'             b'OK'   \n",
       "3    139954.0      1994-06-14         0.50     b'D'             b'OK'   \n",
       "4    162748.0      1994-07-05         0.50     b'D'             b'OK'   \n",
       "\n",
       "  Cust_name Post_code Mailing_lang  \n",
       "0     b'MW'   b'8300'        b'NL'  \n",
       "1     b'MW'   b'8300'        b'NL'  \n",
       "2     b'MW'   b'8300'        b'NL'  \n",
       "3     b'MW'   b'8300'        b'NL'  \n",
       "4     b'MW'   b'8300'        b'NL'  "
      ]
     },
     "execution_count": 30,
     "metadata": {},
     "output_type": "execute_result"
    }
   ],
   "source": [
    "final_data.head()"
   ]
  },
  {
   "cell_type": "code",
   "execution_count": 31,
   "metadata": {},
   "outputs": [
    {
     "data": {
      "text/plain": [
       "1283735"
      ]
     },
     "execution_count": 31,
     "metadata": {},
     "output_type": "execute_result"
    }
   ],
   "source": [
    "final_data.cust_id.count()"
   ]
  },
  {
   "cell_type": "markdown",
   "metadata": {},
   "source": [
    "### Creating some new important Variables:-"
   ]
  },
  {
   "cell_type": "code",
   "execution_count": 32,
   "metadata": {},
   "outputs": [],
   "source": [
    "temp=final_data.groupby(\"cust_id\")\n",
    "Monitary=pd.DataFrame(temp[\"Payment_amt\"].sum())"
   ]
  },
  {
   "cell_type": "code",
   "execution_count": 33,
   "metadata": {},
   "outputs": [
    {
     "data": {
      "text/html": [
       "<div>\n",
       "<style scoped>\n",
       "    .dataframe tbody tr th:only-of-type {\n",
       "        vertical-align: middle;\n",
       "    }\n",
       "\n",
       "    .dataframe tbody tr th {\n",
       "        vertical-align: top;\n",
       "    }\n",
       "\n",
       "    .dataframe thead th {\n",
       "        text-align: right;\n",
       "    }\n",
       "</style>\n",
       "<table border=\"1\" class=\"dataframe\">\n",
       "  <thead>\n",
       "    <tr style=\"text-align: right;\">\n",
       "      <th></th>\n",
       "      <th>Payment_amt</th>\n",
       "    </tr>\n",
       "    <tr>\n",
       "      <th>cust_id</th>\n",
       "      <th></th>\n",
       "    </tr>\n",
       "  </thead>\n",
       "  <tbody>\n",
       "    <tr>\n",
       "      <th>b'0026414'</th>\n",
       "      <td>3112.80</td>\n",
       "    </tr>\n",
       "    <tr>\n",
       "      <th>b'0026419'</th>\n",
       "      <td>3155.05</td>\n",
       "    </tr>\n",
       "    <tr>\n",
       "      <th>b'0026424'</th>\n",
       "      <td>524.85</td>\n",
       "    </tr>\n",
       "    <tr>\n",
       "      <th>b'0026430'</th>\n",
       "      <td>5572.26</td>\n",
       "    </tr>\n",
       "    <tr>\n",
       "      <th>b'0026431'</th>\n",
       "      <td>6101.22</td>\n",
       "    </tr>\n",
       "  </tbody>\n",
       "</table>\n",
       "</div>"
      ],
      "text/plain": [
       "            Payment_amt\n",
       "cust_id                \n",
       "b'0026414'      3112.80\n",
       "b'0026419'      3155.05\n",
       "b'0026424'       524.85\n",
       "b'0026430'      5572.26\n",
       "b'0026431'      6101.22"
      ]
     },
     "execution_count": 33,
     "metadata": {},
     "output_type": "execute_result"
    }
   ],
   "source": [
    "Monitary.head()"
   ]
  },
  {
   "cell_type": "code",
   "execution_count": 34,
   "metadata": {},
   "outputs": [],
   "source": [
    "temp=final_data.groupby(\"cust_id\")\n",
    "Frequency=pd.DataFrame(temp[\"Payment_amt\"].count())"
   ]
  },
  {
   "cell_type": "code",
   "execution_count": 35,
   "metadata": {},
   "outputs": [
    {
     "data": {
      "text/html": [
       "<div>\n",
       "<style scoped>\n",
       "    .dataframe tbody tr th:only-of-type {\n",
       "        vertical-align: middle;\n",
       "    }\n",
       "\n",
       "    .dataframe tbody tr th {\n",
       "        vertical-align: top;\n",
       "    }\n",
       "\n",
       "    .dataframe thead th {\n",
       "        text-align: right;\n",
       "    }\n",
       "</style>\n",
       "<table border=\"1\" class=\"dataframe\">\n",
       "  <thead>\n",
       "    <tr style=\"text-align: right;\">\n",
       "      <th></th>\n",
       "      <th>Payment_amt</th>\n",
       "    </tr>\n",
       "    <tr>\n",
       "      <th>cust_id</th>\n",
       "      <th></th>\n",
       "    </tr>\n",
       "  </thead>\n",
       "  <tbody>\n",
       "    <tr>\n",
       "      <th>b'0026414'</th>\n",
       "      <td>156</td>\n",
       "    </tr>\n",
       "    <tr>\n",
       "      <th>b'0026419'</th>\n",
       "      <td>69</td>\n",
       "    </tr>\n",
       "    <tr>\n",
       "      <th>b'0026424'</th>\n",
       "      <td>35</td>\n",
       "    </tr>\n",
       "    <tr>\n",
       "      <th>b'0026430'</th>\n",
       "      <td>292</td>\n",
       "    </tr>\n",
       "    <tr>\n",
       "      <th>b'0026431'</th>\n",
       "      <td>42</td>\n",
       "    </tr>\n",
       "  </tbody>\n",
       "</table>\n",
       "</div>"
      ],
      "text/plain": [
       "            Payment_amt\n",
       "cust_id                \n",
       "b'0026414'          156\n",
       "b'0026419'           69\n",
       "b'0026424'           35\n",
       "b'0026430'          292\n",
       "b'0026431'           42"
      ]
     },
     "execution_count": 35,
     "metadata": {},
     "output_type": "execute_result"
    }
   ],
   "source": [
    "Frequency.head()"
   ]
  },
  {
   "cell_type": "code",
   "execution_count": 36,
   "metadata": {},
   "outputs": [],
   "source": [
    "Avg_donation=Monitary/Frequency"
   ]
  },
  {
   "cell_type": "code",
   "execution_count": 37,
   "metadata": {},
   "outputs": [
    {
     "data": {
      "text/html": [
       "<div>\n",
       "<style scoped>\n",
       "    .dataframe tbody tr th:only-of-type {\n",
       "        vertical-align: middle;\n",
       "    }\n",
       "\n",
       "    .dataframe tbody tr th {\n",
       "        vertical-align: top;\n",
       "    }\n",
       "\n",
       "    .dataframe thead th {\n",
       "        text-align: right;\n",
       "    }\n",
       "</style>\n",
       "<table border=\"1\" class=\"dataframe\">\n",
       "  <thead>\n",
       "    <tr style=\"text-align: right;\">\n",
       "      <th></th>\n",
       "      <th>Payment_amt</th>\n",
       "    </tr>\n",
       "    <tr>\n",
       "      <th>cust_id</th>\n",
       "      <th></th>\n",
       "    </tr>\n",
       "  </thead>\n",
       "  <tbody>\n",
       "    <tr>\n",
       "      <th>b'0026414'</th>\n",
       "      <td>19.953846</td>\n",
       "    </tr>\n",
       "    <tr>\n",
       "      <th>b'0026419'</th>\n",
       "      <td>45.725362</td>\n",
       "    </tr>\n",
       "    <tr>\n",
       "      <th>b'0026424'</th>\n",
       "      <td>14.995714</td>\n",
       "    </tr>\n",
       "    <tr>\n",
       "      <th>b'0026430'</th>\n",
       "      <td>19.083082</td>\n",
       "    </tr>\n",
       "    <tr>\n",
       "      <th>b'0026431'</th>\n",
       "      <td>145.267143</td>\n",
       "    </tr>\n",
       "  </tbody>\n",
       "</table>\n",
       "</div>"
      ],
      "text/plain": [
       "            Payment_amt\n",
       "cust_id                \n",
       "b'0026414'    19.953846\n",
       "b'0026419'    45.725362\n",
       "b'0026424'    14.995714\n",
       "b'0026430'    19.083082\n",
       "b'0026431'   145.267143"
      ]
     },
     "execution_count": 37,
     "metadata": {},
     "output_type": "execute_result"
    }
   ],
   "source": [
    "Avg_donation.head()"
   ]
  },
  {
   "cell_type": "code",
   "execution_count": 38,
   "metadata": {},
   "outputs": [],
   "source": [
    "temp=final_data.groupby(\"cust_id\")\n",
    "Recent_date_of_pay=pd.DataFrame(temp[\"Date_of_payment\"].max())"
   ]
  },
  {
   "cell_type": "code",
   "execution_count": 39,
   "metadata": {},
   "outputs": [
    {
     "data": {
      "text/html": [
       "<div>\n",
       "<style scoped>\n",
       "    .dataframe tbody tr th:only-of-type {\n",
       "        vertical-align: middle;\n",
       "    }\n",
       "\n",
       "    .dataframe tbody tr th {\n",
       "        vertical-align: top;\n",
       "    }\n",
       "\n",
       "    .dataframe thead th {\n",
       "        text-align: right;\n",
       "    }\n",
       "</style>\n",
       "<table border=\"1\" class=\"dataframe\">\n",
       "  <thead>\n",
       "    <tr style=\"text-align: right;\">\n",
       "      <th></th>\n",
       "      <th>Date_of_payment</th>\n",
       "    </tr>\n",
       "    <tr>\n",
       "      <th>cust_id</th>\n",
       "      <th></th>\n",
       "    </tr>\n",
       "  </thead>\n",
       "  <tbody>\n",
       "    <tr>\n",
       "      <th>b'0026414'</th>\n",
       "      <td>2007-01-17</td>\n",
       "    </tr>\n",
       "    <tr>\n",
       "      <th>b'0026419'</th>\n",
       "      <td>2007-01-02</td>\n",
       "    </tr>\n",
       "    <tr>\n",
       "      <th>b'0026424'</th>\n",
       "      <td>1997-01-02</td>\n",
       "    </tr>\n",
       "    <tr>\n",
       "      <th>b'0026430'</th>\n",
       "      <td>2005-10-18</td>\n",
       "    </tr>\n",
       "    <tr>\n",
       "      <th>b'0026431'</th>\n",
       "      <td>2006-04-28</td>\n",
       "    </tr>\n",
       "  </tbody>\n",
       "</table>\n",
       "</div>"
      ],
      "text/plain": [
       "           Date_of_payment\n",
       "cust_id                   \n",
       "b'0026414'      2007-01-17\n",
       "b'0026419'      2007-01-02\n",
       "b'0026424'      1997-01-02\n",
       "b'0026430'      2005-10-18\n",
       "b'0026431'      2006-04-28"
      ]
     },
     "execution_count": 39,
     "metadata": {},
     "output_type": "execute_result"
    }
   ],
   "source": [
    "Recent_date_of_pay.head()"
   ]
  },
  {
   "cell_type": "code",
   "execution_count": 40,
   "metadata": {},
   "outputs": [],
   "source": [
    "Recency=pd.DataFrame(pd.to_datetime(\"02/02/2007\")-Recent_date_of_pay[\"Date_of_payment\"])"
   ]
  },
  {
   "cell_type": "code",
   "execution_count": 41,
   "metadata": {},
   "outputs": [
    {
     "data": {
      "text/html": [
       "<div>\n",
       "<style scoped>\n",
       "    .dataframe tbody tr th:only-of-type {\n",
       "        vertical-align: middle;\n",
       "    }\n",
       "\n",
       "    .dataframe tbody tr th {\n",
       "        vertical-align: top;\n",
       "    }\n",
       "\n",
       "    .dataframe thead th {\n",
       "        text-align: right;\n",
       "    }\n",
       "</style>\n",
       "<table border=\"1\" class=\"dataframe\">\n",
       "  <thead>\n",
       "    <tr style=\"text-align: right;\">\n",
       "      <th></th>\n",
       "      <th>Date_of_payment</th>\n",
       "    </tr>\n",
       "    <tr>\n",
       "      <th>cust_id</th>\n",
       "      <th></th>\n",
       "    </tr>\n",
       "  </thead>\n",
       "  <tbody>\n",
       "    <tr>\n",
       "      <th>b'0026414'</th>\n",
       "      <td>16 days</td>\n",
       "    </tr>\n",
       "    <tr>\n",
       "      <th>b'0026419'</th>\n",
       "      <td>31 days</td>\n",
       "    </tr>\n",
       "    <tr>\n",
       "      <th>b'0026424'</th>\n",
       "      <td>3683 days</td>\n",
       "    </tr>\n",
       "    <tr>\n",
       "      <th>b'0026430'</th>\n",
       "      <td>472 days</td>\n",
       "    </tr>\n",
       "    <tr>\n",
       "      <th>b'0026431'</th>\n",
       "      <td>280 days</td>\n",
       "    </tr>\n",
       "  </tbody>\n",
       "</table>\n",
       "</div>"
      ],
      "text/plain": [
       "           Date_of_payment\n",
       "cust_id                   \n",
       "b'0026414'         16 days\n",
       "b'0026419'         31 days\n",
       "b'0026424'       3683 days\n",
       "b'0026430'        472 days\n",
       "b'0026431'        280 days"
      ]
     },
     "execution_count": 41,
     "metadata": {},
     "output_type": "execute_result"
    }
   ],
   "source": [
    "Recency.head()"
   ]
  },
  {
   "cell_type": "code",
   "execution_count": 42,
   "metadata": {},
   "outputs": [],
   "source": [
    "rfm_table=pd.concat([Monitary,Frequency,Avg_donation,Recency],axis=1)"
   ]
  },
  {
   "cell_type": "code",
   "execution_count": 43,
   "metadata": {},
   "outputs": [],
   "source": [
    "rfm_table.columns=[\"Monitory\",\"Frequency\",\"Avg_donation\",\"Recency\"]"
   ]
  },
  {
   "cell_type": "code",
   "execution_count": 44,
   "metadata": {},
   "outputs": [],
   "source": [
    "rfm_table=rfm_table.reset_index()"
   ]
  },
  {
   "cell_type": "code",
   "execution_count": 45,
   "metadata": {},
   "outputs": [
    {
     "data": {
      "text/html": [
       "<div>\n",
       "<style scoped>\n",
       "    .dataframe tbody tr th:only-of-type {\n",
       "        vertical-align: middle;\n",
       "    }\n",
       "\n",
       "    .dataframe tbody tr th {\n",
       "        vertical-align: top;\n",
       "    }\n",
       "\n",
       "    .dataframe thead th {\n",
       "        text-align: right;\n",
       "    }\n",
       "</style>\n",
       "<table border=\"1\" class=\"dataframe\">\n",
       "  <thead>\n",
       "    <tr style=\"text-align: right;\">\n",
       "      <th></th>\n",
       "      <th>cust_id</th>\n",
       "      <th>Monitory</th>\n",
       "      <th>Frequency</th>\n",
       "      <th>Avg_donation</th>\n",
       "      <th>Recency</th>\n",
       "    </tr>\n",
       "  </thead>\n",
       "  <tbody>\n",
       "    <tr>\n",
       "      <th>0</th>\n",
       "      <td>b'0026414'</td>\n",
       "      <td>3112.80</td>\n",
       "      <td>156</td>\n",
       "      <td>19.953846</td>\n",
       "      <td>16 days</td>\n",
       "    </tr>\n",
       "    <tr>\n",
       "      <th>1</th>\n",
       "      <td>b'0026419'</td>\n",
       "      <td>3155.05</td>\n",
       "      <td>69</td>\n",
       "      <td>45.725362</td>\n",
       "      <td>31 days</td>\n",
       "    </tr>\n",
       "    <tr>\n",
       "      <th>2</th>\n",
       "      <td>b'0026424'</td>\n",
       "      <td>524.85</td>\n",
       "      <td>35</td>\n",
       "      <td>14.995714</td>\n",
       "      <td>3683 days</td>\n",
       "    </tr>\n",
       "    <tr>\n",
       "      <th>3</th>\n",
       "      <td>b'0026430'</td>\n",
       "      <td>5572.26</td>\n",
       "      <td>292</td>\n",
       "      <td>19.083082</td>\n",
       "      <td>472 days</td>\n",
       "    </tr>\n",
       "    <tr>\n",
       "      <th>4</th>\n",
       "      <td>b'0026431'</td>\n",
       "      <td>6101.22</td>\n",
       "      <td>42</td>\n",
       "      <td>145.267143</td>\n",
       "      <td>280 days</td>\n",
       "    </tr>\n",
       "  </tbody>\n",
       "</table>\n",
       "</div>"
      ],
      "text/plain": [
       "      cust_id  Monitory  Frequency  Avg_donation   Recency\n",
       "0  b'0026414'   3112.80        156     19.953846   16 days\n",
       "1  b'0026419'   3155.05         69     45.725362   31 days\n",
       "2  b'0026424'    524.85         35     14.995714 3683 days\n",
       "3  b'0026430'   5572.26        292     19.083082  472 days\n",
       "4  b'0026431'   6101.22         42    145.267143  280 days"
      ]
     },
     "execution_count": 45,
     "metadata": {},
     "output_type": "execute_result"
    }
   ],
   "source": [
    "rfm_table.head()"
   ]
  },
  {
   "cell_type": "code",
   "execution_count": 46,
   "metadata": {},
   "outputs": [
    {
     "data": {
      "text/plain": [
       "False"
      ]
     },
     "execution_count": 46,
     "metadata": {},
     "output_type": "execute_result"
    }
   ],
   "source": [
    "rfm_table.cust_id.duplicated().any()"
   ]
  },
  {
   "cell_type": "code",
   "execution_count": 47,
   "metadata": {},
   "outputs": [],
   "source": [
    "rfm_table=pd.merge(left=rfm_table,right=nameaddr,on=\"cust_id\",how=\"left\")"
   ]
  },
  {
   "cell_type": "code",
   "execution_count": 48,
   "metadata": {},
   "outputs": [
    {
     "data": {
      "text/html": [
       "<div>\n",
       "<style scoped>\n",
       "    .dataframe tbody tr th:only-of-type {\n",
       "        vertical-align: middle;\n",
       "    }\n",
       "\n",
       "    .dataframe tbody tr th {\n",
       "        vertical-align: top;\n",
       "    }\n",
       "\n",
       "    .dataframe thead th {\n",
       "        text-align: right;\n",
       "    }\n",
       "</style>\n",
       "<table border=\"1\" class=\"dataframe\">\n",
       "  <thead>\n",
       "    <tr style=\"text-align: right;\">\n",
       "      <th></th>\n",
       "      <th>cust_id</th>\n",
       "      <th>Monitory</th>\n",
       "      <th>Frequency</th>\n",
       "      <th>Avg_donation</th>\n",
       "      <th>Recency</th>\n",
       "      <th>Cust_name</th>\n",
       "      <th>Post_code</th>\n",
       "      <th>Mailing_lang</th>\n",
       "    </tr>\n",
       "  </thead>\n",
       "  <tbody>\n",
       "    <tr>\n",
       "      <th>0</th>\n",
       "      <td>b'0026414'</td>\n",
       "      <td>3112.80</td>\n",
       "      <td>156</td>\n",
       "      <td>19.953846</td>\n",
       "      <td>16 days</td>\n",
       "      <td>b'MW'</td>\n",
       "      <td>b'8300'</td>\n",
       "      <td>b'NL'</td>\n",
       "    </tr>\n",
       "    <tr>\n",
       "      <th>1</th>\n",
       "      <td>b'0026419'</td>\n",
       "      <td>3155.05</td>\n",
       "      <td>69</td>\n",
       "      <td>45.725362</td>\n",
       "      <td>31 days</td>\n",
       "      <td>b'HM'</td>\n",
       "      <td>b'2600'</td>\n",
       "      <td>b'NL'</td>\n",
       "    </tr>\n",
       "    <tr>\n",
       "      <th>2</th>\n",
       "      <td>b'0026424'</td>\n",
       "      <td>524.85</td>\n",
       "      <td>35</td>\n",
       "      <td>14.995714</td>\n",
       "      <td>3683 days</td>\n",
       "      <td>b'MW'</td>\n",
       "      <td>b'1932'</td>\n",
       "      <td>b'NL'</td>\n",
       "    </tr>\n",
       "    <tr>\n",
       "      <th>3</th>\n",
       "      <td>b'0026430'</td>\n",
       "      <td>5572.26</td>\n",
       "      <td>292</td>\n",
       "      <td>19.083082</td>\n",
       "      <td>472 days</td>\n",
       "      <td>b'HM'</td>\n",
       "      <td>b'2040'</td>\n",
       "      <td>b'NL'</td>\n",
       "    </tr>\n",
       "    <tr>\n",
       "      <th>4</th>\n",
       "      <td>b'0026431'</td>\n",
       "      <td>6101.22</td>\n",
       "      <td>42</td>\n",
       "      <td>145.267143</td>\n",
       "      <td>280 days</td>\n",
       "      <td>b'FA'</td>\n",
       "      <td>b'8520'</td>\n",
       "      <td>b'NL'</td>\n",
       "    </tr>\n",
       "  </tbody>\n",
       "</table>\n",
       "</div>"
      ],
      "text/plain": [
       "      cust_id  Monitory  Frequency  Avg_donation   Recency Cust_name  \\\n",
       "0  b'0026414'   3112.80        156     19.953846   16 days     b'MW'   \n",
       "1  b'0026419'   3155.05         69     45.725362   31 days     b'HM'   \n",
       "2  b'0026424'    524.85         35     14.995714 3683 days     b'MW'   \n",
       "3  b'0026430'   5572.26        292     19.083082  472 days     b'HM'   \n",
       "4  b'0026431'   6101.22         42    145.267143  280 days     b'FA'   \n",
       "\n",
       "  Post_code Mailing_lang  \n",
       "0   b'8300'        b'NL'  \n",
       "1   b'2600'        b'NL'  \n",
       "2   b'1932'        b'NL'  \n",
       "3   b'2040'        b'NL'  \n",
       "4   b'8520'        b'NL'  "
      ]
     },
     "execution_count": 48,
     "metadata": {},
     "output_type": "execute_result"
    }
   ],
   "source": [
    "rfm_table.head()"
   ]
  },
  {
   "cell_type": "code",
   "execution_count": 49,
   "metadata": {},
   "outputs": [
    {
     "data": {
      "text/plain": [
       "False"
      ]
     },
     "execution_count": 49,
     "metadata": {},
     "output_type": "execute_result"
    }
   ],
   "source": [
    "rfm_table.cust_id.duplicated().any()"
   ]
  },
  {
   "cell_type": "code",
   "execution_count": 50,
   "metadata": {},
   "outputs": [],
   "source": [
    "rfm_table=pd.merge(left=rfm_table,right=extrel,on=\"cust_id\",how=\"inner\")"
   ]
  },
  {
   "cell_type": "code",
   "execution_count": 51,
   "metadata": {},
   "outputs": [
    {
     "data": {
      "text/html": [
       "<div>\n",
       "<style scoped>\n",
       "    .dataframe tbody tr th:only-of-type {\n",
       "        vertical-align: middle;\n",
       "    }\n",
       "\n",
       "    .dataframe tbody tr th {\n",
       "        vertical-align: top;\n",
       "    }\n",
       "\n",
       "    .dataframe thead th {\n",
       "        text-align: right;\n",
       "    }\n",
       "</style>\n",
       "<table border=\"1\" class=\"dataframe\">\n",
       "  <thead>\n",
       "    <tr style=\"text-align: right;\">\n",
       "      <th></th>\n",
       "      <th>cust_id</th>\n",
       "      <th>Monitory</th>\n",
       "      <th>Frequency</th>\n",
       "      <th>Avg_donation</th>\n",
       "      <th>Recency</th>\n",
       "      <th>Cust_name</th>\n",
       "      <th>Post_code</th>\n",
       "      <th>Mailing_lang</th>\n",
       "      <th>Activity_code</th>\n",
       "      <th>Rel_start_date</th>\n",
       "      <th>Rel_end_date</th>\n",
       "      <th>Activity_desc</th>\n",
       "    </tr>\n",
       "  </thead>\n",
       "  <tbody>\n",
       "    <tr>\n",
       "      <th>0</th>\n",
       "      <td>b'0026414'</td>\n",
       "      <td>3112.80</td>\n",
       "      <td>156</td>\n",
       "      <td>19.953846</td>\n",
       "      <td>16 days</td>\n",
       "      <td>b'MW'</td>\n",
       "      <td>b'8300'</td>\n",
       "      <td>b'NL'</td>\n",
       "      <td>b'CT'</td>\n",
       "      <td>1995-02-02</td>\n",
       "      <td>NaT</td>\n",
       "      <td>b'Contributor'</td>\n",
       "    </tr>\n",
       "    <tr>\n",
       "      <th>1</th>\n",
       "      <td>b'0026419'</td>\n",
       "      <td>3155.05</td>\n",
       "      <td>69</td>\n",
       "      <td>45.725362</td>\n",
       "      <td>31 days</td>\n",
       "      <td>b'HM'</td>\n",
       "      <td>b'2600'</td>\n",
       "      <td>b'NL'</td>\n",
       "      <td>b'FP'</td>\n",
       "      <td>1992-03-01</td>\n",
       "      <td>NaT</td>\n",
       "      <td>b'CommitmentDo'</td>\n",
       "    </tr>\n",
       "    <tr>\n",
       "      <th>2</th>\n",
       "      <td>b'0026424'</td>\n",
       "      <td>524.85</td>\n",
       "      <td>35</td>\n",
       "      <td>14.995714</td>\n",
       "      <td>3683 days</td>\n",
       "      <td>b'MW'</td>\n",
       "      <td>b'1932'</td>\n",
       "      <td>b'NL'</td>\n",
       "      <td>b'FP'</td>\n",
       "      <td>1992-03-01</td>\n",
       "      <td>1996-12-24</td>\n",
       "      <td>b'CommitmentDo'</td>\n",
       "    </tr>\n",
       "    <tr>\n",
       "      <th>3</th>\n",
       "      <td>b'0026430'</td>\n",
       "      <td>5572.26</td>\n",
       "      <td>292</td>\n",
       "      <td>19.083082</td>\n",
       "      <td>472 days</td>\n",
       "      <td>b'HM'</td>\n",
       "      <td>b'2040'</td>\n",
       "      <td>b'NL'</td>\n",
       "      <td>b'FP'</td>\n",
       "      <td>1992-03-01</td>\n",
       "      <td>2006-01-31</td>\n",
       "      <td>b'CommitmentDo'</td>\n",
       "    </tr>\n",
       "    <tr>\n",
       "      <th>4</th>\n",
       "      <td>b'0026430'</td>\n",
       "      <td>5572.26</td>\n",
       "      <td>292</td>\n",
       "      <td>19.083082</td>\n",
       "      <td>472 days</td>\n",
       "      <td>b'HM'</td>\n",
       "      <td>b'2040'</td>\n",
       "      <td>b'NL'</td>\n",
       "      <td>b'CT'</td>\n",
       "      <td>1997-03-07</td>\n",
       "      <td>NaT</td>\n",
       "      <td>b'Contributor'</td>\n",
       "    </tr>\n",
       "  </tbody>\n",
       "</table>\n",
       "</div>"
      ],
      "text/plain": [
       "      cust_id  Monitory  Frequency  Avg_donation   Recency Cust_name  \\\n",
       "0  b'0026414'   3112.80        156     19.953846   16 days     b'MW'   \n",
       "1  b'0026419'   3155.05         69     45.725362   31 days     b'HM'   \n",
       "2  b'0026424'    524.85         35     14.995714 3683 days     b'MW'   \n",
       "3  b'0026430'   5572.26        292     19.083082  472 days     b'HM'   \n",
       "4  b'0026430'   5572.26        292     19.083082  472 days     b'HM'   \n",
       "\n",
       "  Post_code Mailing_lang Activity_code Rel_start_date Rel_end_date  \\\n",
       "0   b'8300'        b'NL'         b'CT'     1995-02-02          NaT   \n",
       "1   b'2600'        b'NL'         b'FP'     1992-03-01          NaT   \n",
       "2   b'1932'        b'NL'         b'FP'     1992-03-01   1996-12-24   \n",
       "3   b'2040'        b'NL'         b'FP'     1992-03-01   2006-01-31   \n",
       "4   b'2040'        b'NL'         b'CT'     1997-03-07          NaT   \n",
       "\n",
       "     Activity_desc  \n",
       "0   b'Contributor'  \n",
       "1  b'CommitmentDo'  \n",
       "2  b'CommitmentDo'  \n",
       "3  b'CommitmentDo'  \n",
       "4   b'Contributor'  "
      ]
     },
     "execution_count": 51,
     "metadata": {},
     "output_type": "execute_result"
    }
   ],
   "source": [
    "rfm_table.head()"
   ]
  },
  {
   "cell_type": "code",
   "execution_count": 52,
   "metadata": {},
   "outputs": [],
   "source": [
    "rfm_table[['Monitory',\"Avg_donation\"]]=abs(rfm_table[['Monitory',\"Avg_donation\"]])"
   ]
  },
  {
   "cell_type": "code",
   "execution_count": 53,
   "metadata": {},
   "outputs": [
    {
     "data": {
      "text/html": [
       "<div>\n",
       "<style scoped>\n",
       "    .dataframe tbody tr th:only-of-type {\n",
       "        vertical-align: middle;\n",
       "    }\n",
       "\n",
       "    .dataframe tbody tr th {\n",
       "        vertical-align: top;\n",
       "    }\n",
       "\n",
       "    .dataframe thead th {\n",
       "        text-align: right;\n",
       "    }\n",
       "</style>\n",
       "<table border=\"1\" class=\"dataframe\">\n",
       "  <thead>\n",
       "    <tr style=\"text-align: right;\">\n",
       "      <th></th>\n",
       "      <th>cust_id</th>\n",
       "      <th>Monitory</th>\n",
       "      <th>Frequency</th>\n",
       "      <th>Avg_donation</th>\n",
       "      <th>Recency</th>\n",
       "      <th>Cust_name</th>\n",
       "      <th>Post_code</th>\n",
       "      <th>Mailing_lang</th>\n",
       "      <th>Activity_code</th>\n",
       "      <th>Rel_start_date</th>\n",
       "      <th>Rel_end_date</th>\n",
       "      <th>Activity_desc</th>\n",
       "    </tr>\n",
       "  </thead>\n",
       "  <tbody>\n",
       "    <tr>\n",
       "      <th>0</th>\n",
       "      <td>b'0026414'</td>\n",
       "      <td>3112.80</td>\n",
       "      <td>156</td>\n",
       "      <td>19.953846</td>\n",
       "      <td>16 days</td>\n",
       "      <td>b'MW'</td>\n",
       "      <td>b'8300'</td>\n",
       "      <td>b'NL'</td>\n",
       "      <td>b'CT'</td>\n",
       "      <td>1995-02-02</td>\n",
       "      <td>NaT</td>\n",
       "      <td>b'Contributor'</td>\n",
       "    </tr>\n",
       "    <tr>\n",
       "      <th>1</th>\n",
       "      <td>b'0026419'</td>\n",
       "      <td>3155.05</td>\n",
       "      <td>69</td>\n",
       "      <td>45.725362</td>\n",
       "      <td>31 days</td>\n",
       "      <td>b'HM'</td>\n",
       "      <td>b'2600'</td>\n",
       "      <td>b'NL'</td>\n",
       "      <td>b'FP'</td>\n",
       "      <td>1992-03-01</td>\n",
       "      <td>NaT</td>\n",
       "      <td>b'CommitmentDo'</td>\n",
       "    </tr>\n",
       "    <tr>\n",
       "      <th>2</th>\n",
       "      <td>b'0026424'</td>\n",
       "      <td>524.85</td>\n",
       "      <td>35</td>\n",
       "      <td>14.995714</td>\n",
       "      <td>3683 days</td>\n",
       "      <td>b'MW'</td>\n",
       "      <td>b'1932'</td>\n",
       "      <td>b'NL'</td>\n",
       "      <td>b'FP'</td>\n",
       "      <td>1992-03-01</td>\n",
       "      <td>1996-12-24</td>\n",
       "      <td>b'CommitmentDo'</td>\n",
       "    </tr>\n",
       "    <tr>\n",
       "      <th>3</th>\n",
       "      <td>b'0026430'</td>\n",
       "      <td>5572.26</td>\n",
       "      <td>292</td>\n",
       "      <td>19.083082</td>\n",
       "      <td>472 days</td>\n",
       "      <td>b'HM'</td>\n",
       "      <td>b'2040'</td>\n",
       "      <td>b'NL'</td>\n",
       "      <td>b'FP'</td>\n",
       "      <td>1992-03-01</td>\n",
       "      <td>2006-01-31</td>\n",
       "      <td>b'CommitmentDo'</td>\n",
       "    </tr>\n",
       "    <tr>\n",
       "      <th>4</th>\n",
       "      <td>b'0026430'</td>\n",
       "      <td>5572.26</td>\n",
       "      <td>292</td>\n",
       "      <td>19.083082</td>\n",
       "      <td>472 days</td>\n",
       "      <td>b'HM'</td>\n",
       "      <td>b'2040'</td>\n",
       "      <td>b'NL'</td>\n",
       "      <td>b'CT'</td>\n",
       "      <td>1997-03-07</td>\n",
       "      <td>NaT</td>\n",
       "      <td>b'Contributor'</td>\n",
       "    </tr>\n",
       "  </tbody>\n",
       "</table>\n",
       "</div>"
      ],
      "text/plain": [
       "      cust_id  Monitory  Frequency  Avg_donation   Recency Cust_name  \\\n",
       "0  b'0026414'   3112.80        156     19.953846   16 days     b'MW'   \n",
       "1  b'0026419'   3155.05         69     45.725362   31 days     b'HM'   \n",
       "2  b'0026424'    524.85         35     14.995714 3683 days     b'MW'   \n",
       "3  b'0026430'   5572.26        292     19.083082  472 days     b'HM'   \n",
       "4  b'0026430'   5572.26        292     19.083082  472 days     b'HM'   \n",
       "\n",
       "  Post_code Mailing_lang Activity_code Rel_start_date Rel_end_date  \\\n",
       "0   b'8300'        b'NL'         b'CT'     1995-02-02          NaT   \n",
       "1   b'2600'        b'NL'         b'FP'     1992-03-01          NaT   \n",
       "2   b'1932'        b'NL'         b'FP'     1992-03-01   1996-12-24   \n",
       "3   b'2040'        b'NL'         b'FP'     1992-03-01   2006-01-31   \n",
       "4   b'2040'        b'NL'         b'CT'     1997-03-07          NaT   \n",
       "\n",
       "     Activity_desc  \n",
       "0   b'Contributor'  \n",
       "1  b'CommitmentDo'  \n",
       "2  b'CommitmentDo'  \n",
       "3  b'CommitmentDo'  \n",
       "4   b'Contributor'  "
      ]
     },
     "execution_count": 53,
     "metadata": {},
     "output_type": "execute_result"
    }
   ],
   "source": [
    "rfm_table.head()"
   ]
  },
  {
   "cell_type": "code",
   "execution_count": 54,
   "metadata": {},
   "outputs": [],
   "source": [
    "rfm_table=rfm_table.loc[-rfm_table[\"cust_id\"].duplicated()]"
   ]
  },
  {
   "cell_type": "code",
   "execution_count": 55,
   "metadata": {},
   "outputs": [
    {
     "data": {
      "text/plain": [
       "False"
      ]
     },
     "execution_count": 55,
     "metadata": {},
     "output_type": "execute_result"
    }
   ],
   "source": [
    "rfm_table.cust_id.duplicated().any()"
   ]
  },
  {
   "cell_type": "code",
   "execution_count": 56,
   "metadata": {},
   "outputs": [
    {
     "name": "stdout",
     "output_type": "stream",
     "text": [
      "<class 'pandas.core.frame.DataFrame'>\n",
      "Int64Index: 10855 entries, 0 to 18610\n",
      "Data columns (total 12 columns):\n",
      "cust_id           10855 non-null object\n",
      "Monitory          10855 non-null float64\n",
      "Frequency         10855 non-null int64\n",
      "Avg_donation      10855 non-null float64\n",
      "Recency           10855 non-null timedelta64[ns]\n",
      "Cust_name         10591 non-null object\n",
      "Post_code         10809 non-null object\n",
      "Mailing_lang      10855 non-null object\n",
      "Activity_code     10855 non-null object\n",
      "Rel_start_date    10855 non-null datetime64[ns]\n",
      "Rel_end_date      7269 non-null datetime64[ns]\n",
      "Activity_desc     10855 non-null object\n",
      "dtypes: datetime64[ns](2), float64(2), int64(1), object(6), timedelta64[ns](1)\n",
      "memory usage: 1.1+ MB\n"
     ]
    }
   ],
   "source": [
    "rfm_table.info()"
   ]
  },
  {
   "cell_type": "code",
   "execution_count": 57,
   "metadata": {},
   "outputs": [],
   "source": [
    "x=pd.DataFrame(pd.to_numeric(rfm_table['Rel_end_date']))"
   ]
  },
  {
   "cell_type": "code",
   "execution_count": 58,
   "metadata": {},
   "outputs": [
    {
     "data": {
      "text/html": [
       "<div>\n",
       "<style scoped>\n",
       "    .dataframe tbody tr th:only-of-type {\n",
       "        vertical-align: middle;\n",
       "    }\n",
       "\n",
       "    .dataframe tbody tr th {\n",
       "        vertical-align: top;\n",
       "    }\n",
       "\n",
       "    .dataframe thead th {\n",
       "        text-align: right;\n",
       "    }\n",
       "</style>\n",
       "<table border=\"1\" class=\"dataframe\">\n",
       "  <thead>\n",
       "    <tr style=\"text-align: right;\">\n",
       "      <th></th>\n",
       "      <th>Rel_end_date</th>\n",
       "    </tr>\n",
       "  </thead>\n",
       "  <tbody>\n",
       "    <tr>\n",
       "      <th>0</th>\n",
       "      <td>-9223372036854775808</td>\n",
       "    </tr>\n",
       "    <tr>\n",
       "      <th>1</th>\n",
       "      <td>-9223372036854775808</td>\n",
       "    </tr>\n",
       "    <tr>\n",
       "      <th>2</th>\n",
       "      <td>851385600000000000</td>\n",
       "    </tr>\n",
       "    <tr>\n",
       "      <th>3</th>\n",
       "      <td>1138665600000000000</td>\n",
       "    </tr>\n",
       "    <tr>\n",
       "      <th>5</th>\n",
       "      <td>-9223372036854775808</td>\n",
       "    </tr>\n",
       "  </tbody>\n",
       "</table>\n",
       "</div>"
      ],
      "text/plain": [
       "          Rel_end_date\n",
       "0 -9223372036854775808\n",
       "1 -9223372036854775808\n",
       "2   851385600000000000\n",
       "3  1138665600000000000\n",
       "5 -9223372036854775808"
      ]
     },
     "execution_count": 58,
     "metadata": {},
     "output_type": "execute_result"
    }
   ],
   "source": [
    "x.head()"
   ]
  },
  {
   "cell_type": "code",
   "execution_count": 59,
   "metadata": {},
   "outputs": [],
   "source": [
    "rfm_table[\"churn\"]=np.where(x.Rel_end_date==-9223372036854775808,0,1)"
   ]
  },
  {
   "cell_type": "code",
   "execution_count": 60,
   "metadata": {},
   "outputs": [
    {
     "name": "stdout",
     "output_type": "stream",
     "text": [
      "<class 'pandas.core.frame.DataFrame'>\n",
      "Int64Index: 10855 entries, 0 to 18610\n",
      "Data columns (total 13 columns):\n",
      "cust_id           10855 non-null object\n",
      "Monitory          10855 non-null float64\n",
      "Frequency         10855 non-null int64\n",
      "Avg_donation      10855 non-null float64\n",
      "Recency           10855 non-null timedelta64[ns]\n",
      "Cust_name         10591 non-null object\n",
      "Post_code         10809 non-null object\n",
      "Mailing_lang      10855 non-null object\n",
      "Activity_code     10855 non-null object\n",
      "Rel_start_date    10855 non-null datetime64[ns]\n",
      "Rel_end_date      7269 non-null datetime64[ns]\n",
      "Activity_desc     10855 non-null object\n",
      "churn             10855 non-null int32\n",
      "dtypes: datetime64[ns](2), float64(2), int32(1), int64(1), object(6), timedelta64[ns](1)\n",
      "memory usage: 1.1+ MB\n"
     ]
    }
   ],
   "source": [
    "rfm_table.info()"
   ]
  },
  {
   "cell_type": "code",
   "execution_count": 61,
   "metadata": {},
   "outputs": [],
   "source": [
    "import time"
   ]
  },
  {
   "cell_type": "code",
   "execution_count": 62,
   "metadata": {},
   "outputs": [],
   "source": [
    "import datetime"
   ]
  },
  {
   "cell_type": "code",
   "execution_count": 63,
   "metadata": {},
   "outputs": [
    {
     "data": {
      "text/plain": [
       "numpy.timedelta64(86400000,'ms')"
      ]
     },
     "execution_count": 63,
     "metadata": {},
     "output_type": "execute_result"
    }
   ],
   "source": [
    "np.array([datetime.timedelta(1)], dtype=\"timedelta64[ms]\")[0]"
   ]
  },
  {
   "cell_type": "code",
   "execution_count": 64,
   "metadata": {},
   "outputs": [],
   "source": [
    "rfm_table[\"Recency\"]=pd.DataFrame(rfm_table['Recency'].astype('timedelta64[D]'),columns=[\"Recency\"])"
   ]
  },
  {
   "cell_type": "code",
   "execution_count": 65,
   "metadata": {},
   "outputs": [
    {
     "data": {
      "text/html": [
       "<div>\n",
       "<style scoped>\n",
       "    .dataframe tbody tr th:only-of-type {\n",
       "        vertical-align: middle;\n",
       "    }\n",
       "\n",
       "    .dataframe tbody tr th {\n",
       "        vertical-align: top;\n",
       "    }\n",
       "\n",
       "    .dataframe thead th {\n",
       "        text-align: right;\n",
       "    }\n",
       "</style>\n",
       "<table border=\"1\" class=\"dataframe\">\n",
       "  <thead>\n",
       "    <tr style=\"text-align: right;\">\n",
       "      <th></th>\n",
       "      <th>cust_id</th>\n",
       "      <th>Monitory</th>\n",
       "      <th>Frequency</th>\n",
       "      <th>Avg_donation</th>\n",
       "      <th>Recency</th>\n",
       "      <th>Cust_name</th>\n",
       "      <th>Post_code</th>\n",
       "      <th>Mailing_lang</th>\n",
       "      <th>Activity_code</th>\n",
       "      <th>Rel_start_date</th>\n",
       "      <th>Rel_end_date</th>\n",
       "      <th>Activity_desc</th>\n",
       "      <th>churn</th>\n",
       "    </tr>\n",
       "  </thead>\n",
       "  <tbody>\n",
       "    <tr>\n",
       "      <th>0</th>\n",
       "      <td>b'0026414'</td>\n",
       "      <td>3112.80</td>\n",
       "      <td>156</td>\n",
       "      <td>19.953846</td>\n",
       "      <td>16.0</td>\n",
       "      <td>b'MW'</td>\n",
       "      <td>b'8300'</td>\n",
       "      <td>b'NL'</td>\n",
       "      <td>b'CT'</td>\n",
       "      <td>1995-02-02</td>\n",
       "      <td>NaT</td>\n",
       "      <td>b'Contributor'</td>\n",
       "      <td>0</td>\n",
       "    </tr>\n",
       "    <tr>\n",
       "      <th>1</th>\n",
       "      <td>b'0026419'</td>\n",
       "      <td>3155.05</td>\n",
       "      <td>69</td>\n",
       "      <td>45.725362</td>\n",
       "      <td>31.0</td>\n",
       "      <td>b'HM'</td>\n",
       "      <td>b'2600'</td>\n",
       "      <td>b'NL'</td>\n",
       "      <td>b'FP'</td>\n",
       "      <td>1992-03-01</td>\n",
       "      <td>NaT</td>\n",
       "      <td>b'CommitmentDo'</td>\n",
       "      <td>0</td>\n",
       "    </tr>\n",
       "    <tr>\n",
       "      <th>2</th>\n",
       "      <td>b'0026424'</td>\n",
       "      <td>524.85</td>\n",
       "      <td>35</td>\n",
       "      <td>14.995714</td>\n",
       "      <td>3683.0</td>\n",
       "      <td>b'MW'</td>\n",
       "      <td>b'1932'</td>\n",
       "      <td>b'NL'</td>\n",
       "      <td>b'FP'</td>\n",
       "      <td>1992-03-01</td>\n",
       "      <td>1996-12-24</td>\n",
       "      <td>b'CommitmentDo'</td>\n",
       "      <td>1</td>\n",
       "    </tr>\n",
       "    <tr>\n",
       "      <th>3</th>\n",
       "      <td>b'0026430'</td>\n",
       "      <td>5572.26</td>\n",
       "      <td>292</td>\n",
       "      <td>19.083082</td>\n",
       "      <td>472.0</td>\n",
       "      <td>b'HM'</td>\n",
       "      <td>b'2040'</td>\n",
       "      <td>b'NL'</td>\n",
       "      <td>b'FP'</td>\n",
       "      <td>1992-03-01</td>\n",
       "      <td>2006-01-31</td>\n",
       "      <td>b'CommitmentDo'</td>\n",
       "      <td>1</td>\n",
       "    </tr>\n",
       "    <tr>\n",
       "      <th>5</th>\n",
       "      <td>b'0026431'</td>\n",
       "      <td>6101.22</td>\n",
       "      <td>42</td>\n",
       "      <td>145.267143</td>\n",
       "      <td>280.0</td>\n",
       "      <td>b'FA'</td>\n",
       "      <td>b'8520'</td>\n",
       "      <td>b'NL'</td>\n",
       "      <td>b'FP'</td>\n",
       "      <td>1992-03-01</td>\n",
       "      <td>NaT</td>\n",
       "      <td>b'CommitmentDo'</td>\n",
       "      <td>0</td>\n",
       "    </tr>\n",
       "  </tbody>\n",
       "</table>\n",
       "</div>"
      ],
      "text/plain": [
       "      cust_id  Monitory  Frequency  Avg_donation  Recency Cust_name Post_code  \\\n",
       "0  b'0026414'   3112.80        156     19.953846     16.0     b'MW'   b'8300'   \n",
       "1  b'0026419'   3155.05         69     45.725362     31.0     b'HM'   b'2600'   \n",
       "2  b'0026424'    524.85         35     14.995714   3683.0     b'MW'   b'1932'   \n",
       "3  b'0026430'   5572.26        292     19.083082    472.0     b'HM'   b'2040'   \n",
       "5  b'0026431'   6101.22         42    145.267143    280.0     b'FA'   b'8520'   \n",
       "\n",
       "  Mailing_lang Activity_code Rel_start_date Rel_end_date    Activity_desc  \\\n",
       "0        b'NL'         b'CT'     1995-02-02          NaT   b'Contributor'   \n",
       "1        b'NL'         b'FP'     1992-03-01          NaT  b'CommitmentDo'   \n",
       "2        b'NL'         b'FP'     1992-03-01   1996-12-24  b'CommitmentDo'   \n",
       "3        b'NL'         b'FP'     1992-03-01   2006-01-31  b'CommitmentDo'   \n",
       "5        b'NL'         b'FP'     1992-03-01          NaT  b'CommitmentDo'   \n",
       "\n",
       "   churn  \n",
       "0      0  \n",
       "1      0  \n",
       "2      1  \n",
       "3      1  \n",
       "5      0  "
      ]
     },
     "execution_count": 65,
     "metadata": {},
     "output_type": "execute_result"
    }
   ],
   "source": [
    "rfm_table.head()"
   ]
  },
  {
   "cell_type": "markdown",
   "metadata": {},
   "source": [
    "### Seprating Numerical variable:-"
   ]
  },
  {
   "cell_type": "code",
   "execution_count": 66,
   "metadata": {},
   "outputs": [],
   "source": [
    "# Seperating numeric var:-\n",
    "\n",
    "\n",
    "num_var_names=[key for key in dict(rfm_table.dtypes) if dict(rfm_table.dtypes)[key] in [\"float64\",\"int64\",\"float32\",\"int32\"]]"
   ]
  },
  {
   "cell_type": "code",
   "execution_count": 67,
   "metadata": {},
   "outputs": [
    {
     "data": {
      "text/plain": [
       "['Monitory', 'Frequency', 'Avg_donation', 'Recency', 'churn']"
      ]
     },
     "execution_count": 67,
     "metadata": {},
     "output_type": "execute_result"
    }
   ],
   "source": [
    "num_var_names"
   ]
  },
  {
   "cell_type": "code",
   "execution_count": 68,
   "metadata": {},
   "outputs": [],
   "source": [
    "num_var=rfm_table[num_var_names]"
   ]
  },
  {
   "cell_type": "code",
   "execution_count": 69,
   "metadata": {},
   "outputs": [
    {
     "data": {
      "text/html": [
       "<div>\n",
       "<style scoped>\n",
       "    .dataframe tbody tr th:only-of-type {\n",
       "        vertical-align: middle;\n",
       "    }\n",
       "\n",
       "    .dataframe tbody tr th {\n",
       "        vertical-align: top;\n",
       "    }\n",
       "\n",
       "    .dataframe thead th {\n",
       "        text-align: right;\n",
       "    }\n",
       "</style>\n",
       "<table border=\"1\" class=\"dataframe\">\n",
       "  <thead>\n",
       "    <tr style=\"text-align: right;\">\n",
       "      <th></th>\n",
       "      <th>Monitory</th>\n",
       "      <th>Frequency</th>\n",
       "      <th>Avg_donation</th>\n",
       "      <th>Recency</th>\n",
       "      <th>churn</th>\n",
       "    </tr>\n",
       "  </thead>\n",
       "  <tbody>\n",
       "    <tr>\n",
       "      <th>0</th>\n",
       "      <td>3112.80</td>\n",
       "      <td>156</td>\n",
       "      <td>19.953846</td>\n",
       "      <td>16.0</td>\n",
       "      <td>0</td>\n",
       "    </tr>\n",
       "    <tr>\n",
       "      <th>1</th>\n",
       "      <td>3155.05</td>\n",
       "      <td>69</td>\n",
       "      <td>45.725362</td>\n",
       "      <td>31.0</td>\n",
       "      <td>0</td>\n",
       "    </tr>\n",
       "    <tr>\n",
       "      <th>2</th>\n",
       "      <td>524.85</td>\n",
       "      <td>35</td>\n",
       "      <td>14.995714</td>\n",
       "      <td>3683.0</td>\n",
       "      <td>1</td>\n",
       "    </tr>\n",
       "    <tr>\n",
       "      <th>3</th>\n",
       "      <td>5572.26</td>\n",
       "      <td>292</td>\n",
       "      <td>19.083082</td>\n",
       "      <td>472.0</td>\n",
       "      <td>1</td>\n",
       "    </tr>\n",
       "    <tr>\n",
       "      <th>5</th>\n",
       "      <td>6101.22</td>\n",
       "      <td>42</td>\n",
       "      <td>145.267143</td>\n",
       "      <td>280.0</td>\n",
       "      <td>0</td>\n",
       "    </tr>\n",
       "  </tbody>\n",
       "</table>\n",
       "</div>"
      ],
      "text/plain": [
       "   Monitory  Frequency  Avg_donation  Recency  churn\n",
       "0   3112.80        156     19.953846     16.0      0\n",
       "1   3155.05         69     45.725362     31.0      0\n",
       "2    524.85         35     14.995714   3683.0      1\n",
       "3   5572.26        292     19.083082    472.0      1\n",
       "5   6101.22         42    145.267143    280.0      0"
      ]
     },
     "execution_count": 69,
     "metadata": {},
     "output_type": "execute_result"
    }
   ],
   "source": [
    "num_var.head()"
   ]
  },
  {
   "cell_type": "code",
   "execution_count": 70,
   "metadata": {},
   "outputs": [],
   "source": [
    "def var_summary(x):\n",
    "    return pd.Series([x.count(), x.isnull().sum(), x.sum(), x.mean(), x.median(),  x.std(), x.var(), x.min(), x.dropna().quantile(0.01), x.dropna().quantile(0.05),x.dropna().quantile(0.10),x.dropna().quantile(0.25),x.dropna().quantile(0.50),x.dropna().quantile(0.75), x.dropna().quantile(0.90),x.dropna().quantile(0.95), x.dropna().quantile(0.99),x.max()], \n",
    "                  index=['N', 'NMISS', 'SUM', 'MEAN','MEDIAN', 'STD', 'VAR', 'MIN', 'P1' , 'P5' ,'P10' ,'P25' ,'P50' ,'P75' ,'P90' ,'P95' ,'P99' ,'MAX'])\n"
   ]
  },
  {
   "cell_type": "code",
   "execution_count": 71,
   "metadata": {},
   "outputs": [
    {
     "data": {
      "text/html": [
       "<div>\n",
       "<style scoped>\n",
       "    .dataframe tbody tr th:only-of-type {\n",
       "        vertical-align: middle;\n",
       "    }\n",
       "\n",
       "    .dataframe tbody tr th {\n",
       "        vertical-align: top;\n",
       "    }\n",
       "\n",
       "    .dataframe thead th {\n",
       "        text-align: right;\n",
       "    }\n",
       "</style>\n",
       "<table border=\"1\" class=\"dataframe\">\n",
       "  <thead>\n",
       "    <tr style=\"text-align: right;\">\n",
       "      <th></th>\n",
       "      <th>N</th>\n",
       "      <th>NMISS</th>\n",
       "      <th>SUM</th>\n",
       "      <th>MEAN</th>\n",
       "      <th>MEDIAN</th>\n",
       "      <th>STD</th>\n",
       "      <th>VAR</th>\n",
       "      <th>MIN</th>\n",
       "      <th>P1</th>\n",
       "      <th>P5</th>\n",
       "      <th>P10</th>\n",
       "      <th>P25</th>\n",
       "      <th>P50</th>\n",
       "      <th>P75</th>\n",
       "      <th>P90</th>\n",
       "      <th>P95</th>\n",
       "      <th>P99</th>\n",
       "      <th>MAX</th>\n",
       "    </tr>\n",
       "  </thead>\n",
       "  <tbody>\n",
       "    <tr>\n",
       "      <th>Monitory</th>\n",
       "      <td>10855.0</td>\n",
       "      <td>0.0</td>\n",
       "      <td>3.426295e+07</td>\n",
       "      <td>3156.420740</td>\n",
       "      <td>2906.330000</td>\n",
       "      <td>2724.855943</td>\n",
       "      <td>7.424840e+06</td>\n",
       "      <td>0.0</td>\n",
       "      <td>5.540000</td>\n",
       "      <td>150.000000</td>\n",
       "      <td>365.914000</td>\n",
       "      <td>1108.00</td>\n",
       "      <td>2906.330000</td>\n",
       "      <td>4717.240000</td>\n",
       "      <td>6193.4</td>\n",
       "      <td>7347.4080</td>\n",
       "      <td>11075.9376</td>\n",
       "      <td>65386.2</td>\n",
       "    </tr>\n",
       "    <tr>\n",
       "      <th>Frequency</th>\n",
       "      <td>10855.0</td>\n",
       "      <td>0.0</td>\n",
       "      <td>1.283735e+06</td>\n",
       "      <td>118.262091</td>\n",
       "      <td>81.000000</td>\n",
       "      <td>120.260696</td>\n",
       "      <td>1.446263e+04</td>\n",
       "      <td>1.0</td>\n",
       "      <td>1.000000</td>\n",
       "      <td>5.000000</td>\n",
       "      <td>11.000000</td>\n",
       "      <td>30.00</td>\n",
       "      <td>81.000000</td>\n",
       "      <td>160.500000</td>\n",
       "      <td>288.0</td>\n",
       "      <td>312.0000</td>\n",
       "      <td>463.3800</td>\n",
       "      <td>2973.0</td>\n",
       "    </tr>\n",
       "    <tr>\n",
       "      <th>Avg_donation</th>\n",
       "      <td>10855.0</td>\n",
       "      <td>0.0</td>\n",
       "      <td>4.502089e+05</td>\n",
       "      <td>41.474799</td>\n",
       "      <td>22.297093</td>\n",
       "      <td>48.469585</td>\n",
       "      <td>2.349301e+03</td>\n",
       "      <td>0.0</td>\n",
       "      <td>2.015386</td>\n",
       "      <td>14.957909</td>\n",
       "      <td>18.226552</td>\n",
       "      <td>20.33</td>\n",
       "      <td>22.297093</td>\n",
       "      <td>39.448424</td>\n",
       "      <td>92.0</td>\n",
       "      <td>148.2901</td>\n",
       "      <td>263.9775</td>\n",
       "      <td>600.0</td>\n",
       "    </tr>\n",
       "    <tr>\n",
       "      <th>Recency</th>\n",
       "      <td>10855.0</td>\n",
       "      <td>0.0</td>\n",
       "      <td>8.745825e+06</td>\n",
       "      <td>805.695532</td>\n",
       "      <td>44.000000</td>\n",
       "      <td>1288.535844</td>\n",
       "      <td>1.660325e+06</td>\n",
       "      <td>9.0</td>\n",
       "      <td>16.000000</td>\n",
       "      <td>16.000000</td>\n",
       "      <td>16.000000</td>\n",
       "      <td>16.00</td>\n",
       "      <td>44.000000</td>\n",
       "      <td>1352.500000</td>\n",
       "      <td>3030.0</td>\n",
       "      <td>3842.6000</td>\n",
       "      <td>4780.0000</td>\n",
       "      <td>4781.0</td>\n",
       "    </tr>\n",
       "    <tr>\n",
       "      <th>churn</th>\n",
       "      <td>10855.0</td>\n",
       "      <td>0.0</td>\n",
       "      <td>7.269000e+03</td>\n",
       "      <td>0.669645</td>\n",
       "      <td>1.000000</td>\n",
       "      <td>0.470362</td>\n",
       "      <td>2.212408e-01</td>\n",
       "      <td>0.0</td>\n",
       "      <td>0.000000</td>\n",
       "      <td>0.000000</td>\n",
       "      <td>0.000000</td>\n",
       "      <td>0.00</td>\n",
       "      <td>1.000000</td>\n",
       "      <td>1.000000</td>\n",
       "      <td>1.0</td>\n",
       "      <td>1.0000</td>\n",
       "      <td>1.0000</td>\n",
       "      <td>1.0</td>\n",
       "    </tr>\n",
       "  </tbody>\n",
       "</table>\n",
       "</div>"
      ],
      "text/plain": [
       "                    N  NMISS           SUM         MEAN       MEDIAN  \\\n",
       "Monitory      10855.0    0.0  3.426295e+07  3156.420740  2906.330000   \n",
       "Frequency     10855.0    0.0  1.283735e+06   118.262091    81.000000   \n",
       "Avg_donation  10855.0    0.0  4.502089e+05    41.474799    22.297093   \n",
       "Recency       10855.0    0.0  8.745825e+06   805.695532    44.000000   \n",
       "churn         10855.0    0.0  7.269000e+03     0.669645     1.000000   \n",
       "\n",
       "                      STD           VAR  MIN         P1          P5  \\\n",
       "Monitory      2724.855943  7.424840e+06  0.0   5.540000  150.000000   \n",
       "Frequency      120.260696  1.446263e+04  1.0   1.000000    5.000000   \n",
       "Avg_donation    48.469585  2.349301e+03  0.0   2.015386   14.957909   \n",
       "Recency       1288.535844  1.660325e+06  9.0  16.000000   16.000000   \n",
       "churn            0.470362  2.212408e-01  0.0   0.000000    0.000000   \n",
       "\n",
       "                     P10      P25          P50          P75     P90  \\\n",
       "Monitory      365.914000  1108.00  2906.330000  4717.240000  6193.4   \n",
       "Frequency      11.000000    30.00    81.000000   160.500000   288.0   \n",
       "Avg_donation   18.226552    20.33    22.297093    39.448424    92.0   \n",
       "Recency        16.000000    16.00    44.000000  1352.500000  3030.0   \n",
       "churn           0.000000     0.00     1.000000     1.000000     1.0   \n",
       "\n",
       "                    P95         P99      MAX  \n",
       "Monitory      7347.4080  11075.9376  65386.2  \n",
       "Frequency      312.0000    463.3800   2973.0  \n",
       "Avg_donation   148.2901    263.9775    600.0  \n",
       "Recency       3842.6000   4780.0000   4781.0  \n",
       "churn            1.0000      1.0000      1.0  "
      ]
     },
     "execution_count": 71,
     "metadata": {},
     "output_type": "execute_result"
    }
   ],
   "source": [
    "num_var.apply(var_summary).T"
   ]
  },
  {
   "cell_type": "markdown",
   "metadata": {},
   "source": [
    "### Outliers Treatment:-"
   ]
  },
  {
   "cell_type": "code",
   "execution_count": 72,
   "metadata": {},
   "outputs": [],
   "source": [
    "# outliers treatment:-\n",
    "def outliers_treat(x):\n",
    "    x=x.clip_upper(x.quantile(0.99))\n",
    "    x=x.clip_lower(x.quantile(0.01))\n",
    "    return x\n",
    "    "
   ]
  },
  {
   "cell_type": "code",
   "execution_count": 73,
   "metadata": {},
   "outputs": [],
   "source": [
    "num_var=num_var.apply(outliers_treat)"
   ]
  },
  {
   "cell_type": "code",
   "execution_count": 74,
   "metadata": {},
   "outputs": [
    {
     "data": {
      "text/html": [
       "<div>\n",
       "<style scoped>\n",
       "    .dataframe tbody tr th:only-of-type {\n",
       "        vertical-align: middle;\n",
       "    }\n",
       "\n",
       "    .dataframe tbody tr th {\n",
       "        vertical-align: top;\n",
       "    }\n",
       "\n",
       "    .dataframe thead th {\n",
       "        text-align: right;\n",
       "    }\n",
       "</style>\n",
       "<table border=\"1\" class=\"dataframe\">\n",
       "  <thead>\n",
       "    <tr style=\"text-align: right;\">\n",
       "      <th></th>\n",
       "      <th>N</th>\n",
       "      <th>NMISS</th>\n",
       "      <th>SUM</th>\n",
       "      <th>MEAN</th>\n",
       "      <th>MEDIAN</th>\n",
       "      <th>STD</th>\n",
       "      <th>VAR</th>\n",
       "      <th>MIN</th>\n",
       "      <th>P1</th>\n",
       "      <th>P5</th>\n",
       "      <th>P10</th>\n",
       "      <th>P25</th>\n",
       "      <th>P50</th>\n",
       "      <th>P75</th>\n",
       "      <th>P90</th>\n",
       "      <th>P95</th>\n",
       "      <th>P99</th>\n",
       "      <th>MAX</th>\n",
       "    </tr>\n",
       "  </thead>\n",
       "  <tbody>\n",
       "    <tr>\n",
       "      <th>Monitory</th>\n",
       "      <td>10855.0</td>\n",
       "      <td>0.0</td>\n",
       "      <td>3.373292e+07</td>\n",
       "      <td>3107.593027</td>\n",
       "      <td>2906.330000</td>\n",
       "      <td>2417.300238</td>\n",
       "      <td>5.843340e+06</td>\n",
       "      <td>5.540000</td>\n",
       "      <td>5.540000</td>\n",
       "      <td>150.000000</td>\n",
       "      <td>365.914000</td>\n",
       "      <td>1108.00</td>\n",
       "      <td>2906.330000</td>\n",
       "      <td>4717.240000</td>\n",
       "      <td>6193.4</td>\n",
       "      <td>7347.4080</td>\n",
       "      <td>11074.804896</td>\n",
       "      <td>11075.9376</td>\n",
       "    </tr>\n",
       "    <tr>\n",
       "      <th>Frequency</th>\n",
       "      <td>10855.0</td>\n",
       "      <td>0.0</td>\n",
       "      <td>1.259995e+06</td>\n",
       "      <td>116.075119</td>\n",
       "      <td>81.000000</td>\n",
       "      <td>106.960852</td>\n",
       "      <td>1.144062e+04</td>\n",
       "      <td>1.000000</td>\n",
       "      <td>1.000000</td>\n",
       "      <td>5.000000</td>\n",
       "      <td>11.000000</td>\n",
       "      <td>30.00</td>\n",
       "      <td>81.000000</td>\n",
       "      <td>160.500000</td>\n",
       "      <td>288.0</td>\n",
       "      <td>312.0000</td>\n",
       "      <td>462.634800</td>\n",
       "      <td>463.3800</td>\n",
       "    </tr>\n",
       "    <tr>\n",
       "      <th>Avg_donation</th>\n",
       "      <td>10855.0</td>\n",
       "      <td>0.0</td>\n",
       "      <td>4.483797e+05</td>\n",
       "      <td>41.306284</td>\n",
       "      <td>22.297093</td>\n",
       "      <td>47.473856</td>\n",
       "      <td>2.253767e+03</td>\n",
       "      <td>2.015386</td>\n",
       "      <td>2.015563</td>\n",
       "      <td>14.957909</td>\n",
       "      <td>18.226552</td>\n",
       "      <td>20.33</td>\n",
       "      <td>22.297093</td>\n",
       "      <td>39.448424</td>\n",
       "      <td>92.0</td>\n",
       "      <td>148.2901</td>\n",
       "      <td>263.977500</td>\n",
       "      <td>263.9775</td>\n",
       "    </tr>\n",
       "    <tr>\n",
       "      <th>Recency</th>\n",
       "      <td>10855.0</td>\n",
       "      <td>0.0</td>\n",
       "      <td>8.746090e+06</td>\n",
       "      <td>805.719945</td>\n",
       "      <td>44.000000</td>\n",
       "      <td>1288.490155</td>\n",
       "      <td>1.660207e+06</td>\n",
       "      <td>16.000000</td>\n",
       "      <td>16.000000</td>\n",
       "      <td>16.000000</td>\n",
       "      <td>16.000000</td>\n",
       "      <td>16.00</td>\n",
       "      <td>44.000000</td>\n",
       "      <td>1352.500000</td>\n",
       "      <td>3030.0</td>\n",
       "      <td>3842.6000</td>\n",
       "      <td>4780.000000</td>\n",
       "      <td>4780.0000</td>\n",
       "    </tr>\n",
       "    <tr>\n",
       "      <th>churn</th>\n",
       "      <td>10855.0</td>\n",
       "      <td>0.0</td>\n",
       "      <td>7.269000e+03</td>\n",
       "      <td>0.669645</td>\n",
       "      <td>1.000000</td>\n",
       "      <td>0.470362</td>\n",
       "      <td>2.212408e-01</td>\n",
       "      <td>0.000000</td>\n",
       "      <td>0.000000</td>\n",
       "      <td>0.000000</td>\n",
       "      <td>0.000000</td>\n",
       "      <td>0.00</td>\n",
       "      <td>1.000000</td>\n",
       "      <td>1.000000</td>\n",
       "      <td>1.0</td>\n",
       "      <td>1.0000</td>\n",
       "      <td>1.000000</td>\n",
       "      <td>1.0000</td>\n",
       "    </tr>\n",
       "  </tbody>\n",
       "</table>\n",
       "</div>"
      ],
      "text/plain": [
       "                    N  NMISS           SUM         MEAN       MEDIAN  \\\n",
       "Monitory      10855.0    0.0  3.373292e+07  3107.593027  2906.330000   \n",
       "Frequency     10855.0    0.0  1.259995e+06   116.075119    81.000000   \n",
       "Avg_donation  10855.0    0.0  4.483797e+05    41.306284    22.297093   \n",
       "Recency       10855.0    0.0  8.746090e+06   805.719945    44.000000   \n",
       "churn         10855.0    0.0  7.269000e+03     0.669645     1.000000   \n",
       "\n",
       "                      STD           VAR        MIN         P1          P5  \\\n",
       "Monitory      2417.300238  5.843340e+06   5.540000   5.540000  150.000000   \n",
       "Frequency      106.960852  1.144062e+04   1.000000   1.000000    5.000000   \n",
       "Avg_donation    47.473856  2.253767e+03   2.015386   2.015563   14.957909   \n",
       "Recency       1288.490155  1.660207e+06  16.000000  16.000000   16.000000   \n",
       "churn            0.470362  2.212408e-01   0.000000   0.000000    0.000000   \n",
       "\n",
       "                     P10      P25          P50          P75     P90  \\\n",
       "Monitory      365.914000  1108.00  2906.330000  4717.240000  6193.4   \n",
       "Frequency      11.000000    30.00    81.000000   160.500000   288.0   \n",
       "Avg_donation   18.226552    20.33    22.297093    39.448424    92.0   \n",
       "Recency        16.000000    16.00    44.000000  1352.500000  3030.0   \n",
       "churn           0.000000     0.00     1.000000     1.000000     1.0   \n",
       "\n",
       "                    P95           P99         MAX  \n",
       "Monitory      7347.4080  11074.804896  11075.9376  \n",
       "Frequency      312.0000    462.634800    463.3800  \n",
       "Avg_donation   148.2901    263.977500    263.9775  \n",
       "Recency       3842.6000   4780.000000   4780.0000  \n",
       "churn            1.0000      1.000000      1.0000  "
      ]
     },
     "execution_count": 74,
     "metadata": {},
     "output_type": "execute_result"
    }
   ],
   "source": [
    "num_var.apply(var_summary).T"
   ]
  },
  {
   "cell_type": "markdown",
   "metadata": {},
   "source": [
    "### Handling Categorical Features:-"
   ]
  },
  {
   "cell_type": "code",
   "execution_count": 75,
   "metadata": {},
   "outputs": [],
   "source": [
    "cat_var_name=[key for key in dict(rfm_table.dtypes) if dict(rfm_table.dtypes)[key] in [\"object\"]]"
   ]
  },
  {
   "cell_type": "code",
   "execution_count": 76,
   "metadata": {},
   "outputs": [
    {
     "data": {
      "text/plain": [
       "['cust_id',\n",
       " 'Cust_name',\n",
       " 'Post_code',\n",
       " 'Mailing_lang',\n",
       " 'Activity_code',\n",
       " 'Activity_desc']"
      ]
     },
     "execution_count": 76,
     "metadata": {},
     "output_type": "execute_result"
    }
   ],
   "source": [
    "cat_var_name"
   ]
  },
  {
   "cell_type": "code",
   "execution_count": 77,
   "metadata": {},
   "outputs": [],
   "source": [
    "cat_var_name=['cust_id','Mailing_lang','Activity_desc']"
   ]
  },
  {
   "cell_type": "code",
   "execution_count": 78,
   "metadata": {},
   "outputs": [],
   "source": [
    "cat_var=rfm_table[cat_var_name]"
   ]
  },
  {
   "cell_type": "code",
   "execution_count": 79,
   "metadata": {},
   "outputs": [
    {
     "data": {
      "text/html": [
       "<div>\n",
       "<style scoped>\n",
       "    .dataframe tbody tr th:only-of-type {\n",
       "        vertical-align: middle;\n",
       "    }\n",
       "\n",
       "    .dataframe tbody tr th {\n",
       "        vertical-align: top;\n",
       "    }\n",
       "\n",
       "    .dataframe thead th {\n",
       "        text-align: right;\n",
       "    }\n",
       "</style>\n",
       "<table border=\"1\" class=\"dataframe\">\n",
       "  <thead>\n",
       "    <tr style=\"text-align: right;\">\n",
       "      <th></th>\n",
       "      <th>cust_id</th>\n",
       "      <th>Mailing_lang</th>\n",
       "      <th>Activity_desc</th>\n",
       "    </tr>\n",
       "  </thead>\n",
       "  <tbody>\n",
       "    <tr>\n",
       "      <th>0</th>\n",
       "      <td>b'0026414'</td>\n",
       "      <td>b'NL'</td>\n",
       "      <td>b'Contributor'</td>\n",
       "    </tr>\n",
       "    <tr>\n",
       "      <th>1</th>\n",
       "      <td>b'0026419'</td>\n",
       "      <td>b'NL'</td>\n",
       "      <td>b'CommitmentDo'</td>\n",
       "    </tr>\n",
       "    <tr>\n",
       "      <th>2</th>\n",
       "      <td>b'0026424'</td>\n",
       "      <td>b'NL'</td>\n",
       "      <td>b'CommitmentDo'</td>\n",
       "    </tr>\n",
       "    <tr>\n",
       "      <th>3</th>\n",
       "      <td>b'0026430'</td>\n",
       "      <td>b'NL'</td>\n",
       "      <td>b'CommitmentDo'</td>\n",
       "    </tr>\n",
       "    <tr>\n",
       "      <th>5</th>\n",
       "      <td>b'0026431'</td>\n",
       "      <td>b'NL'</td>\n",
       "      <td>b'CommitmentDo'</td>\n",
       "    </tr>\n",
       "  </tbody>\n",
       "</table>\n",
       "</div>"
      ],
      "text/plain": [
       "      cust_id Mailing_lang    Activity_desc\n",
       "0  b'0026414'        b'NL'   b'Contributor'\n",
       "1  b'0026419'        b'NL'  b'CommitmentDo'\n",
       "2  b'0026424'        b'NL'  b'CommitmentDo'\n",
       "3  b'0026430'        b'NL'  b'CommitmentDo'\n",
       "5  b'0026431'        b'NL'  b'CommitmentDo'"
      ]
     },
     "execution_count": 79,
     "metadata": {},
     "output_type": "execute_result"
    }
   ],
   "source": [
    "cat_var.head()"
   ]
  },
  {
   "cell_type": "code",
   "execution_count": 80,
   "metadata": {},
   "outputs": [
    {
     "name": "stdout",
     "output_type": "stream",
     "text": [
      "<class 'pandas.core.frame.DataFrame'>\n",
      "Int64Index: 10855 entries, 0 to 18610\n",
      "Data columns (total 3 columns):\n",
      "cust_id          10855 non-null object\n",
      "Mailing_lang     10855 non-null object\n",
      "Activity_desc    10855 non-null object\n",
      "dtypes: object(3)\n",
      "memory usage: 339.2+ KB\n"
     ]
    }
   ],
   "source": [
    "cat_var.info()"
   ]
  },
  {
   "cell_type": "code",
   "execution_count": 81,
   "metadata": {},
   "outputs": [],
   "source": [
    "# Converting categorical Var into numerical Var:-\n",
    "\n",
    "from sklearn.preprocessing import Imputer\n",
    "from sklearn.preprocessing import LabelEncoder"
   ]
  },
  {
   "cell_type": "code",
   "execution_count": 82,
   "metadata": {},
   "outputs": [],
   "source": [
    "encoder=LabelEncoder()"
   ]
  },
  {
   "cell_type": "code",
   "execution_count": 83,
   "metadata": {},
   "outputs": [],
   "source": [
    "cat_var=cat_var.apply(encoder.fit_transform)"
   ]
  },
  {
   "cell_type": "code",
   "execution_count": 84,
   "metadata": {
    "scrolled": true
   },
   "outputs": [
    {
     "data": {
      "text/html": [
       "<div>\n",
       "<style scoped>\n",
       "    .dataframe tbody tr th:only-of-type {\n",
       "        vertical-align: middle;\n",
       "    }\n",
       "\n",
       "    .dataframe tbody tr th {\n",
       "        vertical-align: top;\n",
       "    }\n",
       "\n",
       "    .dataframe thead th {\n",
       "        text-align: right;\n",
       "    }\n",
       "</style>\n",
       "<table border=\"1\" class=\"dataframe\">\n",
       "  <thead>\n",
       "    <tr style=\"text-align: right;\">\n",
       "      <th></th>\n",
       "      <th>cust_id</th>\n",
       "      <th>Mailing_lang</th>\n",
       "      <th>Activity_desc</th>\n",
       "    </tr>\n",
       "  </thead>\n",
       "  <tbody>\n",
       "    <tr>\n",
       "      <th>0</th>\n",
       "      <td>0</td>\n",
       "      <td>1</td>\n",
       "      <td>2</td>\n",
       "    </tr>\n",
       "    <tr>\n",
       "      <th>1</th>\n",
       "      <td>1</td>\n",
       "      <td>1</td>\n",
       "      <td>1</td>\n",
       "    </tr>\n",
       "    <tr>\n",
       "      <th>2</th>\n",
       "      <td>2</td>\n",
       "      <td>1</td>\n",
       "      <td>1</td>\n",
       "    </tr>\n",
       "    <tr>\n",
       "      <th>3</th>\n",
       "      <td>3</td>\n",
       "      <td>1</td>\n",
       "      <td>1</td>\n",
       "    </tr>\n",
       "    <tr>\n",
       "      <th>5</th>\n",
       "      <td>4</td>\n",
       "      <td>1</td>\n",
       "      <td>1</td>\n",
       "    </tr>\n",
       "  </tbody>\n",
       "</table>\n",
       "</div>"
      ],
      "text/plain": [
       "   cust_id  Mailing_lang  Activity_desc\n",
       "0        0             1              2\n",
       "1        1             1              1\n",
       "2        2             1              1\n",
       "3        3             1              1\n",
       "5        4             1              1"
      ]
     },
     "execution_count": 84,
     "metadata": {},
     "output_type": "execute_result"
    }
   ],
   "source": [
    "cat_var.head()"
   ]
  },
  {
   "cell_type": "code",
   "execution_count": 85,
   "metadata": {},
   "outputs": [],
   "source": [
    "churn_final=pd.concat([num_var,cat_var],axis=1)"
   ]
  },
  {
   "cell_type": "code",
   "execution_count": 86,
   "metadata": {},
   "outputs": [
    {
     "data": {
      "text/html": [
       "<div>\n",
       "<style scoped>\n",
       "    .dataframe tbody tr th:only-of-type {\n",
       "        vertical-align: middle;\n",
       "    }\n",
       "\n",
       "    .dataframe tbody tr th {\n",
       "        vertical-align: top;\n",
       "    }\n",
       "\n",
       "    .dataframe thead th {\n",
       "        text-align: right;\n",
       "    }\n",
       "</style>\n",
       "<table border=\"1\" class=\"dataframe\">\n",
       "  <thead>\n",
       "    <tr style=\"text-align: right;\">\n",
       "      <th></th>\n",
       "      <th>Monitory</th>\n",
       "      <th>Frequency</th>\n",
       "      <th>Avg_donation</th>\n",
       "      <th>Recency</th>\n",
       "      <th>churn</th>\n",
       "      <th>cust_id</th>\n",
       "      <th>Mailing_lang</th>\n",
       "      <th>Activity_desc</th>\n",
       "    </tr>\n",
       "  </thead>\n",
       "  <tbody>\n",
       "    <tr>\n",
       "      <th>0</th>\n",
       "      <td>3112.80</td>\n",
       "      <td>156.0</td>\n",
       "      <td>19.953846</td>\n",
       "      <td>16.0</td>\n",
       "      <td>0.0</td>\n",
       "      <td>0</td>\n",
       "      <td>1</td>\n",
       "      <td>2</td>\n",
       "    </tr>\n",
       "    <tr>\n",
       "      <th>1</th>\n",
       "      <td>3155.05</td>\n",
       "      <td>69.0</td>\n",
       "      <td>45.725362</td>\n",
       "      <td>31.0</td>\n",
       "      <td>0.0</td>\n",
       "      <td>1</td>\n",
       "      <td>1</td>\n",
       "      <td>1</td>\n",
       "    </tr>\n",
       "    <tr>\n",
       "      <th>2</th>\n",
       "      <td>524.85</td>\n",
       "      <td>35.0</td>\n",
       "      <td>14.995714</td>\n",
       "      <td>3683.0</td>\n",
       "      <td>1.0</td>\n",
       "      <td>2</td>\n",
       "      <td>1</td>\n",
       "      <td>1</td>\n",
       "    </tr>\n",
       "    <tr>\n",
       "      <th>3</th>\n",
       "      <td>5572.26</td>\n",
       "      <td>292.0</td>\n",
       "      <td>19.083082</td>\n",
       "      <td>472.0</td>\n",
       "      <td>1.0</td>\n",
       "      <td>3</td>\n",
       "      <td>1</td>\n",
       "      <td>1</td>\n",
       "    </tr>\n",
       "    <tr>\n",
       "      <th>5</th>\n",
       "      <td>6101.22</td>\n",
       "      <td>42.0</td>\n",
       "      <td>145.267143</td>\n",
       "      <td>280.0</td>\n",
       "      <td>0.0</td>\n",
       "      <td>4</td>\n",
       "      <td>1</td>\n",
       "      <td>1</td>\n",
       "    </tr>\n",
       "  </tbody>\n",
       "</table>\n",
       "</div>"
      ],
      "text/plain": [
       "   Monitory  Frequency  Avg_donation  Recency  churn  cust_id  Mailing_lang  \\\n",
       "0   3112.80      156.0     19.953846     16.0    0.0        0             1   \n",
       "1   3155.05       69.0     45.725362     31.0    0.0        1             1   \n",
       "2    524.85       35.0     14.995714   3683.0    1.0        2             1   \n",
       "3   5572.26      292.0     19.083082    472.0    1.0        3             1   \n",
       "5   6101.22       42.0    145.267143    280.0    0.0        4             1   \n",
       "\n",
       "   Activity_desc  \n",
       "0              2  \n",
       "1              1  \n",
       "2              1  \n",
       "3              1  \n",
       "5              1  "
      ]
     },
     "execution_count": 86,
     "metadata": {},
     "output_type": "execute_result"
    }
   ],
   "source": [
    "churn_final.head()"
   ]
  },
  {
   "cell_type": "markdown",
   "metadata": {},
   "source": [
    "### Variable Reduction:-"
   ]
  },
  {
   "cell_type": "code",
   "execution_count": 87,
   "metadata": {},
   "outputs": [],
   "source": [
    "# Finding correlation matrix:-\n",
    "\n",
    "corr=churn_final.corr()"
   ]
  },
  {
   "cell_type": "code",
   "execution_count": 88,
   "metadata": {},
   "outputs": [
    {
     "data": {
      "text/html": [
       "<div>\n",
       "<style scoped>\n",
       "    .dataframe tbody tr th:only-of-type {\n",
       "        vertical-align: middle;\n",
       "    }\n",
       "\n",
       "    .dataframe tbody tr th {\n",
       "        vertical-align: top;\n",
       "    }\n",
       "\n",
       "    .dataframe thead th {\n",
       "        text-align: right;\n",
       "    }\n",
       "</style>\n",
       "<table border=\"1\" class=\"dataframe\">\n",
       "  <thead>\n",
       "    <tr style=\"text-align: right;\">\n",
       "      <th></th>\n",
       "      <th>Monitory</th>\n",
       "      <th>Frequency</th>\n",
       "      <th>Avg_donation</th>\n",
       "      <th>Recency</th>\n",
       "      <th>churn</th>\n",
       "      <th>cust_id</th>\n",
       "      <th>Mailing_lang</th>\n",
       "      <th>Activity_desc</th>\n",
       "    </tr>\n",
       "  </thead>\n",
       "  <tbody>\n",
       "    <tr>\n",
       "      <th>Monitory</th>\n",
       "      <td>1.000000</td>\n",
       "      <td>0.799506</td>\n",
       "      <td>0.091512</td>\n",
       "      <td>-0.451401</td>\n",
       "      <td>0.122514</td>\n",
       "      <td>-0.311336</td>\n",
       "      <td>0.014871</td>\n",
       "      <td>0.377436</td>\n",
       "    </tr>\n",
       "    <tr>\n",
       "      <th>Frequency</th>\n",
       "      <td>0.799506</td>\n",
       "      <td>1.000000</td>\n",
       "      <td>-0.331242</td>\n",
       "      <td>-0.372674</td>\n",
       "      <td>0.097828</td>\n",
       "      <td>-0.295243</td>\n",
       "      <td>0.004991</td>\n",
       "      <td>0.293710</td>\n",
       "    </tr>\n",
       "    <tr>\n",
       "      <th>Avg_donation</th>\n",
       "      <td>0.091512</td>\n",
       "      <td>-0.331242</td>\n",
       "      <td>1.000000</td>\n",
       "      <td>-0.052266</td>\n",
       "      <td>-0.003344</td>\n",
       "      <td>0.038685</td>\n",
       "      <td>0.015089</td>\n",
       "      <td>0.060508</td>\n",
       "    </tr>\n",
       "    <tr>\n",
       "      <th>Recency</th>\n",
       "      <td>-0.451401</td>\n",
       "      <td>-0.372674</td>\n",
       "      <td>-0.052266</td>\n",
       "      <td>1.000000</td>\n",
       "      <td>0.399234</td>\n",
       "      <td>-0.336728</td>\n",
       "      <td>-0.011872</td>\n",
       "      <td>-0.053802</td>\n",
       "    </tr>\n",
       "    <tr>\n",
       "      <th>churn</th>\n",
       "      <td>0.122514</td>\n",
       "      <td>0.097828</td>\n",
       "      <td>-0.003344</td>\n",
       "      <td>0.399234</td>\n",
       "      <td>1.000000</td>\n",
       "      <td>-0.030101</td>\n",
       "      <td>-0.103983</td>\n",
       "      <td>0.670773</td>\n",
       "    </tr>\n",
       "    <tr>\n",
       "      <th>cust_id</th>\n",
       "      <td>-0.311336</td>\n",
       "      <td>-0.295243</td>\n",
       "      <td>0.038685</td>\n",
       "      <td>-0.336728</td>\n",
       "      <td>-0.030101</td>\n",
       "      <td>1.000000</td>\n",
       "      <td>-0.130757</td>\n",
       "      <td>0.198057</td>\n",
       "    </tr>\n",
       "    <tr>\n",
       "      <th>Mailing_lang</th>\n",
       "      <td>0.014871</td>\n",
       "      <td>0.004991</td>\n",
       "      <td>0.015089</td>\n",
       "      <td>-0.011872</td>\n",
       "      <td>-0.103983</td>\n",
       "      <td>-0.130757</td>\n",
       "      <td>1.000000</td>\n",
       "      <td>-0.159076</td>\n",
       "    </tr>\n",
       "    <tr>\n",
       "      <th>Activity_desc</th>\n",
       "      <td>0.377436</td>\n",
       "      <td>0.293710</td>\n",
       "      <td>0.060508</td>\n",
       "      <td>-0.053802</td>\n",
       "      <td>0.670773</td>\n",
       "      <td>0.198057</td>\n",
       "      <td>-0.159076</td>\n",
       "      <td>1.000000</td>\n",
       "    </tr>\n",
       "  </tbody>\n",
       "</table>\n",
       "</div>"
      ],
      "text/plain": [
       "               Monitory  Frequency  Avg_donation   Recency     churn  \\\n",
       "Monitory       1.000000   0.799506      0.091512 -0.451401  0.122514   \n",
       "Frequency      0.799506   1.000000     -0.331242 -0.372674  0.097828   \n",
       "Avg_donation   0.091512  -0.331242      1.000000 -0.052266 -0.003344   \n",
       "Recency       -0.451401  -0.372674     -0.052266  1.000000  0.399234   \n",
       "churn          0.122514   0.097828     -0.003344  0.399234  1.000000   \n",
       "cust_id       -0.311336  -0.295243      0.038685 -0.336728 -0.030101   \n",
       "Mailing_lang   0.014871   0.004991      0.015089 -0.011872 -0.103983   \n",
       "Activity_desc  0.377436   0.293710      0.060508 -0.053802  0.670773   \n",
       "\n",
       "                cust_id  Mailing_lang  Activity_desc  \n",
       "Monitory      -0.311336      0.014871       0.377436  \n",
       "Frequency     -0.295243      0.004991       0.293710  \n",
       "Avg_donation   0.038685      0.015089       0.060508  \n",
       "Recency       -0.336728     -0.011872      -0.053802  \n",
       "churn         -0.030101     -0.103983       0.670773  \n",
       "cust_id        1.000000     -0.130757       0.198057  \n",
       "Mailing_lang  -0.130757      1.000000      -0.159076  \n",
       "Activity_desc  0.198057     -0.159076       1.000000  "
      ]
     },
     "execution_count": 88,
     "metadata": {},
     "output_type": "execute_result"
    }
   ],
   "source": [
    "corr"
   ]
  },
  {
   "cell_type": "code",
   "execution_count": 89,
   "metadata": {},
   "outputs": [],
   "source": [
    "import seaborn as sns"
   ]
  },
  {
   "cell_type": "code",
   "execution_count": 90,
   "metadata": {},
   "outputs": [
    {
     "data": {
      "text/plain": [
       "<matplotlib.axes._subplots.AxesSubplot at 0x1856c6a0>"
      ]
     },
     "execution_count": 90,
     "metadata": {},
     "output_type": "execute_result"
    },
    {
     "data": {
      "image/png": "[encoded data removed]",
      "text/plain": [
       "<matplotlib.figure.Figure at 0x1856c0f0>"
      ]
     },
     "metadata": {},
     "output_type": "display_data"
    }
   ],
   "source": [
    "plt.rcParams[\"figure.figsize\"]=10,7.5\n",
    "\n",
    "# Generate a mask for the upper triangle\n",
    "mask=np.zeros_like(corr,dtype=np.bool)\n",
    "mask[np.triu_indices_from(mask)]=True\n",
    "\n",
    "# Generate a custom diverging colormap\n",
    "cmap=sns.diverging_palette(220,10,as_cmap=True)\n",
    "\n",
    "# Draw the heatmap with the mask and correct aspect ratio\n",
    "sns.heatmap(corr, mask=mask, cmap=cmap, vmax=.3, center=0,\n",
    "            square=True, linewidths=.5, cbar_kws={\"shrink\": .5})"
   ]
  },
  {
   "cell_type": "markdown",
   "metadata": {},
   "source": [
    "### Data Reduction By Using Random Forest Feature Importance:-"
   ]
  },
  {
   "cell_type": "code",
   "execution_count": 90,
   "metadata": {},
   "outputs": [],
   "source": [
    "from sklearn.ensemble import RandomForestClassifier"
   ]
  },
  {
   "cell_type": "code",
   "execution_count": 91,
   "metadata": {},
   "outputs": [],
   "source": [
    "train_x,test_x,train_y,test_y=train_test_split(churn_final[churn_final.columns.difference([\"churn\"])],churn_final[\"churn\"],test_size=0.3,random_state=42)"
   ]
  },
  {
   "cell_type": "code",
   "execution_count": 92,
   "metadata": {},
   "outputs": [],
   "source": [
    "rf_model=RandomForestClassifier(n_estimators=100).fit(train_x,train_y)"
   ]
  },
  {
   "cell_type": "code",
   "execution_count": 93,
   "metadata": {},
   "outputs": [],
   "source": [
    "feature_imp=pd.DataFrame({\"var\":train_x.columns,\"importance\":rf_model.feature_importances_}).sort_values([\"importance\"],ascending=False)"
   ]
  },
  {
   "cell_type": "code",
   "execution_count": 94,
   "metadata": {},
   "outputs": [
    {
     "data": {
      "text/html": [
       "<div>\n",
       "<style scoped>\n",
       "    .dataframe tbody tr th:only-of-type {\n",
       "        vertical-align: middle;\n",
       "    }\n",
       "\n",
       "    .dataframe tbody tr th {\n",
       "        vertical-align: top;\n",
       "    }\n",
       "\n",
       "    .dataframe thead th {\n",
       "        text-align: right;\n",
       "    }\n",
       "</style>\n",
       "<table border=\"1\" class=\"dataframe\">\n",
       "  <thead>\n",
       "    <tr style=\"text-align: right;\">\n",
       "      <th></th>\n",
       "      <th>importance</th>\n",
       "      <th>var</th>\n",
       "    </tr>\n",
       "  </thead>\n",
       "  <tbody>\n",
       "    <tr>\n",
       "      <th>0</th>\n",
       "      <td>0.431917</td>\n",
       "      <td>Activity_desc</td>\n",
       "    </tr>\n",
       "    <tr>\n",
       "      <th>5</th>\n",
       "      <td>0.271125</td>\n",
       "      <td>Recency</td>\n",
       "    </tr>\n",
       "    <tr>\n",
       "      <th>4</th>\n",
       "      <td>0.097658</td>\n",
       "      <td>Monitory</td>\n",
       "    </tr>\n",
       "    <tr>\n",
       "      <th>6</th>\n",
       "      <td>0.084034</td>\n",
       "      <td>cust_id</td>\n",
       "    </tr>\n",
       "    <tr>\n",
       "      <th>1</th>\n",
       "      <td>0.063557</td>\n",
       "      <td>Avg_donation</td>\n",
       "    </tr>\n",
       "    <tr>\n",
       "      <th>2</th>\n",
       "      <td>0.050607</td>\n",
       "      <td>Frequency</td>\n",
       "    </tr>\n",
       "    <tr>\n",
       "      <th>3</th>\n",
       "      <td>0.001101</td>\n",
       "      <td>Mailing_lang</td>\n",
       "    </tr>\n",
       "  </tbody>\n",
       "</table>\n",
       "</div>"
      ],
      "text/plain": [
       "   importance            var\n",
       "0    0.431917  Activity_desc\n",
       "5    0.271125        Recency\n",
       "4    0.097658       Monitory\n",
       "6    0.084034        cust_id\n",
       "1    0.063557   Avg_donation\n",
       "2    0.050607      Frequency\n",
       "3    0.001101   Mailing_lang"
      ]
     },
     "execution_count": 94,
     "metadata": {},
     "output_type": "execute_result"
    }
   ],
   "source": [
    "feature_imp"
   ]
  },
  {
   "cell_type": "code",
   "execution_count": 95,
   "metadata": {},
   "outputs": [
    {
     "name": "stdout",
     "output_type": "stream",
     "text": [
      "<class 'pandas.core.frame.DataFrame'>\n",
      "Int64Index: 10855 entries, 0 to 18610\n",
      "Data columns (total 13 columns):\n",
      "cust_id           10855 non-null object\n",
      "Monitory          10855 non-null float64\n",
      "Frequency         10855 non-null int64\n",
      "Avg_donation      10855 non-null float64\n",
      "Recency           10855 non-null float64\n",
      "Cust_name         10591 non-null object\n",
      "Post_code         10809 non-null object\n",
      "Mailing_lang      10855 non-null object\n",
      "Activity_code     10855 non-null object\n",
      "Rel_start_date    10855 non-null datetime64[ns]\n",
      "Rel_end_date      7269 non-null datetime64[ns]\n",
      "Activity_desc     10855 non-null object\n",
      "churn             10855 non-null int32\n",
      "dtypes: datetime64[ns](2), float64(3), int32(1), int64(1), object(6)\n",
      "memory usage: 1.4+ MB\n"
     ]
    }
   ],
   "source": [
    "rfm_table.info()"
   ]
  },
  {
   "cell_type": "markdown",
   "metadata": {},
   "source": [
    "###  Creating dependent Var:-"
   ]
  },
  {
   "cell_type": "code",
   "execution_count": 96,
   "metadata": {},
   "outputs": [],
   "source": [
    "churn_final[\"Date\"]=rfm_table[\"Rel_start_date\"]"
   ]
  },
  {
   "cell_type": "code",
   "execution_count": 97,
   "metadata": {},
   "outputs": [],
   "source": [
    "churn_final=churn_final.sort_values([\"Date\"],ascending=True)"
   ]
  },
  {
   "cell_type": "code",
   "execution_count": 98,
   "metadata": {},
   "outputs": [
    {
     "data": {
      "text/html": [
       "<div>\n",
       "<style scoped>\n",
       "    .dataframe tbody tr th:only-of-type {\n",
       "        vertical-align: middle;\n",
       "    }\n",
       "\n",
       "    .dataframe tbody tr th {\n",
       "        vertical-align: top;\n",
       "    }\n",
       "\n",
       "    .dataframe thead th {\n",
       "        text-align: right;\n",
       "    }\n",
       "</style>\n",
       "<table border=\"1\" class=\"dataframe\">\n",
       "  <thead>\n",
       "    <tr style=\"text-align: right;\">\n",
       "      <th></th>\n",
       "      <th>Monitory</th>\n",
       "      <th>Frequency</th>\n",
       "      <th>Avg_donation</th>\n",
       "      <th>Recency</th>\n",
       "      <th>churn</th>\n",
       "      <th>cust_id</th>\n",
       "      <th>Mailing_lang</th>\n",
       "      <th>Activity_desc</th>\n",
       "      <th>Date</th>\n",
       "    </tr>\n",
       "  </thead>\n",
       "  <tbody>\n",
       "    <tr>\n",
       "      <th>68</th>\n",
       "      <td>2809.13</td>\n",
       "      <td>141.0</td>\n",
       "      <td>19.922908</td>\n",
       "      <td>442.0</td>\n",
       "      <td>1.0</td>\n",
       "      <td>51</td>\n",
       "      <td>1</td>\n",
       "      <td>1</td>\n",
       "      <td>1992-03-01</td>\n",
       "    </tr>\n",
       "    <tr>\n",
       "      <th>39</th>\n",
       "      <td>3132.11</td>\n",
       "      <td>158.0</td>\n",
       "      <td>19.823481</td>\n",
       "      <td>16.0</td>\n",
       "      <td>0.0</td>\n",
       "      <td>29</td>\n",
       "      <td>1</td>\n",
       "      <td>1</td>\n",
       "      <td>1992-03-01</td>\n",
       "    </tr>\n",
       "    <tr>\n",
       "      <th>40</th>\n",
       "      <td>3115.10</td>\n",
       "      <td>156.0</td>\n",
       "      <td>19.968590</td>\n",
       "      <td>23.0</td>\n",
       "      <td>0.0</td>\n",
       "      <td>30</td>\n",
       "      <td>1</td>\n",
       "      <td>1</td>\n",
       "      <td>1992-03-01</td>\n",
       "    </tr>\n",
       "    <tr>\n",
       "      <th>41</th>\n",
       "      <td>641.08</td>\n",
       "      <td>50.0</td>\n",
       "      <td>12.821600</td>\n",
       "      <td>4013.0</td>\n",
       "      <td>0.0</td>\n",
       "      <td>31</td>\n",
       "      <td>1</td>\n",
       "      <td>2</td>\n",
       "      <td>1992-03-01</td>\n",
       "    </tr>\n",
       "    <tr>\n",
       "      <th>43</th>\n",
       "      <td>3109.12</td>\n",
       "      <td>157.0</td>\n",
       "      <td>19.803312</td>\n",
       "      <td>16.0</td>\n",
       "      <td>0.0</td>\n",
       "      <td>32</td>\n",
       "      <td>1</td>\n",
       "      <td>1</td>\n",
       "      <td>1992-03-01</td>\n",
       "    </tr>\n",
       "  </tbody>\n",
       "</table>\n",
       "</div>"
      ],
      "text/plain": [
       "    Monitory  Frequency  Avg_donation  Recency  churn  cust_id  Mailing_lang  \\\n",
       "68   2809.13      141.0     19.922908    442.0    1.0       51             1   \n",
       "39   3132.11      158.0     19.823481     16.0    0.0       29             1   \n",
       "40   3115.10      156.0     19.968590     23.0    0.0       30             1   \n",
       "41    641.08       50.0     12.821600   4013.0    0.0       31             1   \n",
       "43   3109.12      157.0     19.803312     16.0    0.0       32             1   \n",
       "\n",
       "    Activity_desc       Date  \n",
       "68              1 1992-03-01  \n",
       "39              1 1992-03-01  \n",
       "40              1 1992-03-01  \n",
       "41              2 1992-03-01  \n",
       "43              1 1992-03-01  "
      ]
     },
     "execution_count": 98,
     "metadata": {},
     "output_type": "execute_result"
    }
   ],
   "source": [
    "churn_final.head()"
   ]
  },
  {
   "cell_type": "code",
   "execution_count": 99,
   "metadata": {},
   "outputs": [],
   "source": [
    "import statsmodels.formula.api as smf"
   ]
  },
  {
   "cell_type": "code",
   "execution_count": 100,
   "metadata": {},
   "outputs": [],
   "source": [
    "train=churn_final[churn_final[\"Date\"]<=pd.to_datetime(\"2003-01-01\")]"
   ]
  },
  {
   "cell_type": "code",
   "execution_count": 101,
   "metadata": {},
   "outputs": [
    {
     "data": {
      "text/plain": [
       "(9201, 9)"
      ]
     },
     "execution_count": 101,
     "metadata": {},
     "output_type": "execute_result"
    }
   ],
   "source": [
    "train.shape"
   ]
  },
  {
   "cell_type": "code",
   "execution_count": 102,
   "metadata": {},
   "outputs": [],
   "source": [
    "test=churn_final[(churn_final[\"Date\"]>=pd.to_datetime(\"2003-01-01\")) & (churn_final[\"Date\"]<=pd.to_datetime(\"2005-01-01\"))]"
   ]
  },
  {
   "cell_type": "code",
   "execution_count": 103,
   "metadata": {},
   "outputs": [
    {
     "data": {
      "text/plain": [
       "(968, 9)"
      ]
     },
     "execution_count": 103,
     "metadata": {},
     "output_type": "execute_result"
    }
   ],
   "source": [
    "test.shape"
   ]
  },
  {
   "cell_type": "code",
   "execution_count": 104,
   "metadata": {},
   "outputs": [],
   "source": [
    "out_of_sample=churn_final[churn_final[\"Date\"]>=pd.to_datetime(\"2005-01-01\")]"
   ]
  },
  {
   "cell_type": "code",
   "execution_count": 105,
   "metadata": {},
   "outputs": [
    {
     "data": {
      "text/plain": [
       "(790, 9)"
      ]
     },
     "execution_count": 105,
     "metadata": {},
     "output_type": "execute_result"
    }
   ],
   "source": [
    "out_of_sample.shape"
   ]
  },
  {
   "cell_type": "markdown",
   "metadata": {},
   "source": [
    "## Applying Binary Logistic Regression:-"
   ]
  },
  {
   "cell_type": "code",
   "execution_count": 106,
   "metadata": {},
   "outputs": [
    {
     "name": "stdout",
     "output_type": "stream",
     "text": [
      "Optimization terminated successfully.\n",
      "         Current function value: 0.129576\n",
      "         Iterations 10\n"
     ]
    }
   ],
   "source": [
    "logit_model=smf.logit(\"churn~Activity_desc+Recency+Monitory+Avg_donation+Frequency+Mailing_lang\",train).fit()"
   ]
  },
  {
   "cell_type": "code",
   "execution_count": 107,
   "metadata": {},
   "outputs": [
    {
     "name": "stdout",
     "output_type": "stream",
     "text": [
      "                         Results: Logit\n",
      "================================================================\n",
      "Model:              Logit            No. Iterations:   10.0000  \n",
      "Dependent Variable: churn            Pseudo R-squared: 0.783    \n",
      "Date:               2018-08-26 19:25 AIC:              2398.4543\n",
      "No. Observations:   9201             BIC:              2448.3438\n",
      "Df Model:           6                Log-Likelihood:   -1192.2  \n",
      "Df Residuals:       9194             LL-Null:          -5506.6  \n",
      "Converged:          1.0000           Scale:            1.0000   \n",
      "----------------------------------------------------------------\n",
      "                 Coef.  Std.Err.    z     P>|z|   [0.025  0.975]\n",
      "----------------------------------------------------------------\n",
      "Intercept       -3.5949   0.2934 -12.2533 0.0000 -4.1699 -3.0198\n",
      "Activity_desc    1.4386   0.0434  33.1155 0.0000  1.3535  1.5238\n",
      "Recency          0.0038   0.0001  26.6417 0.0000  0.0035  0.0040\n",
      "Monitory         0.0001   0.0001   1.1753 0.2399 -0.0000  0.0002\n",
      "Avg_donation    -0.0084   0.0020  -4.1414 0.0000 -0.0124 -0.0044\n",
      "Frequency       -0.0005   0.0013  -0.3775 0.7058 -0.0029  0.0020\n",
      "Mailing_lang    -0.2761   0.2628  -1.0507 0.2934 -0.7912  0.2389\n",
      "================================================================\n",
      "\n"
     ]
    }
   ],
   "source": [
    "print(logit_model.summary2())"
   ]
  },
  {
   "cell_type": "code",
   "execution_count": 108,
   "metadata": {},
   "outputs": [
    {
     "name": "stdout",
     "output_type": "stream",
     "text": [
      "Optimization terminated successfully.\n",
      "         Current function value: 0.129779\n",
      "         Iterations 10\n"
     ]
    }
   ],
   "source": [
    "train_model=smf.logit(\"churn~Activity_desc+Recency+Avg_donation\",train).fit()"
   ]
  },
  {
   "cell_type": "code",
   "execution_count": 109,
   "metadata": {},
   "outputs": [
    {
     "name": "stdout",
     "output_type": "stream",
     "text": [
      "                         Results: Logit\n",
      "================================================================\n",
      "Model:              Logit            No. Iterations:   10.0000  \n",
      "Dependent Variable: churn            Pseudo R-squared: 0.783    \n",
      "Date:               2018-08-26 19:25 AIC:              2396.2023\n",
      "No. Observations:   9201             BIC:              2424.7106\n",
      "Df Model:           3                Log-Likelihood:   -1194.1  \n",
      "Df Residuals:       9197             LL-Null:          -5506.6  \n",
      "Converged:          1.0000           Scale:            1.0000   \n",
      "----------------------------------------------------------------\n",
      "                 Coef.  Std.Err.    z     P>|z|   [0.025  0.975]\n",
      "----------------------------------------------------------------\n",
      "Intercept       -3.7444   0.1007 -37.1943 0.0000 -3.9417 -3.5471\n",
      "Activity_desc    1.4594   0.0422  34.5985 0.0000  1.3767  1.5420\n",
      "Recency          0.0037   0.0001  27.0633 0.0000  0.0035  0.0040\n",
      "Avg_donation    -0.0077   0.0013  -5.8571 0.0000 -0.0103 -0.0051\n",
      "================================================================\n",
      "\n"
     ]
    }
   ],
   "source": [
    "print(train_model.summary2())"
   ]
  },
  {
   "cell_type": "code",
   "execution_count": 110,
   "metadata": {},
   "outputs": [
    {
     "name": "stdout",
     "output_type": "stream",
     "text": [
      "Optimization terminated successfully.\n",
      "         Current function value: 0.084849\n",
      "         Iterations 10\n"
     ]
    }
   ],
   "source": [
    "test_model=smf.logit(\"churn~Activity_desc+Recency+Avg_donation\",test).fit()"
   ]
  },
  {
   "cell_type": "code",
   "execution_count": 111,
   "metadata": {},
   "outputs": [
    {
     "name": "stdout",
     "output_type": "stream",
     "text": [
      "                        Results: Logit\n",
      "===============================================================\n",
      "Model:              Logit            No. Iterations:   10.0000 \n",
      "Dependent Variable: churn            Pseudo R-squared: 0.877   \n",
      "Date:               2018-08-26 19:25 AIC:              172.2670\n",
      "No. Observations:   968              BIC:              191.7679\n",
      "Df Model:           3                Log-Likelihood:   -82.134 \n",
      "Df Residuals:       964              LL-Null:          -667.49 \n",
      "Converged:          1.0000           Scale:            1.0000  \n",
      "---------------------------------------------------------------\n",
      "                Coef.  Std.Err.    z     P>|z|   [0.025  0.975]\n",
      "---------------------------------------------------------------\n",
      "Intercept      -5.6450   0.4320 -13.0681 0.0000 -6.4916 -4.7983\n",
      "Activity_desc   2.0915   0.2443   8.5598 0.0000  1.6126  2.5704\n",
      "Recency         0.0206   0.0024   8.6797 0.0000  0.0160  0.0253\n",
      "Avg_donation   -0.0252   0.0055  -4.5417 0.0000 -0.0360 -0.0143\n",
      "===============================================================\n",
      "\n"
     ]
    }
   ],
   "source": [
    "print(test_model.summary2())"
   ]
  },
  {
   "cell_type": "code",
   "execution_count": 112,
   "metadata": {},
   "outputs": [
    {
     "name": "stderr",
     "output_type": "stream",
     "text": [
      "C:\\Users\\Vaibhav\\Anaconda3\\lib\\site-packages\\ipykernel_launcher.py:1: SettingWithCopyWarning: \n",
      "A value is trying to be set on a copy of a slice from a DataFrame.\n",
      "Try using .loc[row_indexer,col_indexer] = value instead\n",
      "\n",
      "See the caveats in the documentation: http://pandas.pydata.org/pandas-docs/stable/indexing.html#indexing-view-versus-copy\n",
      "  \"\"\"Entry point for launching an IPython kernel.\n",
      "C:\\Users\\Vaibhav\\Anaconda3\\lib\\site-packages\\ipykernel_launcher.py:2: SettingWithCopyWarning: \n",
      "A value is trying to be set on a copy of a slice from a DataFrame.\n",
      "Try using .loc[row_indexer,col_indexer] = value instead\n",
      "\n",
      "See the caveats in the documentation: http://pandas.pydata.org/pandas-docs/stable/indexing.html#indexing-view-versus-copy\n",
      "  \n"
     ]
    }
   ],
   "source": [
    "train[\"pred\"]=train_model.predict()\n",
    "test[\"pred\"]=test_model.predict()"
   ]
  },
  {
   "cell_type": "code",
   "execution_count": 113,
   "metadata": {},
   "outputs": [],
   "source": [
    "from sklearn import metrics"
   ]
  },
  {
   "cell_type": "markdown",
   "metadata": {},
   "source": [
    "### Checking Accracy of model :-"
   ]
  },
  {
   "cell_type": "markdown",
   "metadata": {},
   "source": [
    "#### Using Area Under The Curve:-"
   ]
  },
  {
   "cell_type": "code",
   "execution_count": 114,
   "metadata": {},
   "outputs": [
    {
     "data": {
      "text/plain": [
       "0.9852751730190382"
      ]
     },
     "execution_count": 114,
     "metadata": {},
     "output_type": "execute_result"
    }
   ],
   "source": [
    "metrics.roc_auc_score(train[\"churn\"],train[\"pred\"])"
   ]
  },
  {
   "cell_type": "code",
   "execution_count": 115,
   "metadata": {},
   "outputs": [
    {
     "data": {
      "text/plain": [
       "0.994462001504891"
      ]
     },
     "execution_count": 115,
     "metadata": {},
     "output_type": "execute_result"
    }
   ],
   "source": [
    "metrics.roc_auc_score(test[\"churn\"],test[\"pred\"])"
   ]
  },
  {
   "cell_type": "markdown",
   "metadata": {},
   "source": [
    "### Checkin Model Performance For out of sample Data:-"
   ]
  },
  {
   "cell_type": "code",
   "execution_count": 116,
   "metadata": {},
   "outputs": [
    {
     "name": "stdout",
     "output_type": "stream",
     "text": [
      "Optimization terminated successfully.\n",
      "         Current function value: 0.056515\n",
      "         Iterations 11\n"
     ]
    }
   ],
   "source": [
    "out_sample_model=smf.logit(\"churn~Activity_desc+Recency+Avg_donation\",out_of_sample).fit()"
   ]
  },
  {
   "cell_type": "code",
   "execution_count": 117,
   "metadata": {},
   "outputs": [
    {
     "name": "stderr",
     "output_type": "stream",
     "text": [
      "C:\\Users\\Vaibhav\\Anaconda3\\lib\\site-packages\\ipykernel_launcher.py:1: SettingWithCopyWarning: \n",
      "A value is trying to be set on a copy of a slice from a DataFrame.\n",
      "Try using .loc[row_indexer,col_indexer] = value instead\n",
      "\n",
      "See the caveats in the documentation: http://pandas.pydata.org/pandas-docs/stable/indexing.html#indexing-view-versus-copy\n",
      "  \"\"\"Entry point for launching an IPython kernel.\n"
     ]
    }
   ],
   "source": [
    "out_of_sample[\"pred\"]=out_sample_model.predict()"
   ]
  },
  {
   "cell_type": "markdown",
   "metadata": {},
   "source": [
    "#### Accuracy for Out of sample data:-"
   ]
  },
  {
   "cell_type": "code",
   "execution_count": 118,
   "metadata": {},
   "outputs": [
    {
     "data": {
      "text/plain": [
       "0.9978552144427497"
      ]
     },
     "execution_count": 118,
     "metadata": {},
     "output_type": "execute_result"
    }
   ],
   "source": [
    "metrics.roc_auc_score(out_of_sample[\"churn\"],out_of_sample[\"pred\"])"
   ]
  },
  {
   "cell_type": "code",
   "execution_count": 119,
   "metadata": {},
   "outputs": [],
   "source": [
    "train_pred=pd.DataFrame([train[\"churn\"],train[\"pred\"]]).T\n",
    "test_pred=pd.DataFrame([test[\"churn\"],test[\"pred\"]]).T"
   ]
  },
  {
   "cell_type": "code",
   "execution_count": 120,
   "metadata": {},
   "outputs": [
    {
     "data": {
      "text/html": [
       "<div>\n",
       "<style scoped>\n",
       "    .dataframe tbody tr th:only-of-type {\n",
       "        vertical-align: middle;\n",
       "    }\n",
       "\n",
       "    .dataframe tbody tr th {\n",
       "        vertical-align: top;\n",
       "    }\n",
       "\n",
       "    .dataframe thead th {\n",
       "        text-align: right;\n",
       "    }\n",
       "</style>\n",
       "<table border=\"1\" class=\"dataframe\">\n",
       "  <thead>\n",
       "    <tr style=\"text-align: right;\">\n",
       "      <th></th>\n",
       "      <th>Monitory</th>\n",
       "      <th>Frequency</th>\n",
       "      <th>Avg_donation</th>\n",
       "      <th>Recency</th>\n",
       "      <th>churn</th>\n",
       "      <th>cust_id</th>\n",
       "      <th>Mailing_lang</th>\n",
       "      <th>Activity_desc</th>\n",
       "      <th>Date</th>\n",
       "      <th>pred</th>\n",
       "    </tr>\n",
       "  </thead>\n",
       "  <tbody>\n",
       "    <tr>\n",
       "      <th>68</th>\n",
       "      <td>2809.13</td>\n",
       "      <td>141.0</td>\n",
       "      <td>19.922908</td>\n",
       "      <td>442.0</td>\n",
       "      <td>1.0</td>\n",
       "      <td>51</td>\n",
       "      <td>1</td>\n",
       "      <td>1</td>\n",
       "      <td>1992-03-01</td>\n",
       "      <td>0.311484</td>\n",
       "    </tr>\n",
       "    <tr>\n",
       "      <th>39</th>\n",
       "      <td>3132.11</td>\n",
       "      <td>158.0</td>\n",
       "      <td>19.823481</td>\n",
       "      <td>16.0</td>\n",
       "      <td>0.0</td>\n",
       "      <td>29</td>\n",
       "      <td>1</td>\n",
       "      <td>1</td>\n",
       "      <td>1992-03-01</td>\n",
       "      <td>0.084865</td>\n",
       "    </tr>\n",
       "    <tr>\n",
       "      <th>40</th>\n",
       "      <td>3115.10</td>\n",
       "      <td>156.0</td>\n",
       "      <td>19.968590</td>\n",
       "      <td>23.0</td>\n",
       "      <td>0.0</td>\n",
       "      <td>30</td>\n",
       "      <td>1</td>\n",
       "      <td>1</td>\n",
       "      <td>1992-03-01</td>\n",
       "      <td>0.086822</td>\n",
       "    </tr>\n",
       "    <tr>\n",
       "      <th>41</th>\n",
       "      <td>641.08</td>\n",
       "      <td>50.0</td>\n",
       "      <td>12.821600</td>\n",
       "      <td>4013.0</td>\n",
       "      <td>0.0</td>\n",
       "      <td>31</td>\n",
       "      <td>1</td>\n",
       "      <td>2</td>\n",
       "      <td>1992-03-01</td>\n",
       "      <td>0.999999</td>\n",
       "    </tr>\n",
       "    <tr>\n",
       "      <th>43</th>\n",
       "      <td>3109.12</td>\n",
       "      <td>157.0</td>\n",
       "      <td>19.803312</td>\n",
       "      <td>16.0</td>\n",
       "      <td>0.0</td>\n",
       "      <td>32</td>\n",
       "      <td>1</td>\n",
       "      <td>1</td>\n",
       "      <td>1992-03-01</td>\n",
       "      <td>0.084877</td>\n",
       "    </tr>\n",
       "  </tbody>\n",
       "</table>\n",
       "</div>"
      ],
      "text/plain": [
       "    Monitory  Frequency  Avg_donation  Recency  churn  cust_id  Mailing_lang  \\\n",
       "68   2809.13      141.0     19.922908    442.0    1.0       51             1   \n",
       "39   3132.11      158.0     19.823481     16.0    0.0       29             1   \n",
       "40   3115.10      156.0     19.968590     23.0    0.0       30             1   \n",
       "41    641.08       50.0     12.821600   4013.0    0.0       31             1   \n",
       "43   3109.12      157.0     19.803312     16.0    0.0       32             1   \n",
       "\n",
       "    Activity_desc       Date      pred  \n",
       "68              1 1992-03-01  0.311484  \n",
       "39              1 1992-03-01  0.084865  \n",
       "40              1 1992-03-01  0.086822  \n",
       "41              2 1992-03-01  0.999999  \n",
       "43              1 1992-03-01  0.084877  "
      ]
     },
     "execution_count": 120,
     "metadata": {},
     "output_type": "execute_result"
    }
   ],
   "source": [
    "train.head()"
   ]
  },
  {
   "cell_type": "markdown",
   "metadata": {},
   "source": [
    "### Finding Best Cutoff:-"
   ]
  },
  {
   "cell_type": "code",
   "execution_count": 121,
   "metadata": {},
   "outputs": [],
   "source": [
    "cutoff_df=pd.DataFrame()\n",
    "temp=train_pred.copy()\n",
    "\n",
    "for cutoff in np.linspace(0,1,50):\n",
    "    temp['cut_off'] = cutoff\n",
    "    temp[\"predicted\"]=temp[\"pred\"].apply(lambda x: 0.0 if x < cutoff else 1.0)\n",
    "    temp[\"TP\"]=temp.apply(lambda x: 1.0 if x[\"churn\"]==1.0 and x[\"predicted\"]==1.0 else 0.0, axis=1)\n",
    "    temp[\"TN\"]=temp.apply(lambda x: 1.0 if x[\"churn\"]==0.0 and x[\"predicted\"]==0.0 else 0.0, axis=1)\n",
    "    temp[\"FP\"]=temp.apply(lambda x: 1.0 if x[\"churn\"]==0.0 and x[\"predicted\"]==1.0 else 0.0, axis=1)\n",
    "    temp[\"FN\"]=temp.apply(lambda x: 1.0 if x[\"churn\"]==1.0 and x[\"predicted\"]==0.0 else 0.0, axis=1)\n",
    "    sensitivity=(temp[\"TP\"].sum())/(temp[\"TP\"].sum()+temp[\"FN\"].sum())\n",
    "    specicity=(temp[\"TN\"].sum())/(temp[\"TN\"].sum()+temp[\"FP\"].sum())\n",
    "    result_table=pd.DataFrame([cutoff,sensitivity,specicity]).T\n",
    "    result_table.columns=[\"Cutoff\",\"Sensitivity\",\"Specicity\"]\n",
    "    cutoff_df=pd.concat([cutoff_df,result_table],axis=0)"
   ]
  },
  {
   "cell_type": "code",
   "execution_count": 122,
   "metadata": {},
   "outputs": [],
   "source": [
    "cutoff_df[\"Total\"]=cutoff_df[\"Sensitivity\"]+cutoff_df[\"Specicity\"]"
   ]
  },
  {
   "cell_type": "code",
   "execution_count": 123,
   "metadata": {},
   "outputs": [
    {
     "data": {
      "text/html": [
       "<div>\n",
       "<style scoped>\n",
       "    .dataframe tbody tr th:only-of-type {\n",
       "        vertical-align: middle;\n",
       "    }\n",
       "\n",
       "    .dataframe tbody tr th {\n",
       "        vertical-align: top;\n",
       "    }\n",
       "\n",
       "    .dataframe thead th {\n",
       "        text-align: right;\n",
       "    }\n",
       "</style>\n",
       "<table border=\"1\" class=\"dataframe\">\n",
       "  <thead>\n",
       "    <tr style=\"text-align: right;\">\n",
       "      <th></th>\n",
       "      <th>Cutoff</th>\n",
       "      <th>Sensitivity</th>\n",
       "      <th>Specicity</th>\n",
       "      <th>Total</th>\n",
       "    </tr>\n",
       "  </thead>\n",
       "  <tbody>\n",
       "    <tr>\n",
       "      <th>0</th>\n",
       "      <td>0.000000</td>\n",
       "      <td>1.000000</td>\n",
       "      <td>0.000000</td>\n",
       "      <td>1.000000</td>\n",
       "    </tr>\n",
       "    <tr>\n",
       "      <th>0</th>\n",
       "      <td>0.020408</td>\n",
       "      <td>1.000000</td>\n",
       "      <td>0.004561</td>\n",
       "      <td>1.004561</td>\n",
       "    </tr>\n",
       "    <tr>\n",
       "      <th>0</th>\n",
       "      <td>0.040816</td>\n",
       "      <td>0.999696</td>\n",
       "      <td>0.026606</td>\n",
       "      <td>1.026301</td>\n",
       "    </tr>\n",
       "    <tr>\n",
       "      <th>0</th>\n",
       "      <td>0.061224</td>\n",
       "      <td>0.999543</td>\n",
       "      <td>0.067655</td>\n",
       "      <td>1.067198</td>\n",
       "    </tr>\n",
       "    <tr>\n",
       "      <th>0</th>\n",
       "      <td>0.081633</td>\n",
       "      <td>0.997869</td>\n",
       "      <td>0.194223</td>\n",
       "      <td>1.192092</td>\n",
       "    </tr>\n",
       "    <tr>\n",
       "      <th>0</th>\n",
       "      <td>0.102041</td>\n",
       "      <td>0.989498</td>\n",
       "      <td>0.922843</td>\n",
       "      <td>1.912341</td>\n",
       "    </tr>\n",
       "    <tr>\n",
       "      <th>0</th>\n",
       "      <td>0.122449</td>\n",
       "      <td>0.987062</td>\n",
       "      <td>0.934246</td>\n",
       "      <td>1.921308</td>\n",
       "    </tr>\n",
       "    <tr>\n",
       "      <th>0</th>\n",
       "      <td>0.142857</td>\n",
       "      <td>0.984932</td>\n",
       "      <td>0.940327</td>\n",
       "      <td>1.925258</td>\n",
       "    </tr>\n",
       "    <tr>\n",
       "      <th>0</th>\n",
       "      <td>0.163265</td>\n",
       "      <td>0.982953</td>\n",
       "      <td>0.944888</td>\n",
       "      <td>1.927841</td>\n",
       "    </tr>\n",
       "    <tr>\n",
       "      <th>0</th>\n",
       "      <td>0.183673</td>\n",
       "      <td>0.981887</td>\n",
       "      <td>0.945268</td>\n",
       "      <td>1.927155</td>\n",
       "    </tr>\n",
       "    <tr>\n",
       "      <th>0</th>\n",
       "      <td>0.204082</td>\n",
       "      <td>0.980518</td>\n",
       "      <td>0.946028</td>\n",
       "      <td>1.926546</td>\n",
       "    </tr>\n",
       "    <tr>\n",
       "      <th>0</th>\n",
       "      <td>0.224490</td>\n",
       "      <td>0.979148</td>\n",
       "      <td>0.946028</td>\n",
       "      <td>1.925176</td>\n",
       "    </tr>\n",
       "    <tr>\n",
       "      <th>0</th>\n",
       "      <td>0.244898</td>\n",
       "      <td>0.976865</td>\n",
       "      <td>0.947168</td>\n",
       "      <td>1.924033</td>\n",
       "    </tr>\n",
       "    <tr>\n",
       "      <th>0</th>\n",
       "      <td>0.265306</td>\n",
       "      <td>0.973820</td>\n",
       "      <td>0.947929</td>\n",
       "      <td>1.921749</td>\n",
       "    </tr>\n",
       "    <tr>\n",
       "      <th>0</th>\n",
       "      <td>0.285714</td>\n",
       "      <td>0.971233</td>\n",
       "      <td>0.956290</td>\n",
       "      <td>1.927523</td>\n",
       "    </tr>\n",
       "    <tr>\n",
       "      <th>0</th>\n",
       "      <td>0.306122</td>\n",
       "      <td>0.969406</td>\n",
       "      <td>0.959711</td>\n",
       "      <td>1.929118</td>\n",
       "    </tr>\n",
       "    <tr>\n",
       "      <th>0</th>\n",
       "      <td>0.326531</td>\n",
       "      <td>0.967275</td>\n",
       "      <td>0.960851</td>\n",
       "      <td>1.928127</td>\n",
       "    </tr>\n",
       "    <tr>\n",
       "      <th>0</th>\n",
       "      <td>0.346939</td>\n",
       "      <td>0.965145</td>\n",
       "      <td>0.960851</td>\n",
       "      <td>1.925996</td>\n",
       "    </tr>\n",
       "    <tr>\n",
       "      <th>0</th>\n",
       "      <td>0.367347</td>\n",
       "      <td>0.964079</td>\n",
       "      <td>0.960851</td>\n",
       "      <td>1.924931</td>\n",
       "    </tr>\n",
       "    <tr>\n",
       "      <th>0</th>\n",
       "      <td>0.387755</td>\n",
       "      <td>0.963927</td>\n",
       "      <td>0.960851</td>\n",
       "      <td>1.924778</td>\n",
       "    </tr>\n",
       "    <tr>\n",
       "      <th>0</th>\n",
       "      <td>0.408163</td>\n",
       "      <td>0.963318</td>\n",
       "      <td>0.961992</td>\n",
       "      <td>1.925310</td>\n",
       "    </tr>\n",
       "    <tr>\n",
       "      <th>0</th>\n",
       "      <td>0.428571</td>\n",
       "      <td>0.962861</td>\n",
       "      <td>0.962752</td>\n",
       "      <td>1.925613</td>\n",
       "    </tr>\n",
       "    <tr>\n",
       "      <th>0</th>\n",
       "      <td>0.448980</td>\n",
       "      <td>0.962100</td>\n",
       "      <td>0.963892</td>\n",
       "      <td>1.925993</td>\n",
       "    </tr>\n",
       "    <tr>\n",
       "      <th>0</th>\n",
       "      <td>0.469388</td>\n",
       "      <td>0.961644</td>\n",
       "      <td>0.964652</td>\n",
       "      <td>1.926296</td>\n",
       "    </tr>\n",
       "    <tr>\n",
       "      <th>0</th>\n",
       "      <td>0.489796</td>\n",
       "      <td>0.961339</td>\n",
       "      <td>0.964652</td>\n",
       "      <td>1.925992</td>\n",
       "    </tr>\n",
       "    <tr>\n",
       "      <th>0</th>\n",
       "      <td>0.510204</td>\n",
       "      <td>0.960731</td>\n",
       "      <td>0.965792</td>\n",
       "      <td>1.926523</td>\n",
       "    </tr>\n",
       "    <tr>\n",
       "      <th>0</th>\n",
       "      <td>0.530612</td>\n",
       "      <td>0.959665</td>\n",
       "      <td>0.966553</td>\n",
       "      <td>1.926218</td>\n",
       "    </tr>\n",
       "    <tr>\n",
       "      <th>0</th>\n",
       "      <td>0.551020</td>\n",
       "      <td>0.958600</td>\n",
       "      <td>0.967693</td>\n",
       "      <td>1.926293</td>\n",
       "    </tr>\n",
       "    <tr>\n",
       "      <th>0</th>\n",
       "      <td>0.571429</td>\n",
       "      <td>0.957839</td>\n",
       "      <td>0.968073</td>\n",
       "      <td>1.925912</td>\n",
       "    </tr>\n",
       "    <tr>\n",
       "      <th>0</th>\n",
       "      <td>0.591837</td>\n",
       "      <td>0.955860</td>\n",
       "      <td>0.968453</td>\n",
       "      <td>1.924313</td>\n",
       "    </tr>\n",
       "    <tr>\n",
       "      <th>0</th>\n",
       "      <td>0.612245</td>\n",
       "      <td>0.954795</td>\n",
       "      <td>0.969973</td>\n",
       "      <td>1.924768</td>\n",
       "    </tr>\n",
       "    <tr>\n",
       "      <th>0</th>\n",
       "      <td>0.632653</td>\n",
       "      <td>0.952968</td>\n",
       "      <td>0.978715</td>\n",
       "      <td>1.931683</td>\n",
       "    </tr>\n",
       "    <tr>\n",
       "      <th>0</th>\n",
       "      <td>0.653061</td>\n",
       "      <td>0.952511</td>\n",
       "      <td>0.980996</td>\n",
       "      <td>1.933507</td>\n",
       "    </tr>\n",
       "    <tr>\n",
       "      <th>0</th>\n",
       "      <td>0.673469</td>\n",
       "      <td>0.952359</td>\n",
       "      <td>0.982516</td>\n",
       "      <td>1.934875</td>\n",
       "    </tr>\n",
       "    <tr>\n",
       "      <th>0</th>\n",
       "      <td>0.693878</td>\n",
       "      <td>0.950685</td>\n",
       "      <td>0.982516</td>\n",
       "      <td>1.933201</td>\n",
       "    </tr>\n",
       "    <tr>\n",
       "      <th>0</th>\n",
       "      <td>0.714286</td>\n",
       "      <td>0.949315</td>\n",
       "      <td>0.983276</td>\n",
       "      <td>1.932591</td>\n",
       "    </tr>\n",
       "    <tr>\n",
       "      <th>0</th>\n",
       "      <td>0.734694</td>\n",
       "      <td>0.948858</td>\n",
       "      <td>0.983276</td>\n",
       "      <td>1.932135</td>\n",
       "    </tr>\n",
       "    <tr>\n",
       "      <th>0</th>\n",
       "      <td>0.755102</td>\n",
       "      <td>0.947641</td>\n",
       "      <td>0.983276</td>\n",
       "      <td>1.930917</td>\n",
       "    </tr>\n",
       "    <tr>\n",
       "      <th>0</th>\n",
       "      <td>0.775510</td>\n",
       "      <td>0.946271</td>\n",
       "      <td>0.983276</td>\n",
       "      <td>1.929547</td>\n",
       "    </tr>\n",
       "    <tr>\n",
       "      <th>0</th>\n",
       "      <td>0.795918</td>\n",
       "      <td>0.944901</td>\n",
       "      <td>0.983276</td>\n",
       "      <td>1.928177</td>\n",
       "    </tr>\n",
       "    <tr>\n",
       "      <th>0</th>\n",
       "      <td>0.816327</td>\n",
       "      <td>0.942922</td>\n",
       "      <td>0.983276</td>\n",
       "      <td>1.926199</td>\n",
       "    </tr>\n",
       "    <tr>\n",
       "      <th>0</th>\n",
       "      <td>0.836735</td>\n",
       "      <td>0.941248</td>\n",
       "      <td>0.983276</td>\n",
       "      <td>1.924524</td>\n",
       "    </tr>\n",
       "    <tr>\n",
       "      <th>0</th>\n",
       "      <td>0.857143</td>\n",
       "      <td>0.938204</td>\n",
       "      <td>0.983276</td>\n",
       "      <td>1.921480</td>\n",
       "    </tr>\n",
       "    <tr>\n",
       "      <th>0</th>\n",
       "      <td>0.877551</td>\n",
       "      <td>0.934094</td>\n",
       "      <td>0.983656</td>\n",
       "      <td>1.917751</td>\n",
       "    </tr>\n",
       "    <tr>\n",
       "      <th>0</th>\n",
       "      <td>0.897959</td>\n",
       "      <td>0.931050</td>\n",
       "      <td>0.983656</td>\n",
       "      <td>1.914707</td>\n",
       "    </tr>\n",
       "    <tr>\n",
       "      <th>0</th>\n",
       "      <td>0.918367</td>\n",
       "      <td>0.925114</td>\n",
       "      <td>0.983656</td>\n",
       "      <td>1.908771</td>\n",
       "    </tr>\n",
       "    <tr>\n",
       "      <th>0</th>\n",
       "      <td>0.938776</td>\n",
       "      <td>0.920852</td>\n",
       "      <td>0.984036</td>\n",
       "      <td>1.904889</td>\n",
       "    </tr>\n",
       "    <tr>\n",
       "      <th>0</th>\n",
       "      <td>0.959184</td>\n",
       "      <td>0.911872</td>\n",
       "      <td>0.984797</td>\n",
       "      <td>1.896669</td>\n",
       "    </tr>\n",
       "    <tr>\n",
       "      <th>0</th>\n",
       "      <td>0.979592</td>\n",
       "      <td>0.888584</td>\n",
       "      <td>0.986317</td>\n",
       "      <td>1.874901</td>\n",
       "    </tr>\n",
       "    <tr>\n",
       "      <th>0</th>\n",
       "      <td>1.000000</td>\n",
       "      <td>0.000000</td>\n",
       "      <td>1.000000</td>\n",
       "      <td>1.000000</td>\n",
       "    </tr>\n",
       "  </tbody>\n",
       "</table>\n",
       "</div>"
      ],
      "text/plain": [
       "     Cutoff  Sensitivity  Specicity     Total\n",
       "0  0.000000     1.000000   0.000000  1.000000\n",
       "0  0.020408     1.000000   0.004561  1.004561\n",
       "0  0.040816     0.999696   0.026606  1.026301\n",
       "0  0.061224     0.999543   0.067655  1.067198\n",
       "0  0.081633     0.997869   0.194223  1.192092\n",
       "0  0.102041     0.989498   0.922843  1.912341\n",
       "0  0.122449     0.987062   0.934246  1.921308\n",
       "0  0.142857     0.984932   0.940327  1.925258\n",
       "0  0.163265     0.982953   0.944888  1.927841\n",
       "0  0.183673     0.981887   0.945268  1.927155\n",
       "0  0.204082     0.980518   0.946028  1.926546\n",
       "0  0.224490     0.979148   0.946028  1.925176\n",
       "0  0.244898     0.976865   0.947168  1.924033\n",
       "0  0.265306     0.973820   0.947929  1.921749\n",
       "0  0.285714     0.971233   0.956290  1.927523\n",
       "0  0.306122     0.969406   0.959711  1.929118\n",
       "0  0.326531     0.967275   0.960851  1.928127\n",
       "0  0.346939     0.965145   0.960851  1.925996\n",
       "0  0.367347     0.964079   0.960851  1.924931\n",
       "0  0.387755     0.963927   0.960851  1.924778\n",
       "0  0.408163     0.963318   0.961992  1.925310\n",
       "0  0.428571     0.962861   0.962752  1.925613\n",
       "0  0.448980     0.962100   0.963892  1.925993\n",
       "0  0.469388     0.961644   0.964652  1.926296\n",
       "0  0.489796     0.961339   0.964652  1.925992\n",
       "0  0.510204     0.960731   0.965792  1.926523\n",
       "0  0.530612     0.959665   0.966553  1.926218\n",
       "0  0.551020     0.958600   0.967693  1.926293\n",
       "0  0.571429     0.957839   0.968073  1.925912\n",
       "0  0.591837     0.955860   0.968453  1.924313\n",
       "0  0.612245     0.954795   0.969973  1.924768\n",
       "0  0.632653     0.952968   0.978715  1.931683\n",
       "0  0.653061     0.952511   0.980996  1.933507\n",
       "0  0.673469     0.952359   0.982516  1.934875\n",
       "0  0.693878     0.950685   0.982516  1.933201\n",
       "0  0.714286     0.949315   0.983276  1.932591\n",
       "0  0.734694     0.948858   0.983276  1.932135\n",
       "0  0.755102     0.947641   0.983276  1.930917\n",
       "0  0.775510     0.946271   0.983276  1.929547\n",
       "0  0.795918     0.944901   0.983276  1.928177\n",
       "0  0.816327     0.942922   0.983276  1.926199\n",
       "0  0.836735     0.941248   0.983276  1.924524\n",
       "0  0.857143     0.938204   0.983276  1.921480\n",
       "0  0.877551     0.934094   0.983656  1.917751\n",
       "0  0.897959     0.931050   0.983656  1.914707\n",
       "0  0.918367     0.925114   0.983656  1.908771\n",
       "0  0.938776     0.920852   0.984036  1.904889\n",
       "0  0.959184     0.911872   0.984797  1.896669\n",
       "0  0.979592     0.888584   0.986317  1.874901\n",
       "0  1.000000     0.000000   1.000000  1.000000"
      ]
     },
     "execution_count": 123,
     "metadata": {},
     "output_type": "execute_result"
    }
   ],
   "source": [
    "cutoff_df"
   ]
  },
  {
   "cell_type": "code",
   "execution_count": 124,
   "metadata": {},
   "outputs": [],
   "source": [
    "best_cutoff=cutoff_df[cutoff_df[\"Total\"]==cutoff_df[\"Total\"].max()]"
   ]
  },
  {
   "cell_type": "code",
   "execution_count": 125,
   "metadata": {},
   "outputs": [
    {
     "data": {
      "text/html": [
       "<div>\n",
       "<style scoped>\n",
       "    .dataframe tbody tr th:only-of-type {\n",
       "        vertical-align: middle;\n",
       "    }\n",
       "\n",
       "    .dataframe tbody tr th {\n",
       "        vertical-align: top;\n",
       "    }\n",
       "\n",
       "    .dataframe thead th {\n",
       "        text-align: right;\n",
       "    }\n",
       "</style>\n",
       "<table border=\"1\" class=\"dataframe\">\n",
       "  <thead>\n",
       "    <tr style=\"text-align: right;\">\n",
       "      <th></th>\n",
       "      <th>Cutoff</th>\n",
       "      <th>Sensitivity</th>\n",
       "      <th>Specicity</th>\n",
       "      <th>Total</th>\n",
       "    </tr>\n",
       "  </thead>\n",
       "  <tbody>\n",
       "    <tr>\n",
       "      <th>0</th>\n",
       "      <td>0.673469</td>\n",
       "      <td>0.952359</td>\n",
       "      <td>0.982516</td>\n",
       "      <td>1.934875</td>\n",
       "    </tr>\n",
       "  </tbody>\n",
       "</table>\n",
       "</div>"
      ],
      "text/plain": [
       "     Cutoff  Sensitivity  Specicity     Total\n",
       "0  0.673469     0.952359   0.982516  1.934875"
      ]
     },
     "execution_count": 125,
     "metadata": {},
     "output_type": "execute_result"
    }
   ],
   "source": [
    "best_cutoff"
   ]
  },
  {
   "cell_type": "code",
   "execution_count": 126,
   "metadata": {},
   "outputs": [
    {
     "data": {
      "text/html": [
       "<div>\n",
       "<style scoped>\n",
       "    .dataframe tbody tr th:only-of-type {\n",
       "        vertical-align: middle;\n",
       "    }\n",
       "\n",
       "    .dataframe tbody tr th {\n",
       "        vertical-align: top;\n",
       "    }\n",
       "\n",
       "    .dataframe thead th {\n",
       "        text-align: right;\n",
       "    }\n",
       "</style>\n",
       "<table border=\"1\" class=\"dataframe\">\n",
       "  <thead>\n",
       "    <tr style=\"text-align: right;\">\n",
       "      <th></th>\n",
       "      <th>Monitory</th>\n",
       "      <th>Frequency</th>\n",
       "      <th>Avg_donation</th>\n",
       "      <th>Recency</th>\n",
       "      <th>churn</th>\n",
       "      <th>cust_id</th>\n",
       "      <th>Mailing_lang</th>\n",
       "      <th>Activity_desc</th>\n",
       "      <th>Date</th>\n",
       "      <th>pred</th>\n",
       "    </tr>\n",
       "  </thead>\n",
       "  <tbody>\n",
       "    <tr>\n",
       "      <th>17667</th>\n",
       "      <td>877.0</td>\n",
       "      <td>25.0</td>\n",
       "      <td>35.080000</td>\n",
       "      <td>16.0</td>\n",
       "      <td>0.0</td>\n",
       "      <td>10133</td>\n",
       "      <td>1</td>\n",
       "      <td>1</td>\n",
       "      <td>2005-01-01</td>\n",
       "      <td>0.005446</td>\n",
       "    </tr>\n",
       "    <tr>\n",
       "      <th>17696</th>\n",
       "      <td>625.0</td>\n",
       "      <td>25.0</td>\n",
       "      <td>25.000000</td>\n",
       "      <td>16.0</td>\n",
       "      <td>0.0</td>\n",
       "      <td>10156</td>\n",
       "      <td>1</td>\n",
       "      <td>1</td>\n",
       "      <td>2005-01-01</td>\n",
       "      <td>0.008138</td>\n",
       "    </tr>\n",
       "    <tr>\n",
       "      <th>17695</th>\n",
       "      <td>575.0</td>\n",
       "      <td>9.0</td>\n",
       "      <td>63.888889</td>\n",
       "      <td>84.0</td>\n",
       "      <td>0.0</td>\n",
       "      <td>10155</td>\n",
       "      <td>1</td>\n",
       "      <td>1</td>\n",
       "      <td>2005-01-01</td>\n",
       "      <td>0.012917</td>\n",
       "    </tr>\n",
       "    <tr>\n",
       "      <th>17694</th>\n",
       "      <td>552.0</td>\n",
       "      <td>23.0</td>\n",
       "      <td>24.000000</td>\n",
       "      <td>46.0</td>\n",
       "      <td>0.0</td>\n",
       "      <td>10154</td>\n",
       "      <td>1</td>\n",
       "      <td>1</td>\n",
       "      <td>2005-01-01</td>\n",
       "      <td>0.020458</td>\n",
       "    </tr>\n",
       "    <tr>\n",
       "      <th>17646</th>\n",
       "      <td>577.0</td>\n",
       "      <td>25.0</td>\n",
       "      <td>23.080000</td>\n",
       "      <td>16.0</td>\n",
       "      <td>0.0</td>\n",
       "      <td>10122</td>\n",
       "      <td>1</td>\n",
       "      <td>1</td>\n",
       "      <td>2005-01-01</td>\n",
       "      <td>0.008784</td>\n",
       "    </tr>\n",
       "  </tbody>\n",
       "</table>\n",
       "</div>"
      ],
      "text/plain": [
       "       Monitory  Frequency  Avg_donation  Recency  churn  cust_id  \\\n",
       "17667     877.0       25.0     35.080000     16.0    0.0    10133   \n",
       "17696     625.0       25.0     25.000000     16.0    0.0    10156   \n",
       "17695     575.0        9.0     63.888889     84.0    0.0    10155   \n",
       "17694     552.0       23.0     24.000000     46.0    0.0    10154   \n",
       "17646     577.0       25.0     23.080000     16.0    0.0    10122   \n",
       "\n",
       "       Mailing_lang  Activity_desc       Date      pred  \n",
       "17667             1              1 2005-01-01  0.005446  \n",
       "17696             1              1 2005-01-01  0.008138  \n",
       "17695             1              1 2005-01-01  0.012917  \n",
       "17694             1              1 2005-01-01  0.020458  \n",
       "17646             1              1 2005-01-01  0.008784  "
      ]
     },
     "execution_count": 126,
     "metadata": {},
     "output_type": "execute_result"
    }
   ],
   "source": [
    "out_of_sample.head()"
   ]
  },
  {
   "cell_type": "code",
   "execution_count": 127,
   "metadata": {},
   "outputs": [],
   "source": [
    "out_of_sample_pred=pd.DataFrame([out_of_sample[\"churn\"],out_of_sample[\"pred\"]]).T"
   ]
  },
  {
   "cell_type": "markdown",
   "metadata": {},
   "source": [
    "### Finding Confusion Matrix for Traing Model:-"
   ]
  },
  {
   "cell_type": "code",
   "execution_count": 128,
   "metadata": {},
   "outputs": [
    {
     "data": {
      "image/png": "[encoded data removed]",
      "text/plain": [
       "<matplotlib.figure.Figure at 0xc4da7b8>"
      ]
     },
     "metadata": {},
     "output_type": "display_data"
    }
   ],
   "source": [
    "train_pred[\"Predicted\"]=train_pred[\"pred\"].apply(lambda x: 1.0 if x > 0.673469 else 0.0)\n",
    "sns.heatmap(pd.crosstab(train_pred[\"churn\"],train_pred[\"Predicted\"]),annot=True,fmt=\".0f\")\n",
    "plt.title(\"confusion matrix of training model\")\n",
    "plt.show()"
   ]
  },
  {
   "cell_type": "markdown",
   "metadata": {},
   "source": [
    "### Finding Confusion Matrix for Testing Data:-"
   ]
  },
  {
   "cell_type": "code",
   "execution_count": 129,
   "metadata": {},
   "outputs": [
    {
     "data": {
      "image/png": "[encoded data removed]",
      "text/plain": [
       "<matplotlib.figure.Figure at 0xc6b3ac8>"
      ]
     },
     "metadata": {},
     "output_type": "display_data"
    }
   ],
   "source": [
    "test_pred[\"Predicted\"]=test_pred[\"pred\"].apply(lambda x: 1.0 if x > 0.673469 else 0.0)\n",
    "sns.heatmap(pd.crosstab(test_pred[\"churn\"],test_pred[\"Predicted\"]),annot=True,fmt=\".0f\")\n",
    "plt.title(\"confusion matrix of training model\")\n",
    "plt.show()"
   ]
  },
  {
   "cell_type": "code",
   "execution_count": 130,
   "metadata": {},
   "outputs": [
    {
     "data": {
      "text/html": [
       "<div>\n",
       "<style scoped>\n",
       "    .dataframe tbody tr th:only-of-type {\n",
       "        vertical-align: middle;\n",
       "    }\n",
       "\n",
       "    .dataframe tbody tr th {\n",
       "        vertical-align: top;\n",
       "    }\n",
       "\n",
       "    .dataframe thead th {\n",
       "        text-align: right;\n",
       "    }\n",
       "</style>\n",
       "<table border=\"1\" class=\"dataframe\">\n",
       "  <thead>\n",
       "    <tr style=\"text-align: right;\">\n",
       "      <th></th>\n",
       "      <th>churn</th>\n",
       "      <th>pred</th>\n",
       "    </tr>\n",
       "  </thead>\n",
       "  <tbody>\n",
       "    <tr>\n",
       "      <th>17667</th>\n",
       "      <td>0.0</td>\n",
       "      <td>0.005446</td>\n",
       "    </tr>\n",
       "    <tr>\n",
       "      <th>17696</th>\n",
       "      <td>0.0</td>\n",
       "      <td>0.008138</td>\n",
       "    </tr>\n",
       "    <tr>\n",
       "      <th>17695</th>\n",
       "      <td>0.0</td>\n",
       "      <td>0.012917</td>\n",
       "    </tr>\n",
       "    <tr>\n",
       "      <th>17694</th>\n",
       "      <td>0.0</td>\n",
       "      <td>0.020458</td>\n",
       "    </tr>\n",
       "    <tr>\n",
       "      <th>17646</th>\n",
       "      <td>0.0</td>\n",
       "      <td>0.008784</td>\n",
       "    </tr>\n",
       "  </tbody>\n",
       "</table>\n",
       "</div>"
      ],
      "text/plain": [
       "       churn      pred\n",
       "17667    0.0  0.005446\n",
       "17696    0.0  0.008138\n",
       "17695    0.0  0.012917\n",
       "17694    0.0  0.020458\n",
       "17646    0.0  0.008784"
      ]
     },
     "execution_count": 130,
     "metadata": {},
     "output_type": "execute_result"
    }
   ],
   "source": [
    "out_of_sample_pred.head()"
   ]
  },
  {
   "cell_type": "markdown",
   "metadata": {},
   "source": [
    "### Confusion Matrix for Out Of Sample Data:-"
   ]
  },
  {
   "cell_type": "code",
   "execution_count": 131,
   "metadata": {},
   "outputs": [
    {
     "data": {
      "image/png": "[encoded data removed]",
      "text/plain": [
       "<matplotlib.figure.Figure at 0xc545c18>"
      ]
     },
     "metadata": {},
     "output_type": "display_data"
    }
   ],
   "source": [
    "out_of_sample_pred[\"Predicted\"]=out_of_sample_pred[\"pred\"].apply(lambda x: 1.0 if x > 0.673469 else 0.0)\n",
    "sns.heatmap(pd.crosstab(out_of_sample_pred[\"churn\"],out_of_sample_pred[\"Predicted\"]),annot=True,fmt=\".0f\")\n",
    "plt.title(\"confusion matrix of training model\")\n",
    "plt.show()"
   ]
  },
  {
   "cell_type": "code",
   "execution_count": 132,
   "metadata": {},
   "outputs": [
    {
     "name": "stdout",
     "output_type": "stream",
     "text": [
      "training_accuracy= 0.9609825019019672\n",
      "testing_accuracy= 0.9721074380165289\n",
      "out_of_sample_accuracy= 0.9759493670886076\n"
     ]
    }
   ],
   "source": [
    "print(\"training_accuracy=\",metrics.accuracy_score(train_pred[\"churn\"],train_pred[\"Predicted\"]))\n",
    "print(\"testing_accuracy=\",metrics.accuracy_score(test_pred[\"churn\"],test_pred[\"Predicted\"]))\n",
    "print(\"out_of_sample_accuracy=\",metrics.accuracy_score(out_of_sample_pred[\"churn\"],out_of_sample_pred[\"Predicted\"]))"
   ]
  },
  {
   "cell_type": "markdown",
   "metadata": {},
   "source": [
    "## Using Random Forest Model:-"
   ]
  },
  {
   "cell_type": "code",
   "execution_count": 133,
   "metadata": {},
   "outputs": [],
   "source": [
    "ran_model=RandomForestClassifier(n_estimators=100,oob_score=True)"
   ]
  },
  {
   "cell_type": "code",
   "execution_count": 134,
   "metadata": {},
   "outputs": [],
   "source": [
    "ran_train=ran_model.fit(train_x,train_y)"
   ]
  },
  {
   "cell_type": "code",
   "execution_count": 135,
   "metadata": {},
   "outputs": [],
   "source": [
    "ran_train_pred=pd.DataFrame({\"Actual\":train_y,\"Predicted\":ran_train.predict(train_x)})"
   ]
  },
  {
   "cell_type": "code",
   "execution_count": 136,
   "metadata": {},
   "outputs": [
    {
     "data": {
      "text/html": [
       "<div>\n",
       "<style scoped>\n",
       "    .dataframe tbody tr th:only-of-type {\n",
       "        vertical-align: middle;\n",
       "    }\n",
       "\n",
       "    .dataframe tbody tr th {\n",
       "        vertical-align: top;\n",
       "    }\n",
       "\n",
       "    .dataframe thead th {\n",
       "        text-align: right;\n",
       "    }\n",
       "</style>\n",
       "<table border=\"1\" class=\"dataframe\">\n",
       "  <thead>\n",
       "    <tr style=\"text-align: right;\">\n",
       "      <th></th>\n",
       "      <th>Actual</th>\n",
       "      <th>Predicted</th>\n",
       "    </tr>\n",
       "  </thead>\n",
       "  <tbody>\n",
       "    <tr>\n",
       "      <th>14029</th>\n",
       "      <td>1.0</td>\n",
       "      <td>1.0</td>\n",
       "    </tr>\n",
       "    <tr>\n",
       "      <th>17644</th>\n",
       "      <td>0.0</td>\n",
       "      <td>0.0</td>\n",
       "    </tr>\n",
       "    <tr>\n",
       "      <th>324</th>\n",
       "      <td>0.0</td>\n",
       "      <td>0.0</td>\n",
       "    </tr>\n",
       "    <tr>\n",
       "      <th>8492</th>\n",
       "      <td>1.0</td>\n",
       "      <td>1.0</td>\n",
       "    </tr>\n",
       "    <tr>\n",
       "      <th>3735</th>\n",
       "      <td>1.0</td>\n",
       "      <td>1.0</td>\n",
       "    </tr>\n",
       "  </tbody>\n",
       "</table>\n",
       "</div>"
      ],
      "text/plain": [
       "       Actual  Predicted\n",
       "14029     1.0        1.0\n",
       "17644     0.0        0.0\n",
       "324       0.0        0.0\n",
       "8492      1.0        1.0\n",
       "3735      1.0        1.0"
      ]
     },
     "execution_count": 136,
     "metadata": {},
     "output_type": "execute_result"
    }
   ],
   "source": [
    "ran_train_pred.head()"
   ]
  },
  {
   "cell_type": "code",
   "execution_count": 137,
   "metadata": {},
   "outputs": [
    {
     "ename": "NameError",
     "evalue": "name 'ran_pred' is not defined",
     "output_type": "error",
     "traceback": [
      "\u001b[1;31m---------------------------------------------------------------------------\u001b[0m",
      "\u001b[1;31mNameError\u001b[0m                                 Traceback (most recent call last)",
      "\u001b[1;32m<ipython-input-137-276c613be093>\u001b[0m in \u001b[0;36m<module>\u001b[1;34m()\u001b[0m\n\u001b[1;32m----> 1\u001b[1;33m \u001b[0mmetrics\u001b[0m\u001b[1;33m.\u001b[0m\u001b[0mroc_auc_score\u001b[0m\u001b[1;33m(\u001b[0m\u001b[0mran_pred\u001b[0m\u001b[1;33m.\u001b[0m\u001b[0mActual\u001b[0m\u001b[1;33m,\u001b[0m\u001b[0mran_pred\u001b[0m\u001b[1;33m.\u001b[0m\u001b[0mPredicted\u001b[0m\u001b[1;33m)\u001b[0m\u001b[1;33m\u001b[0m\u001b[0m\n\u001b[0m",
      "\u001b[1;31mNameError\u001b[0m: name 'ran_pred' is not defined"
     ]
    }
   ],
   "source": [
    "metrics.roc_auc_score(ran_pred.Actual,ran_pred.Predicted)"
   ]
  },
  {
   "cell_type": "code",
   "execution_count": 138,
   "metadata": {},
   "outputs": [],
   "source": [
    "ran_test=ran_model.fit(test_x,test_y)"
   ]
  },
  {
   "cell_type": "code",
   "execution_count": 139,
   "metadata": {},
   "outputs": [],
   "source": [
    "ran_test_pred=pd.DataFrame({\"Actual\":test_y,\"Predicted\":ran_test.predict(test_x)})"
   ]
  },
  {
   "cell_type": "code",
   "execution_count": 140,
   "metadata": {},
   "outputs": [
    {
     "data": {
      "text/html": [
       "<div>\n",
       "<style scoped>\n",
       "    .dataframe tbody tr th:only-of-type {\n",
       "        vertical-align: middle;\n",
       "    }\n",
       "\n",
       "    .dataframe tbody tr th {\n",
       "        vertical-align: top;\n",
       "    }\n",
       "\n",
       "    .dataframe thead th {\n",
       "        text-align: right;\n",
       "    }\n",
       "</style>\n",
       "<table border=\"1\" class=\"dataframe\">\n",
       "  <thead>\n",
       "    <tr style=\"text-align: right;\">\n",
       "      <th></th>\n",
       "      <th>Actual</th>\n",
       "      <th>Predicted</th>\n",
       "    </tr>\n",
       "  </thead>\n",
       "  <tbody>\n",
       "    <tr>\n",
       "      <th>44</th>\n",
       "      <td>1.0</td>\n",
       "      <td>1.0</td>\n",
       "    </tr>\n",
       "    <tr>\n",
       "      <th>15921</th>\n",
       "      <td>0.0</td>\n",
       "      <td>0.0</td>\n",
       "    </tr>\n",
       "    <tr>\n",
       "      <th>10412</th>\n",
       "      <td>1.0</td>\n",
       "      <td>1.0</td>\n",
       "    </tr>\n",
       "    <tr>\n",
       "      <th>3851</th>\n",
       "      <td>1.0</td>\n",
       "      <td>1.0</td>\n",
       "    </tr>\n",
       "    <tr>\n",
       "      <th>17706</th>\n",
       "      <td>0.0</td>\n",
       "      <td>0.0</td>\n",
       "    </tr>\n",
       "  </tbody>\n",
       "</table>\n",
       "</div>"
      ],
      "text/plain": [
       "       Actual  Predicted\n",
       "44        1.0        1.0\n",
       "15921     0.0        0.0\n",
       "10412     1.0        1.0\n",
       "3851      1.0        1.0\n",
       "17706     0.0        0.0"
      ]
     },
     "execution_count": 140,
     "metadata": {},
     "output_type": "execute_result"
    }
   ],
   "source": [
    "ran_test_pred.head()"
   ]
  },
  {
   "cell_type": "code",
   "execution_count": 141,
   "metadata": {},
   "outputs": [
    {
     "data": {
      "text/plain": [
       "1.0"
      ]
     },
     "execution_count": 141,
     "metadata": {},
     "output_type": "execute_result"
    }
   ],
   "source": [
    "metrics.roc_auc_score(ran_test_pred.Actual,ran_test_pred.Predicted)"
   ]
  },
  {
   "cell_type": "markdown",
   "metadata": {},
   "source": [
    "## Decision Tree Model:-"
   ]
  },
  {
   "cell_type": "code",
   "execution_count": 142,
   "metadata": {},
   "outputs": [],
   "source": [
    "from sklearn.tree import DecisionTreeClassifier"
   ]
  },
  {
   "cell_type": "code",
   "execution_count": 143,
   "metadata": {},
   "outputs": [],
   "source": [
    "dt_model=DecisionTreeClassifier(max_depth=3)"
   ]
  },
  {
   "cell_type": "code",
   "execution_count": 144,
   "metadata": {},
   "outputs": [],
   "source": [
    "dt_train=dt_model.fit(train_x,train_y)"
   ]
  },
  {
   "cell_type": "code",
   "execution_count": 145,
   "metadata": {},
   "outputs": [],
   "source": [
    "dt_train_pred=pd.DataFrame({\"Actual\":train_y,\"Predicted\":dt_train.predict(train_x)})"
   ]
  },
  {
   "cell_type": "code",
   "execution_count": 146,
   "metadata": {},
   "outputs": [
    {
     "data": {
      "text/html": [
       "<div>\n",
       "<style scoped>\n",
       "    .dataframe tbody tr th:only-of-type {\n",
       "        vertical-align: middle;\n",
       "    }\n",
       "\n",
       "    .dataframe tbody tr th {\n",
       "        vertical-align: top;\n",
       "    }\n",
       "\n",
       "    .dataframe thead th {\n",
       "        text-align: right;\n",
       "    }\n",
       "</style>\n",
       "<table border=\"1\" class=\"dataframe\">\n",
       "  <thead>\n",
       "    <tr style=\"text-align: right;\">\n",
       "      <th></th>\n",
       "      <th>Actual</th>\n",
       "      <th>Predicted</th>\n",
       "    </tr>\n",
       "  </thead>\n",
       "  <tbody>\n",
       "    <tr>\n",
       "      <th>14029</th>\n",
       "      <td>1.0</td>\n",
       "      <td>1.0</td>\n",
       "    </tr>\n",
       "    <tr>\n",
       "      <th>17644</th>\n",
       "      <td>0.0</td>\n",
       "      <td>0.0</td>\n",
       "    </tr>\n",
       "    <tr>\n",
       "      <th>324</th>\n",
       "      <td>0.0</td>\n",
       "      <td>0.0</td>\n",
       "    </tr>\n",
       "    <tr>\n",
       "      <th>8492</th>\n",
       "      <td>1.0</td>\n",
       "      <td>1.0</td>\n",
       "    </tr>\n",
       "    <tr>\n",
       "      <th>3735</th>\n",
       "      <td>1.0</td>\n",
       "      <td>1.0</td>\n",
       "    </tr>\n",
       "  </tbody>\n",
       "</table>\n",
       "</div>"
      ],
      "text/plain": [
       "       Actual  Predicted\n",
       "14029     1.0        1.0\n",
       "17644     0.0        0.0\n",
       "324       0.0        0.0\n",
       "8492      1.0        1.0\n",
       "3735      1.0        1.0"
      ]
     },
     "execution_count": 146,
     "metadata": {},
     "output_type": "execute_result"
    }
   ],
   "source": [
    "dt_train_pred.head()"
   ]
  },
  {
   "cell_type": "code",
   "execution_count": 147,
   "metadata": {},
   "outputs": [
    {
     "data": {
      "text/plain": [
       "0.9823963876941022"
      ]
     },
     "execution_count": 147,
     "metadata": {},
     "output_type": "execute_result"
    }
   ],
   "source": [
    "metrics.roc_auc_score(dt_train_pred.Actual,dt_train_pred.Predicted)"
   ]
  },
  {
   "cell_type": "code",
   "execution_count": 148,
   "metadata": {},
   "outputs": [],
   "source": [
    "dt_test=dt_model.fit(train_x,train_y)"
   ]
  },
  {
   "cell_type": "code",
   "execution_count": 149,
   "metadata": {},
   "outputs": [],
   "source": [
    "dt_test_pred=pd.DataFrame({\"Actual\":test_y,\"Predicted\":dt_test.predict(test_x)})"
   ]
  },
  {
   "cell_type": "code",
   "execution_count": 150,
   "metadata": {},
   "outputs": [
    {
     "data": {
      "text/html": [
       "<div>\n",
       "<style scoped>\n",
       "    .dataframe tbody tr th:only-of-type {\n",
       "        vertical-align: middle;\n",
       "    }\n",
       "\n",
       "    .dataframe tbody tr th {\n",
       "        vertical-align: top;\n",
       "    }\n",
       "\n",
       "    .dataframe thead th {\n",
       "        text-align: right;\n",
       "    }\n",
       "</style>\n",
       "<table border=\"1\" class=\"dataframe\">\n",
       "  <thead>\n",
       "    <tr style=\"text-align: right;\">\n",
       "      <th></th>\n",
       "      <th>Actual</th>\n",
       "      <th>Predicted</th>\n",
       "    </tr>\n",
       "  </thead>\n",
       "  <tbody>\n",
       "    <tr>\n",
       "      <th>44</th>\n",
       "      <td>1.0</td>\n",
       "      <td>1.0</td>\n",
       "    </tr>\n",
       "    <tr>\n",
       "      <th>15921</th>\n",
       "      <td>0.0</td>\n",
       "      <td>0.0</td>\n",
       "    </tr>\n",
       "    <tr>\n",
       "      <th>10412</th>\n",
       "      <td>1.0</td>\n",
       "      <td>1.0</td>\n",
       "    </tr>\n",
       "    <tr>\n",
       "      <th>3851</th>\n",
       "      <td>1.0</td>\n",
       "      <td>1.0</td>\n",
       "    </tr>\n",
       "    <tr>\n",
       "      <th>17706</th>\n",
       "      <td>0.0</td>\n",
       "      <td>0.0</td>\n",
       "    </tr>\n",
       "  </tbody>\n",
       "</table>\n",
       "</div>"
      ],
      "text/plain": [
       "       Actual  Predicted\n",
       "44        1.0        1.0\n",
       "15921     0.0        0.0\n",
       "10412     1.0        1.0\n",
       "3851      1.0        1.0\n",
       "17706     0.0        0.0"
      ]
     },
     "execution_count": 150,
     "metadata": {},
     "output_type": "execute_result"
    }
   ],
   "source": [
    "dt_test_pred.head()"
   ]
  },
  {
   "cell_type": "code",
   "execution_count": 151,
   "metadata": {},
   "outputs": [
    {
     "data": {
      "text/plain": [
       "0.9780921926418462"
      ]
     },
     "execution_count": 151,
     "metadata": {},
     "output_type": "execute_result"
    }
   ],
   "source": [
    "metrics.roc_auc_score(dt_test_pred.Actual,dt_test_pred.Predicted)"
   ]
  },
  {
   "cell_type": "markdown",
   "metadata": {},
   "source": [
    "####  Using grid search cv for fine tunning the parameters:-"
   ]
  },
  {
   "cell_type": "code",
   "execution_count": 152,
   "metadata": {},
   "outputs": [
    {
     "name": "stderr",
     "output_type": "stream",
     "text": [
      "C:\\Users\\Vaibhav\\Anaconda3\\lib\\site-packages\\sklearn\\grid_search.py:42: DeprecationWarning: This module was deprecated in version 0.18 in favor of the model_selection module into which all the refactored classes and functions are moved. This module will be removed in 0.20.\n",
      "  DeprecationWarning)\n"
     ]
    }
   ],
   "source": [
    "from sklearn.grid_search import GridSearchCV"
   ]
  },
  {
   "cell_type": "code",
   "execution_count": null,
   "metadata": {},
   "outputs": [],
   "source": [
    "param_grid=({\"max_depth\":np.arange(3,12),\"max_features\":np.arange(3,7)})"
   ]
  },
  {
   "cell_type": "code",
   "execution_count": null,
   "metadata": {},
   "outputs": [],
   "source": [
    "gs_model=GridSearchCV(DecisionTreeClassifier(),param_grid,cv=5).fit(train_x,train_y)"
   ]
  },
  {
   "cell_type": "code",
   "execution_count": null,
   "metadata": {},
   "outputs": [],
   "source": [
    "gs_model.best_params_"
   ]
  },
  {
   "cell_type": "code",
   "execution_count": null,
   "metadata": {},
   "outputs": [],
   "source": [
    "gs_model.best_score_"
   ]
  },
  {
   "cell_type": "code",
   "execution_count": null,
   "metadata": {},
   "outputs": [],
   "source": [
    "# final Decision Tree model:-\n",
    "\n",
    "dt_final=DecisionTreeClassifier(max_depth=4,max_features=6)"
   ]
  },
  {
   "cell_type": "code",
   "execution_count": null,
   "metadata": {},
   "outputs": [],
   "source": [
    "dt_final_test=dt_final.fit(test_x,test_y)"
   ]
  },
  {
   "cell_type": "code",
   "execution_count": null,
   "metadata": {},
   "outputs": [],
   "source": [
    "dt_test_pred=pd.DataFrame({'Actual':test_y,'Predicted':dt_final_test.predict(test_x)})"
   ]
  },
  {
   "cell_type": "code",
   "execution_count": null,
   "metadata": {},
   "outputs": [],
   "source": [
    "dt_test_pred.head()"
   ]
  },
  {
   "cell_type": "code",
   "execution_count": null,
   "metadata": {},
   "outputs": [],
   "source": [
    "metrics.accuracy_score(dt_test_pred.Actual,dt_test_pred.Predicted)"
   ]
  },
  {
   "cell_type": "markdown",
   "metadata": {},
   "source": [
    "### Result:-\n",
    "####            Model working good for all different time windows datset, it predict values with almost same accuracy. Churn is highly depends on Activity description, avg donation and recency. Random forest model perform better as compair to other models. "
   ]
  },
  {
   "cell_type": "code",
   "execution_count": 155,
   "metadata": {},
   "outputs": [
    {
     "data": {
      "text/plain": [
       "Index(['churn', 'pred', 'Predicted'], dtype='object')"
      ]
     },
     "execution_count": 155,
     "metadata": {},
     "output_type": "execute_result"
    }
   ],
   "source": [
    "train_pred.columns"
   ]
  },
  {
   "cell_type": "markdown",
   "metadata": {},
   "source": [
    "### Performing Decile Analysis:-"
   ]
  },
  {
   "cell_type": "code",
   "execution_count": 157,
   "metadata": {},
   "outputs": [],
   "source": [
    "train_pred[\"Deciles\"]=pd.qcut(train_pred[\"pred\"],10,labels=False)"
   ]
  },
  {
   "cell_type": "code",
   "execution_count": 159,
   "metadata": {},
   "outputs": [
    {
     "data": {
      "text/html": [
       "<div>\n",
       "<style scoped>\n",
       "    .dataframe tbody tr th:only-of-type {\n",
       "        vertical-align: middle;\n",
       "    }\n",
       "\n",
       "    .dataframe tbody tr th {\n",
       "        vertical-align: top;\n",
       "    }\n",
       "\n",
       "    .dataframe thead th {\n",
       "        text-align: right;\n",
       "    }\n",
       "</style>\n",
       "<table border=\"1\" class=\"dataframe\">\n",
       "  <thead>\n",
       "    <tr style=\"text-align: right;\">\n",
       "      <th></th>\n",
       "      <th>churn</th>\n",
       "      <th>pred</th>\n",
       "      <th>Predicted</th>\n",
       "      <th>Deciles</th>\n",
       "    </tr>\n",
       "  </thead>\n",
       "  <tbody>\n",
       "    <tr>\n",
       "      <th>68</th>\n",
       "      <td>1.0</td>\n",
       "      <td>0.311484</td>\n",
       "      <td>0.0</td>\n",
       "      <td>2</td>\n",
       "    </tr>\n",
       "    <tr>\n",
       "      <th>39</th>\n",
       "      <td>0.0</td>\n",
       "      <td>0.084865</td>\n",
       "      <td>0.0</td>\n",
       "      <td>2</td>\n",
       "    </tr>\n",
       "    <tr>\n",
       "      <th>40</th>\n",
       "      <td>0.0</td>\n",
       "      <td>0.086822</td>\n",
       "      <td>0.0</td>\n",
       "      <td>2</td>\n",
       "    </tr>\n",
       "    <tr>\n",
       "      <th>41</th>\n",
       "      <td>0.0</td>\n",
       "      <td>0.999999</td>\n",
       "      <td>1.0</td>\n",
       "      <td>9</td>\n",
       "    </tr>\n",
       "    <tr>\n",
       "      <th>43</th>\n",
       "      <td>0.0</td>\n",
       "      <td>0.084877</td>\n",
       "      <td>0.0</td>\n",
       "      <td>2</td>\n",
       "    </tr>\n",
       "  </tbody>\n",
       "</table>\n",
       "</div>"
      ],
      "text/plain": [
       "    churn      pred  Predicted  Deciles\n",
       "68    1.0  0.311484        0.0        2\n",
       "39    0.0  0.084865        0.0        2\n",
       "40    0.0  0.086822        0.0        2\n",
       "41    0.0  0.999999        1.0        9\n",
       "43    0.0  0.084877        0.0        2"
      ]
     },
     "execution_count": 159,
     "metadata": {},
     "output_type": "execute_result"
    }
   ],
   "source": [
    "train_pred.head()"
   ]
  },
  {
   "cell_type": "code",
   "execution_count": 161,
   "metadata": {},
   "outputs": [],
   "source": [
    "test_pred[\"Deciles\"]=pd.qcut(test_pred[\"pred\"],10,labels=False)"
   ]
  },
  {
   "cell_type": "code",
   "execution_count": 162,
   "metadata": {},
   "outputs": [
    {
     "data": {
      "text/html": [
       "<div>\n",
       "<style scoped>\n",
       "    .dataframe tbody tr th:only-of-type {\n",
       "        vertical-align: middle;\n",
       "    }\n",
       "\n",
       "    .dataframe tbody tr th {\n",
       "        vertical-align: top;\n",
       "    }\n",
       "\n",
       "    .dataframe thead th {\n",
       "        text-align: right;\n",
       "    }\n",
       "</style>\n",
       "<table border=\"1\" class=\"dataframe\">\n",
       "  <thead>\n",
       "    <tr style=\"text-align: right;\">\n",
       "      <th></th>\n",
       "      <th>churn</th>\n",
       "      <th>pred</th>\n",
       "      <th>Predicted</th>\n",
       "      <th>Deciles</th>\n",
       "    </tr>\n",
       "  </thead>\n",
       "  <tbody>\n",
       "    <tr>\n",
       "      <th>16179</th>\n",
       "      <td>0.0</td>\n",
       "      <td>0.021023</td>\n",
       "      <td>0.0</td>\n",
       "      <td>1</td>\n",
       "    </tr>\n",
       "    <tr>\n",
       "      <th>16177</th>\n",
       "      <td>0.0</td>\n",
       "      <td>0.022030</td>\n",
       "      <td>0.0</td>\n",
       "      <td>3</td>\n",
       "    </tr>\n",
       "    <tr>\n",
       "      <th>16176</th>\n",
       "      <td>1.0</td>\n",
       "      <td>1.000000</td>\n",
       "      <td>1.0</td>\n",
       "      <td>9</td>\n",
       "    </tr>\n",
       "    <tr>\n",
       "      <th>16175</th>\n",
       "      <td>0.0</td>\n",
       "      <td>0.021559</td>\n",
       "      <td>0.0</td>\n",
       "      <td>2</td>\n",
       "    </tr>\n",
       "    <tr>\n",
       "      <th>16174</th>\n",
       "      <td>1.0</td>\n",
       "      <td>1.000000</td>\n",
       "      <td>1.0</td>\n",
       "      <td>9</td>\n",
       "    </tr>\n",
       "  </tbody>\n",
       "</table>\n",
       "</div>"
      ],
      "text/plain": [
       "       churn      pred  Predicted  Deciles\n",
       "16179    0.0  0.021023        0.0        1\n",
       "16177    0.0  0.022030        0.0        3\n",
       "16176    1.0  1.000000        1.0        9\n",
       "16175    0.0  0.021559        0.0        2\n",
       "16174    1.0  1.000000        1.0        9"
      ]
     },
     "execution_count": 162,
     "metadata": {},
     "output_type": "execute_result"
    }
   ],
   "source": [
    "test_pred.head()"
   ]
  },
  {
   "cell_type": "code",
   "execution_count": 163,
   "metadata": {},
   "outputs": [],
   "source": [
    "train_decile_res=train_pred[[\"Deciles\",\"pred\"]].groupby(train_pred.Deciles).sum().sort_index(ascending=False)"
   ]
  },
  {
   "cell_type": "code",
   "execution_count": 164,
   "metadata": {},
   "outputs": [
    {
     "data": {
      "text/html": [
       "<div>\n",
       "<style scoped>\n",
       "    .dataframe tbody tr th:only-of-type {\n",
       "        vertical-align: middle;\n",
       "    }\n",
       "\n",
       "    .dataframe tbody tr th {\n",
       "        vertical-align: top;\n",
       "    }\n",
       "\n",
       "    .dataframe thead th {\n",
       "        text-align: right;\n",
       "    }\n",
       "</style>\n",
       "<table border=\"1\" class=\"dataframe\">\n",
       "  <thead>\n",
       "    <tr style=\"text-align: right;\">\n",
       "      <th></th>\n",
       "      <th>Deciles</th>\n",
       "      <th>pred</th>\n",
       "    </tr>\n",
       "    <tr>\n",
       "      <th>Deciles</th>\n",
       "      <th></th>\n",
       "      <th></th>\n",
       "    </tr>\n",
       "  </thead>\n",
       "  <tbody>\n",
       "    <tr>\n",
       "      <th>9</th>\n",
       "      <td>8280</td>\n",
       "      <td>919.999736</td>\n",
       "    </tr>\n",
       "    <tr>\n",
       "      <th>8</th>\n",
       "      <td>7360</td>\n",
       "      <td>919.986948</td>\n",
       "    </tr>\n",
       "    <tr>\n",
       "      <th>7</th>\n",
       "      <td>6440</td>\n",
       "      <td>918.881398</td>\n",
       "    </tr>\n",
       "    <tr>\n",
       "      <th>6</th>\n",
       "      <td>5520</td>\n",
       "      <td>913.849160</td>\n",
       "    </tr>\n",
       "    <tr>\n",
       "      <th>5</th>\n",
       "      <td>4600</td>\n",
       "      <td>913.240114</td>\n",
       "    </tr>\n",
       "    <tr>\n",
       "      <th>4</th>\n",
       "      <td>3680</td>\n",
       "      <td>912.624838</td>\n",
       "    </tr>\n",
       "    <tr>\n",
       "      <th>3</th>\n",
       "      <td>2760</td>\n",
       "      <td>813.632923</td>\n",
       "    </tr>\n",
       "    <tr>\n",
       "      <th>2</th>\n",
       "      <td>1840</td>\n",
       "      <td>114.691070</td>\n",
       "    </tr>\n",
       "    <tr>\n",
       "      <th>1</th>\n",
       "      <td>920</td>\n",
       "      <td>77.661201</td>\n",
       "    </tr>\n",
       "    <tr>\n",
       "      <th>0</th>\n",
       "      <td>0</td>\n",
       "      <td>65.432612</td>\n",
       "    </tr>\n",
       "  </tbody>\n",
       "</table>\n",
       "</div>"
      ],
      "text/plain": [
       "         Deciles        pred\n",
       "Deciles                     \n",
       "9           8280  919.999736\n",
       "8           7360  919.986948\n",
       "7           6440  918.881398\n",
       "6           5520  913.849160\n",
       "5           4600  913.240114\n",
       "4           3680  912.624838\n",
       "3           2760  813.632923\n",
       "2           1840  114.691070\n",
       "1            920   77.661201\n",
       "0              0   65.432612"
      ]
     },
     "execution_count": 164,
     "metadata": {},
     "output_type": "execute_result"
    }
   ],
   "source": [
    "train_decile_res"
   ]
  },
  {
   "cell_type": "code",
   "execution_count": 165,
   "metadata": {},
   "outputs": [],
   "source": [
    "test_decile_res=test_pred[[\"Deciles\",\"pred\"]].groupby(test_pred.Deciles).sum().sort_index(ascending=False)"
   ]
  },
  {
   "cell_type": "code",
   "execution_count": 166,
   "metadata": {},
   "outputs": [
    {
     "data": {
      "text/html": [
       "<div>\n",
       "<style scoped>\n",
       "    .dataframe tbody tr th:only-of-type {\n",
       "        vertical-align: middle;\n",
       "    }\n",
       "\n",
       "    .dataframe tbody tr th {\n",
       "        vertical-align: top;\n",
       "    }\n",
       "\n",
       "    .dataframe thead th {\n",
       "        text-align: right;\n",
       "    }\n",
       "</style>\n",
       "<table border=\"1\" class=\"dataframe\">\n",
       "  <thead>\n",
       "    <tr style=\"text-align: right;\">\n",
       "      <th></th>\n",
       "      <th>Deciles</th>\n",
       "      <th>pred</th>\n",
       "    </tr>\n",
       "    <tr>\n",
       "      <th>Deciles</th>\n",
       "      <th></th>\n",
       "      <th></th>\n",
       "    </tr>\n",
       "  </thead>\n",
       "  <tbody>\n",
       "    <tr>\n",
       "      <th>9</th>\n",
       "      <td>873</td>\n",
       "      <td>96.998261</td>\n",
       "    </tr>\n",
       "    <tr>\n",
       "      <th>8</th>\n",
       "      <td>776</td>\n",
       "      <td>96.920009</td>\n",
       "    </tr>\n",
       "    <tr>\n",
       "      <th>7</th>\n",
       "      <td>672</td>\n",
       "      <td>95.879866</td>\n",
       "    </tr>\n",
       "    <tr>\n",
       "      <th>6</th>\n",
       "      <td>582</td>\n",
       "      <td>96.856271</td>\n",
       "    </tr>\n",
       "    <tr>\n",
       "      <th>5</th>\n",
       "      <td>485</td>\n",
       "      <td>46.102619</td>\n",
       "    </tr>\n",
       "  </tbody>\n",
       "</table>\n",
       "</div>"
      ],
      "text/plain": [
       "         Deciles       pred\n",
       "Deciles                    \n",
       "9            873  96.998261\n",
       "8            776  96.920009\n",
       "7            672  95.879866\n",
       "6            582  96.856271\n",
       "5            485  46.102619"
      ]
     },
     "execution_count": 166,
     "metadata": {},
     "output_type": "execute_result"
    }
   ],
   "source": [
    "test_decile_res"
   ]
  },
  {
   "cell_type": "code",
   "execution_count": 167,
   "metadata": {},
   "outputs": [
    {
     "data": {
      "text/plain": [
       "(9201, 4)"
      ]
     },
     "execution_count": 167,
     "metadata": {},
     "output_type": "execute_result"
    }
   ],
   "source": [
    "train_pred.shape"
   ]
  },
  {
   "cell_type": "code",
   "execution_count": 170,
   "metadata": {},
   "outputs": [],
   "source": [
    "train_decile_res[\"Left_Pct\"]=((train_decile_res[\"pred\"])/(train_decile_res[\"pred\"].sum()))*100"
   ]
  },
  {
   "cell_type": "code",
   "execution_count": 169,
   "metadata": {},
   "outputs": [],
   "source": [
    "test_decile_res[\"Left_Pct\"]=((test_decile_res[\"pred\"])/(test_decile_res[\"pred\"].sum()))*100"
   ]
  },
  {
   "cell_type": "code",
   "execution_count": 172,
   "metadata": {},
   "outputs": [
    {
     "data": {
      "text/plain": [
       "(9201, 4)"
      ]
     },
     "execution_count": 172,
     "metadata": {},
     "output_type": "execute_result"
    }
   ],
   "source": [
    "train_pred.shape"
   ]
  },
  {
   "cell_type": "code",
   "execution_count": 173,
   "metadata": {},
   "outputs": [],
   "source": [
    "train_decile_res[\"Left_rate\"]=train_decile_res[\"pred\"]/9201"
   ]
  },
  {
   "cell_type": "code",
   "execution_count": 174,
   "metadata": {},
   "outputs": [
    {
     "data": {
      "text/plain": [
       "(968, 4)"
      ]
     },
     "execution_count": 174,
     "metadata": {},
     "output_type": "execute_result"
    }
   ],
   "source": [
    "test_pred.shape"
   ]
  },
  {
   "cell_type": "code",
   "execution_count": 175,
   "metadata": {},
   "outputs": [],
   "source": [
    "test_decile_res[\"Left_rate\"]=test_decile_res[\"pred\"]/968"
   ]
  },
  {
   "cell_type": "code",
   "execution_count": 176,
   "metadata": {},
   "outputs": [
    {
     "data": {
      "text/html": [
       "<div>\n",
       "<style scoped>\n",
       "    .dataframe tbody tr th:only-of-type {\n",
       "        vertical-align: middle;\n",
       "    }\n",
       "\n",
       "    .dataframe tbody tr th {\n",
       "        vertical-align: top;\n",
       "    }\n",
       "\n",
       "    .dataframe thead th {\n",
       "        text-align: right;\n",
       "    }\n",
       "</style>\n",
       "<table border=\"1\" class=\"dataframe\">\n",
       "  <thead>\n",
       "    <tr style=\"text-align: right;\">\n",
       "      <th></th>\n",
       "      <th>Deciles</th>\n",
       "      <th>pred</th>\n",
       "      <th>Left_rate</th>\n",
       "      <th>Left_Pct</th>\n",
       "    </tr>\n",
       "    <tr>\n",
       "      <th>Deciles</th>\n",
       "      <th></th>\n",
       "      <th></th>\n",
       "      <th></th>\n",
       "      <th></th>\n",
       "    </tr>\n",
       "  </thead>\n",
       "  <tbody>\n",
       "    <tr>\n",
       "      <th>9</th>\n",
       "      <td>8280</td>\n",
       "      <td>919.999736</td>\n",
       "      <td>0.099989</td>\n",
       "      <td>14.003040</td>\n",
       "    </tr>\n",
       "    <tr>\n",
       "      <th>8</th>\n",
       "      <td>7360</td>\n",
       "      <td>919.986948</td>\n",
       "      <td>0.099988</td>\n",
       "      <td>14.002845</td>\n",
       "    </tr>\n",
       "    <tr>\n",
       "      <th>7</th>\n",
       "      <td>6440</td>\n",
       "      <td>918.881398</td>\n",
       "      <td>0.099868</td>\n",
       "      <td>13.986018</td>\n",
       "    </tr>\n",
       "    <tr>\n",
       "      <th>6</th>\n",
       "      <td>5520</td>\n",
       "      <td>913.849160</td>\n",
       "      <td>0.099321</td>\n",
       "      <td>13.909424</td>\n",
       "    </tr>\n",
       "    <tr>\n",
       "      <th>5</th>\n",
       "      <td>4600</td>\n",
       "      <td>913.240114</td>\n",
       "      <td>0.099254</td>\n",
       "      <td>13.900154</td>\n",
       "    </tr>\n",
       "    <tr>\n",
       "      <th>4</th>\n",
       "      <td>3680</td>\n",
       "      <td>912.624838</td>\n",
       "      <td>0.099188</td>\n",
       "      <td>13.890789</td>\n",
       "    </tr>\n",
       "    <tr>\n",
       "      <th>3</th>\n",
       "      <td>2760</td>\n",
       "      <td>813.632923</td>\n",
       "      <td>0.088429</td>\n",
       "      <td>12.384063</td>\n",
       "    </tr>\n",
       "    <tr>\n",
       "      <th>2</th>\n",
       "      <td>1840</td>\n",
       "      <td>114.691070</td>\n",
       "      <td>0.012465</td>\n",
       "      <td>1.745678</td>\n",
       "    </tr>\n",
       "    <tr>\n",
       "      <th>1</th>\n",
       "      <td>920</td>\n",
       "      <td>77.661201</td>\n",
       "      <td>0.008441</td>\n",
       "      <td>1.182058</td>\n",
       "    </tr>\n",
       "    <tr>\n",
       "      <th>0</th>\n",
       "      <td>0</td>\n",
       "      <td>65.432612</td>\n",
       "      <td>0.007111</td>\n",
       "      <td>0.995930</td>\n",
       "    </tr>\n",
       "  </tbody>\n",
       "</table>\n",
       "</div>"
      ],
      "text/plain": [
       "         Deciles        pred  Left_rate   Left_Pct\n",
       "Deciles                                           \n",
       "9           8280  919.999736   0.099989  14.003040\n",
       "8           7360  919.986948   0.099988  14.002845\n",
       "7           6440  918.881398   0.099868  13.986018\n",
       "6           5520  913.849160   0.099321  13.909424\n",
       "5           4600  913.240114   0.099254  13.900154\n",
       "4           3680  912.624838   0.099188  13.890789\n",
       "3           2760  813.632923   0.088429  12.384063\n",
       "2           1840  114.691070   0.012465   1.745678\n",
       "1            920   77.661201   0.008441   1.182058\n",
       "0              0   65.432612   0.007111   0.995930"
      ]
     },
     "execution_count": 176,
     "metadata": {},
     "output_type": "execute_result"
    }
   ],
   "source": [
    "train_decile_res"
   ]
  },
  {
   "cell_type": "code",
   "execution_count": 177,
   "metadata": {},
   "outputs": [
    {
     "data": {
      "text/html": [
       "<div>\n",
       "<style scoped>\n",
       "    .dataframe tbody tr th:only-of-type {\n",
       "        vertical-align: middle;\n",
       "    }\n",
       "\n",
       "    .dataframe tbody tr th {\n",
       "        vertical-align: top;\n",
       "    }\n",
       "\n",
       "    .dataframe thead th {\n",
       "        text-align: right;\n",
       "    }\n",
       "</style>\n",
       "<table border=\"1\" class=\"dataframe\">\n",
       "  <thead>\n",
       "    <tr style=\"text-align: right;\">\n",
       "      <th></th>\n",
       "      <th>Deciles</th>\n",
       "      <th>pred</th>\n",
       "      <th>Left_Pct</th>\n",
       "      <th>Left_rate</th>\n",
       "    </tr>\n",
       "    <tr>\n",
       "      <th>Deciles</th>\n",
       "      <th></th>\n",
       "      <th></th>\n",
       "      <th></th>\n",
       "      <th></th>\n",
       "    </tr>\n",
       "  </thead>\n",
       "  <tbody>\n",
       "    <tr>\n",
       "      <th>9</th>\n",
       "      <td>873</td>\n",
       "      <td>96.998261</td>\n",
       "      <td>21.895770</td>\n",
       "      <td>0.100205</td>\n",
       "    </tr>\n",
       "    <tr>\n",
       "      <th>8</th>\n",
       "      <td>776</td>\n",
       "      <td>96.920009</td>\n",
       "      <td>21.878106</td>\n",
       "      <td>0.100124</td>\n",
       "    </tr>\n",
       "    <tr>\n",
       "      <th>7</th>\n",
       "      <td>672</td>\n",
       "      <td>95.879866</td>\n",
       "      <td>21.643311</td>\n",
       "      <td>0.099049</td>\n",
       "    </tr>\n",
       "    <tr>\n",
       "      <th>6</th>\n",
       "      <td>582</td>\n",
       "      <td>96.856271</td>\n",
       "      <td>21.863718</td>\n",
       "      <td>0.100058</td>\n",
       "    </tr>\n",
       "    <tr>\n",
       "      <th>5</th>\n",
       "      <td>485</td>\n",
       "      <td>46.102619</td>\n",
       "      <td>10.406912</td>\n",
       "      <td>0.047627</td>\n",
       "    </tr>\n",
       "    <tr>\n",
       "      <th>4</th>\n",
       "      <td>388</td>\n",
       "      <td>2.750340</td>\n",
       "      <td>0.620844</td>\n",
       "      <td>0.002841</td>\n",
       "    </tr>\n",
       "    <tr>\n",
       "      <th>3</th>\n",
       "      <td>288</td>\n",
       "      <td>2.141260</td>\n",
       "      <td>0.483354</td>\n",
       "      <td>0.002212</td>\n",
       "    </tr>\n",
       "    <tr>\n",
       "      <th>2</th>\n",
       "      <td>186</td>\n",
       "      <td>2.002977</td>\n",
       "      <td>0.452139</td>\n",
       "      <td>0.002069</td>\n",
       "    </tr>\n",
       "    <tr>\n",
       "      <th>1</th>\n",
       "      <td>101</td>\n",
       "      <td>2.095565</td>\n",
       "      <td>0.473040</td>\n",
       "      <td>0.002165</td>\n",
       "    </tr>\n",
       "    <tr>\n",
       "      <th>0</th>\n",
       "      <td>0</td>\n",
       "      <td>1.252833</td>\n",
       "      <td>0.282806</td>\n",
       "      <td>0.001294</td>\n",
       "    </tr>\n",
       "  </tbody>\n",
       "</table>\n",
       "</div>"
      ],
      "text/plain": [
       "         Deciles       pred   Left_Pct  Left_rate\n",
       "Deciles                                          \n",
       "9            873  96.998261  21.895770   0.100205\n",
       "8            776  96.920009  21.878106   0.100124\n",
       "7            672  95.879866  21.643311   0.099049\n",
       "6            582  96.856271  21.863718   0.100058\n",
       "5            485  46.102619  10.406912   0.047627\n",
       "4            388   2.750340   0.620844   0.002841\n",
       "3            288   2.141260   0.483354   0.002212\n",
       "2            186   2.002977   0.452139   0.002069\n",
       "1            101   2.095565   0.473040   0.002165\n",
       "0              0   1.252833   0.282806   0.001294"
      ]
     },
     "execution_count": 177,
     "metadata": {},
     "output_type": "execute_result"
    }
   ],
   "source": [
    "test_decile_res"
   ]
  },
  {
   "cell_type": "raw",
   "metadata": {},
   "source": [
    "Result:-\n",
    "Model is  consistent for training data as well as testing data.\n",
    "   "
   ]
  },
  {
   "cell_type": "code",
   "execution_count": null,
   "metadata": {},
   "outputs": [],
   "source": []
  }
 ],
 "metadata": {
  "kernelspec": {
   "display_name": "Python 3",
   "language": "python",
   "name": "python3"
  },
  "language_info": {
   "codemirror_mode": {
    "name": "ipython",
    "version": 3
   },
   "file_extension": ".py",
   "mimetype": "text/x-python",
   "name": "python",
   "nbconvert_exporter": "python",
   "pygments_lexer": "ipython3",
   "version": "3.6.4"
  }
 },
 "nbformat": 4,
 "nbformat_minor": 2
}
